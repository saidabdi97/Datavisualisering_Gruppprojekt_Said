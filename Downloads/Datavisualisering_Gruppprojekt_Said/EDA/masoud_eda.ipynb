{
 "cells": [
  {
   "cell_type": "markdown",
   "id": "5b259cd3",
   "metadata": {},
   "source": [
    "# beviljade ansökningar för kurser 2024 och 2023"
   ]
  },
  {
   "cell_type": "code",
   "execution_count": 24,
   "id": "464f15f1",
   "metadata": {},
   "outputs": [
    {
     "name": "stdout",
     "output_type": "stream",
     "text": [
      "['Lista ansökningar', 'Beviljade ansökningar', 'Lista flera kommuner', 'Definitioner och förklaringar']\n"
     ]
    }
   ],
   "source": [
    "import pandas as pd\n",
    "import duckdb\n",
    "\n",
    "xls = pd.ExcelFile(\"data/resultat-2024-for-kurser-inom-yh (1).xlsx\")\n",
    "\n",
    "print(xls.sheet_names)\n"
   ]
  },
  {
   "cell_type": "code",
   "execution_count": 25,
   "id": "5b2631cd",
   "metadata": {},
   "outputs": [
    {
     "data": {
      "text/html": [
       "<div>\n",
       "<style scoped>\n",
       "    .dataframe tbody tr th:only-of-type {\n",
       "        vertical-align: middle;\n",
       "    }\n",
       "\n",
       "    .dataframe tbody tr th {\n",
       "        vertical-align: top;\n",
       "    }\n",
       "\n",
       "    .dataframe thead th {\n",
       "        text-align: right;\n",
       "    }\n",
       "</style>\n",
       "<table border=\"1\" class=\"dataframe\">\n",
       "  <thead>\n",
       "    <tr style=\"text-align: right;\">\n",
       "      <th></th>\n",
       "      <th>Diarienummer</th>\n",
       "      <th>Beslut</th>\n",
       "      <th>Anordnare namn</th>\n",
       "      <th>Utbildningsnamn</th>\n",
       "      <th>Utbildningsområde</th>\n",
       "      <th>Antal beviljade platser start 2024</th>\n",
       "      <th>Antal beviljade platser start och slut 2024</th>\n",
       "      <th>Antal beviljade platser start 2025</th>\n",
       "      <th>Totalt antal beviljade platser</th>\n",
       "      <th>YH-poäng</th>\n",
       "      <th>Kommun</th>\n",
       "      <th>Län</th>\n",
       "      <th>FA-region</th>\n",
       "      <th>Antal kommuner</th>\n",
       "      <th>Antal län</th>\n",
       "      <th>Antal FA-regioner</th>\n",
       "    </tr>\n",
       "  </thead>\n",
       "  <tbody>\n",
       "    <tr>\n",
       "      <th>0</th>\n",
       "      <td>MYH 2024/1000</td>\n",
       "      <td>Avslag</td>\n",
       "      <td>Changemaker Educations AB</td>\n",
       "      <td>Futuregames Accessible Game Production</td>\n",
       "      <td>Juridik</td>\n",
       "      <td>0</td>\n",
       "      <td>0</td>\n",
       "      <td>0</td>\n",
       "      <td>0</td>\n",
       "      <td>25</td>\n",
       "      <td>Se \"Lista flera kommuner\"</td>\n",
       "      <td>Se \"Lista flera kommuner\"</td>\n",
       "      <td>Se \"Lista flera kommuner\"</td>\n",
       "      <td>3</td>\n",
       "      <td>3</td>\n",
       "      <td>3</td>\n",
       "    </tr>\n",
       "    <tr>\n",
       "      <th>1</th>\n",
       "      <td>MYH 2024/1001</td>\n",
       "      <td>Avslag</td>\n",
       "      <td>Changemaker Educations AB</td>\n",
       "      <td>Futuregames Inclusive Game Development</td>\n",
       "      <td>Ekonomi, administration och försäljning</td>\n",
       "      <td>0</td>\n",
       "      <td>0</td>\n",
       "      <td>0</td>\n",
       "      <td>0</td>\n",
       "      <td>25</td>\n",
       "      <td>Se \"Lista flera kommuner\"</td>\n",
       "      <td>Se \"Lista flera kommuner\"</td>\n",
       "      <td>Se \"Lista flera kommuner\"</td>\n",
       "      <td>3</td>\n",
       "      <td>3</td>\n",
       "      <td>3</td>\n",
       "    </tr>\n",
       "    <tr>\n",
       "      <th>2</th>\n",
       "      <td>MYH 2024/1002</td>\n",
       "      <td>Avslag</td>\n",
       "      <td>Båstads kommun Akademi Båstad</td>\n",
       "      <td>Ekosystemtjänster i praktiken</td>\n",
       "      <td>Lantbruk, djurvård, trädgård, skog och fiske</td>\n",
       "      <td>0</td>\n",
       "      <td>0</td>\n",
       "      <td>0</td>\n",
       "      <td>0</td>\n",
       "      <td>50</td>\n",
       "      <td>Båstad</td>\n",
       "      <td>Skåne</td>\n",
       "      <td>Malmö-Lund</td>\n",
       "      <td>1</td>\n",
       "      <td>1</td>\n",
       "      <td>1</td>\n",
       "    </tr>\n",
       "    <tr>\n",
       "      <th>3</th>\n",
       "      <td>MYH 2024/1003</td>\n",
       "      <td>Avslag</td>\n",
       "      <td>Båstads kommun Akademi Båstad</td>\n",
       "      <td>Hållbar dagvattenhantering i praktiken</td>\n",
       "      <td>Lantbruk, djurvård, trädgård, skog och fiske</td>\n",
       "      <td>0</td>\n",
       "      <td>0</td>\n",
       "      <td>0</td>\n",
       "      <td>0</td>\n",
       "      <td>50</td>\n",
       "      <td>Båstad</td>\n",
       "      <td>Skåne</td>\n",
       "      <td>Malmö-Lund</td>\n",
       "      <td>1</td>\n",
       "      <td>1</td>\n",
       "      <td>1</td>\n",
       "    </tr>\n",
       "    <tr>\n",
       "      <th>4</th>\n",
       "      <td>MYH 2024/1004</td>\n",
       "      <td>Avslag</td>\n",
       "      <td>Båstads kommun Akademi Båstad</td>\n",
       "      <td>Invasiva växter i utemiljöer</td>\n",
       "      <td>Lantbruk, djurvård, trädgård, skog och fiske</td>\n",
       "      <td>0</td>\n",
       "      <td>0</td>\n",
       "      <td>0</td>\n",
       "      <td>0</td>\n",
       "      <td>25</td>\n",
       "      <td>Båstad</td>\n",
       "      <td>Skåne</td>\n",
       "      <td>Malmö-Lund</td>\n",
       "      <td>1</td>\n",
       "      <td>1</td>\n",
       "      <td>1</td>\n",
       "    </tr>\n",
       "  </tbody>\n",
       "</table>\n",
       "</div>"
      ],
      "text/plain": [
       "    Diarienummer  Beslut                 Anordnare namn  \\\n",
       "0  MYH 2024/1000  Avslag      Changemaker Educations AB   \n",
       "1  MYH 2024/1001  Avslag      Changemaker Educations AB   \n",
       "2  MYH 2024/1002  Avslag  Båstads kommun Akademi Båstad   \n",
       "3  MYH 2024/1003  Avslag  Båstads kommun Akademi Båstad   \n",
       "4  MYH 2024/1004  Avslag  Båstads kommun Akademi Båstad   \n",
       "\n",
       "                           Utbildningsnamn  \\\n",
       "0  Futuregames Accessible Game Production    \n",
       "1   Futuregames Inclusive Game Development   \n",
       "2            Ekosystemtjänster i praktiken   \n",
       "3   Hållbar dagvattenhantering i praktiken   \n",
       "4             Invasiva växter i utemiljöer   \n",
       "\n",
       "                              Utbildningsområde  \\\n",
       "0                                       Juridik   \n",
       "1       Ekonomi, administration och försäljning   \n",
       "2  Lantbruk, djurvård, trädgård, skog och fiske   \n",
       "3  Lantbruk, djurvård, trädgård, skog och fiske   \n",
       "4  Lantbruk, djurvård, trädgård, skog och fiske   \n",
       "\n",
       "   Antal beviljade platser start 2024  \\\n",
       "0                                   0   \n",
       "1                                   0   \n",
       "2                                   0   \n",
       "3                                   0   \n",
       "4                                   0   \n",
       "\n",
       "   Antal beviljade platser start och slut 2024  \\\n",
       "0                                            0   \n",
       "1                                            0   \n",
       "2                                            0   \n",
       "3                                            0   \n",
       "4                                            0   \n",
       "\n",
       "   Antal beviljade platser start 2025  Totalt antal beviljade platser  \\\n",
       "0                                   0                               0   \n",
       "1                                   0                               0   \n",
       "2                                   0                               0   \n",
       "3                                   0                               0   \n",
       "4                                   0                               0   \n",
       "\n",
       "   YH-poäng                     Kommun                        Län  \\\n",
       "0        25  Se \"Lista flera kommuner\"  Se \"Lista flera kommuner\"   \n",
       "1        25  Se \"Lista flera kommuner\"  Se \"Lista flera kommuner\"   \n",
       "2        50                     Båstad                      Skåne   \n",
       "3        50                     Båstad                      Skåne   \n",
       "4        25                     Båstad                      Skåne   \n",
       "\n",
       "                   FA-region  Antal kommuner  Antal län  Antal FA-regioner  \n",
       "0  Se \"Lista flera kommuner\"               3          3                  3  \n",
       "1  Se \"Lista flera kommuner\"               3          3                  3  \n",
       "2                 Malmö-Lund               1          1                  1  \n",
       "3                 Malmö-Lund               1          1                  1  \n",
       "4                 Malmö-Lund               1          1                  1  "
      ]
     },
     "execution_count": 25,
     "metadata": {},
     "output_type": "execute_result"
    }
   ],
   "source": [
    "df_resultat_2024 = pd.read_excel(\"data/resultat-2024-for-kurser-inom-yh (1).xlsx\", sheet_name=\"Lista ansökningar\")\n",
    "\n",
    "df_resultat_2024.head()"
   ]
  },
  {
   "cell_type": "code",
   "execution_count": 26,
   "id": "b9667e1c",
   "metadata": {},
   "outputs": [
    {
     "name": "stdout",
     "output_type": "stream",
     "text": [
      "Dataframe shape: (880, 16)\n"
     ]
    }
   ],
   "source": [
    "print(\"Dataframe shape:\", df_resultat_2024.shape)"
   ]
  },
  {
   "cell_type": "code",
   "execution_count": 27,
   "id": "852ffff3",
   "metadata": {},
   "outputs": [
    {
     "name": "stdout",
     "output_type": "stream",
     "text": [
      "Index(['Diarienummer', 'Beslut', 'Anordnare namn', 'Utbildningsnamn',\n",
      "       'Utbildningsområde', 'Antal beviljade platser start 2024',\n",
      "       'Antal beviljade platser start och slut 2024',\n",
      "       'Antal beviljade platser start 2025', 'Totalt antal beviljade platser',\n",
      "       'YH-poäng', 'Kommun', 'Län', 'FA-region', 'Antal kommuner', 'Antal län',\n",
      "       'Antal FA-regioner'],\n",
      "      dtype='object')\n"
     ]
    }
   ],
   "source": [
    "print(df_resultat_2024.columns)"
   ]
  },
  {
   "cell_type": "code",
   "execution_count": 28,
   "id": "dfa4d668",
   "metadata": {},
   "outputs": [
    {
     "name": "stdout",
     "output_type": "stream",
     "text": [
      "<class 'pandas.core.frame.DataFrame'>\n",
      "RangeIndex: 880 entries, 0 to 879\n",
      "Data columns (total 16 columns):\n",
      " #   Column                                       Non-Null Count  Dtype \n",
      "---  ------                                       --------------  ----- \n",
      " 0   Diarienummer                                 880 non-null    object\n",
      " 1   Beslut                                       880 non-null    object\n",
      " 2   Anordnare namn                               880 non-null    object\n",
      " 3   Utbildningsnamn                              880 non-null    object\n",
      " 4   Utbildningsområde                            880 non-null    object\n",
      " 5   Antal beviljade platser start 2024           880 non-null    int64 \n",
      " 6   Antal beviljade platser start och slut 2024  880 non-null    int64 \n",
      " 7   Antal beviljade platser start 2025           880 non-null    int64 \n",
      " 8   Totalt antal beviljade platser               880 non-null    int64 \n",
      " 9   YH-poäng                                     880 non-null    int64 \n",
      " 10  Kommun                                       880 non-null    object\n",
      " 11  Län                                          880 non-null    object\n",
      " 12  FA-region                                    880 non-null    object\n",
      " 13  Antal kommuner                               880 non-null    int64 \n",
      " 14  Antal län                                    880 non-null    int64 \n",
      " 15  Antal FA-regioner                            880 non-null    int64 \n",
      "dtypes: int64(8), object(8)\n",
      "memory usage: 110.1+ KB\n"
     ]
    }
   ],
   "source": [
    "df_resultat_2024.info()"
   ]
  },
  {
   "cell_type": "code",
   "execution_count": 29,
   "id": "9650e122",
   "metadata": {},
   "outputs": [
    {
     "data": {
      "text/html": [
       "<div>\n",
       "<style scoped>\n",
       "    .dataframe tbody tr th:only-of-type {\n",
       "        vertical-align: middle;\n",
       "    }\n",
       "\n",
       "    .dataframe tbody tr th {\n",
       "        vertical-align: top;\n",
       "    }\n",
       "\n",
       "    .dataframe thead th {\n",
       "        text-align: right;\n",
       "    }\n",
       "</style>\n",
       "<table border=\"1\" class=\"dataframe\">\n",
       "  <thead>\n",
       "    <tr style=\"text-align: right;\">\n",
       "      <th></th>\n",
       "      <th>Antal beviljade platser start 2024</th>\n",
       "      <th>Antal beviljade platser start och slut 2024</th>\n",
       "      <th>Antal beviljade platser start 2025</th>\n",
       "      <th>Totalt antal beviljade platser</th>\n",
       "      <th>YH-poäng</th>\n",
       "      <th>Antal kommuner</th>\n",
       "      <th>Antal län</th>\n",
       "      <th>Antal FA-regioner</th>\n",
       "    </tr>\n",
       "  </thead>\n",
       "  <tbody>\n",
       "    <tr>\n",
       "      <th>count</th>\n",
       "      <td>880.000000</td>\n",
       "      <td>880.000000</td>\n",
       "      <td>880.000000</td>\n",
       "      <td>880.000000</td>\n",
       "      <td>880.000000</td>\n",
       "      <td>880.000000</td>\n",
       "      <td>880.000000</td>\n",
       "      <td>880.000000</td>\n",
       "    </tr>\n",
       "    <tr>\n",
       "      <th>mean</th>\n",
       "      <td>9.462500</td>\n",
       "      <td>8.592045</td>\n",
       "      <td>9.171591</td>\n",
       "      <td>27.226136</td>\n",
       "      <td>41.563636</td>\n",
       "      <td>1.365909</td>\n",
       "      <td>1.343182</td>\n",
       "      <td>1.343182</td>\n",
       "    </tr>\n",
       "    <tr>\n",
       "      <th>std</th>\n",
       "      <td>17.835768</td>\n",
       "      <td>16.118678</td>\n",
       "      <td>17.092104</td>\n",
       "      <td>33.113759</td>\n",
       "      <td>19.014169</td>\n",
       "      <td>0.896319</td>\n",
       "      <td>0.862807</td>\n",
       "      <td>0.870682</td>\n",
       "    </tr>\n",
       "    <tr>\n",
       "      <th>min</th>\n",
       "      <td>0.000000</td>\n",
       "      <td>0.000000</td>\n",
       "      <td>0.000000</td>\n",
       "      <td>0.000000</td>\n",
       "      <td>10.000000</td>\n",
       "      <td>1.000000</td>\n",
       "      <td>1.000000</td>\n",
       "      <td>1.000000</td>\n",
       "    </tr>\n",
       "    <tr>\n",
       "      <th>25%</th>\n",
       "      <td>0.000000</td>\n",
       "      <td>0.000000</td>\n",
       "      <td>0.000000</td>\n",
       "      <td>0.000000</td>\n",
       "      <td>30.000000</td>\n",
       "      <td>1.000000</td>\n",
       "      <td>1.000000</td>\n",
       "      <td>1.000000</td>\n",
       "    </tr>\n",
       "    <tr>\n",
       "      <th>50%</th>\n",
       "      <td>0.000000</td>\n",
       "      <td>0.000000</td>\n",
       "      <td>0.000000</td>\n",
       "      <td>16.500000</td>\n",
       "      <td>40.000000</td>\n",
       "      <td>1.000000</td>\n",
       "      <td>1.000000</td>\n",
       "      <td>1.000000</td>\n",
       "    </tr>\n",
       "    <tr>\n",
       "      <th>75%</th>\n",
       "      <td>2.500000</td>\n",
       "      <td>4.750000</td>\n",
       "      <td>2.500000</td>\n",
       "      <td>48.500000</td>\n",
       "      <td>50.000000</td>\n",
       "      <td>1.000000</td>\n",
       "      <td>1.000000</td>\n",
       "      <td>1.000000</td>\n",
       "    </tr>\n",
       "    <tr>\n",
       "      <th>max</th>\n",
       "      <td>100.000000</td>\n",
       "      <td>80.000000</td>\n",
       "      <td>80.000000</td>\n",
       "      <td>160.000000</td>\n",
       "      <td>99.000000</td>\n",
       "      <td>5.000000</td>\n",
       "      <td>5.000000</td>\n",
       "      <td>5.000000</td>\n",
       "    </tr>\n",
       "  </tbody>\n",
       "</table>\n",
       "</div>"
      ],
      "text/plain": [
       "       Antal beviljade platser start 2024  \\\n",
       "count                          880.000000   \n",
       "mean                             9.462500   \n",
       "std                             17.835768   \n",
       "min                              0.000000   \n",
       "25%                              0.000000   \n",
       "50%                              0.000000   \n",
       "75%                              2.500000   \n",
       "max                            100.000000   \n",
       "\n",
       "       Antal beviljade platser start och slut 2024  \\\n",
       "count                                   880.000000   \n",
       "mean                                      8.592045   \n",
       "std                                      16.118678   \n",
       "min                                       0.000000   \n",
       "25%                                       0.000000   \n",
       "50%                                       0.000000   \n",
       "75%                                       4.750000   \n",
       "max                                      80.000000   \n",
       "\n",
       "       Antal beviljade platser start 2025  Totalt antal beviljade platser  \\\n",
       "count                          880.000000                      880.000000   \n",
       "mean                             9.171591                       27.226136   \n",
       "std                             17.092104                       33.113759   \n",
       "min                              0.000000                        0.000000   \n",
       "25%                              0.000000                        0.000000   \n",
       "50%                              0.000000                       16.500000   \n",
       "75%                              2.500000                       48.500000   \n",
       "max                             80.000000                      160.000000   \n",
       "\n",
       "         YH-poäng  Antal kommuner   Antal län  Antal FA-regioner  \n",
       "count  880.000000      880.000000  880.000000         880.000000  \n",
       "mean    41.563636        1.365909    1.343182           1.343182  \n",
       "std     19.014169        0.896319    0.862807           0.870682  \n",
       "min     10.000000        1.000000    1.000000           1.000000  \n",
       "25%     30.000000        1.000000    1.000000           1.000000  \n",
       "50%     40.000000        1.000000    1.000000           1.000000  \n",
       "75%     50.000000        1.000000    1.000000           1.000000  \n",
       "max     99.000000        5.000000    5.000000           5.000000  "
      ]
     },
     "execution_count": 29,
     "metadata": {},
     "output_type": "execute_result"
    }
   ],
   "source": [
    "df_resultat_2024.describe()"
   ]
  },
  {
   "cell_type": "code",
   "execution_count": 30,
   "id": "a0bde268",
   "metadata": {},
   "outputs": [
    {
     "data": {
      "image/png": "[encoded data removed]",
      "text/plain": [
       "<Figure size 1200x600 with 1 Axes>"
      ]
     },
     "metadata": {},
     "output_type": "display_data"
    }
   ],
   "source": [
    "import pandas as pd\n",
    "import matplotlib.pyplot as plt\n",
    "\n",
    "\n",
    "agg_data = df_resultat_2024.groupby(\"Utbildningsområde\")[\"Antal beviljade platser start 2024\"].sum().reset_index()\n",
    "\n",
    "\n",
    "plt.figure(figsize=(12, 6))\n",
    "\n",
    "\n",
    "plt.bar(agg_data[\"Utbildningsområde\"], agg_data[\"Antal beviljade platser start 2024\"], color=\"skyblue\")\n",
    "\n",
    "plt.xlabel(\"Utbildningsområde\")\n",
    "plt.ylabel(\"Totalt antal beviljade platser\")\n",
    "plt.title(\"Totalt antal beviljade platser per Utbildningsområde 2024\")\n",
    "\n",
    "\n",
    "plt.xticks(rotation=45, ha=\"right\")\n",
    "\n",
    "\n",
    "plt.tight_layout()\n",
    "\n",
    "\n",
    "plt.show()"
   ]
  },
  {
   "cell_type": "code",
   "execution_count": 31,
   "id": "b0b1ee85",
   "metadata": {},
   "outputs": [
    {
     "data": {
      "application/vnd.plotly.v1+json": {
       "config": {
        "plotlyServerURL": "https://plot.ly"
       },
       "data": [
        {
         "hovertemplate": "Utbildningsområde=%{x}<br>Totalt antal beviljade platser=%{y}<extra></extra>",
         "legendgroup": "",
         "marker": {
          "color": "#636efa",
          "pattern": {
           "shape": ""
          }
         },
         "name": "",
         "orientation": "v",
         "showlegend": false,
         "textposition": "auto",
         "type": "bar",
         "x": [
          "Data/IT",
          "Ekonomi, administration och försäljning",
          "Friskvård och kroppsvård",
          "Hotell, restaurang och turism",
          "Hälso- och sjukvård samt socialt arbete",
          "Journalistik och information",
          "Juridik",
          "Kultur, media och design",
          "Lantbruk, djurvård, trädgård, skog och fiske",
          "Pedagogik och undervisning",
          "Samhällsbyggnad och byggteknik",
          "Säkerhetstjänster",
          "Teknik och tillverkning",
          "Transporttjänster"
         ],
         "xaxis": "x",
         "y": {
          "bdata": "swUGCwAAhAB0BEsAggAUAHcAcwCNBFUAEAQZAA==",
          "dtype": "i2"
         },
         "yaxis": "y"
        }
       ],
       "layout": {
        "barmode": "relative",
        "height": 600,
        "legend": {
         "tracegroupgap": 0
        },
        "template": {
         "data": {
          "bar": [
           {
            "error_x": {
             "color": "#2a3f5f"
            },
            "error_y": {
             "color": "#2a3f5f"
            },
            "marker": {
             "line": {
              "color": "#E5ECF6",
              "width": 0.5
             },
             "pattern": {
              "fillmode": "overlay",
              "size": 10,
              "solidity": 0.2
             }
            },
            "type": "bar"
           }
          ],
          "barpolar": [
           {
            "marker": {
             "line": {
              "color": "#E5ECF6",
              "width": 0.5
             },
             "pattern": {
              "fillmode": "overlay",
              "size": 10,
              "solidity": 0.2
             }
            },
            "type": "barpolar"
           }
          ],
          "carpet": [
           {
            "aaxis": {
             "endlinecolor": "#2a3f5f",
             "gridcolor": "white",
             "linecolor": "white",
             "minorgridcolor": "white",
             "startlinecolor": "#2a3f5f"
            },
            "baxis": {
             "endlinecolor": "#2a3f5f",
             "gridcolor": "white",
             "linecolor": "white",
             "minorgridcolor": "white",
             "startlinecolor": "#2a3f5f"
            },
            "type": "carpet"
           }
          ],
          "choropleth": [
           {
            "colorbar": {
             "outlinewidth": 0,
             "ticks": ""
            },
            "type": "choropleth"
           }
          ],
          "contour": [
           {
            "colorbar": {
             "outlinewidth": 0,
             "ticks": ""
            },
            "colorscale": [
             [
              0,
              "#0d0887"
             ],
             [
              0.1111111111111111,
              "#46039f"
             ],
             [
              0.2222222222222222,
              "#7201a8"
             ],
             [
              0.3333333333333333,
              "#9c179e"
             ],
             [
              0.4444444444444444,
              "#bd3786"
             ],
             [
              0.5555555555555556,
              "#d8576b"
             ],
             [
              0.6666666666666666,
              "#ed7953"
             ],
             [
              0.7777777777777778,
              "#fb9f3a"
             ],
             [
              0.8888888888888888,
              "#fdca26"
             ],
             [
              1,
              "#f0f921"
             ]
            ],
            "type": "contour"
           }
          ],
          "contourcarpet": [
           {
            "colorbar": {
             "outlinewidth": 0,
             "ticks": ""
            },
            "type": "contourcarpet"
           }
          ],
          "heatmap": [
           {
            "colorbar": {
             "outlinewidth": 0,
             "ticks": ""
            },
            "colorscale": [
             [
              0,
              "#0d0887"
             ],
             [
              0.1111111111111111,
              "#46039f"
             ],
             [
              0.2222222222222222,
              "#7201a8"
             ],
             [
              0.3333333333333333,
              "#9c179e"
             ],
             [
              0.4444444444444444,
              "#bd3786"
             ],
             [
              0.5555555555555556,
              "#d8576b"
             ],
             [
              0.6666666666666666,
              "#ed7953"
             ],
             [
              0.7777777777777778,
              "#fb9f3a"
             ],
             [
              0.8888888888888888,
              "#fdca26"
             ],
             [
              1,
              "#f0f921"
             ]
            ],
            "type": "heatmap"
           }
          ],
          "histogram": [
           {
            "marker": {
             "pattern": {
              "fillmode": "overlay",
              "size": 10,
              "solidity": 0.2
             }
            },
            "type": "histogram"
           }
          ],
          "histogram2d": [
           {
            "colorbar": {
             "outlinewidth": 0,
             "ticks": ""
            },
            "colorscale": [
             [
              0,
              "#0d0887"
             ],
             [
              0.1111111111111111,
              "#46039f"
             ],
             [
              0.2222222222222222,
              "#7201a8"
             ],
             [
              0.3333333333333333,
              "#9c179e"
             ],
             [
              0.4444444444444444,
              "#bd3786"
             ],
             [
              0.5555555555555556,
              "#d8576b"
             ],
             [
              0.6666666666666666,
              "#ed7953"
             ],
             [
              0.7777777777777778,
              "#fb9f3a"
             ],
             [
              0.8888888888888888,
              "#fdca26"
             ],
             [
              1,
              "#f0f921"
             ]
            ],
            "type": "histogram2d"
           }
          ],
          "histogram2dcontour": [
           {
            "colorbar": {
             "outlinewidth": 0,
             "ticks": ""
            },
            "colorscale": [
             [
              0,
              "#0d0887"
             ],
             [
              0.1111111111111111,
              "#46039f"
             ],
             [
              0.2222222222222222,
              "#7201a8"
             ],
             [
              0.3333333333333333,
              "#9c179e"
             ],
             [
              0.4444444444444444,
              "#bd3786"
             ],
             [
              0.5555555555555556,
              "#d8576b"
             ],
             [
              0.6666666666666666,
              "#ed7953"
             ],
             [
              0.7777777777777778,
              "#fb9f3a"
             ],
             [
              0.8888888888888888,
              "#fdca26"
             ],
             [
              1,
              "#f0f921"
             ]
            ],
            "type": "histogram2dcontour"
           }
          ],
          "mesh3d": [
           {
            "colorbar": {
             "outlinewidth": 0,
             "ticks": ""
            },
            "type": "mesh3d"
           }
          ],
          "parcoords": [
           {
            "line": {
             "colorbar": {
              "outlinewidth": 0,
              "ticks": ""
             }
            },
            "type": "parcoords"
           }
          ],
          "pie": [
           {
            "automargin": true,
            "type": "pie"
           }
          ],
          "scatter": [
           {
            "fillpattern": {
             "fillmode": "overlay",
             "size": 10,
             "solidity": 0.2
            },
            "type": "scatter"
           }
          ],
          "scatter3d": [
           {
            "line": {
             "colorbar": {
              "outlinewidth": 0,
              "ticks": ""
             }
            },
            "marker": {
             "colorbar": {
              "outlinewidth": 0,
              "ticks": ""
             }
            },
            "type": "scatter3d"
           }
          ],
          "scattercarpet": [
           {
            "marker": {
             "colorbar": {
              "outlinewidth": 0,
              "ticks": ""
             }
            },
            "type": "scattercarpet"
           }
          ],
          "scattergeo": [
           {
            "marker": {
             "colorbar": {
              "outlinewidth": 0,
              "ticks": ""
             }
            },
            "type": "scattergeo"
           }
          ],
          "scattergl": [
           {
            "marker": {
             "colorbar": {
              "outlinewidth": 0,
              "ticks": ""
             }
            },
            "type": "scattergl"
           }
          ],
          "scattermap": [
           {
            "marker": {
             "colorbar": {
              "outlinewidth": 0,
              "ticks": ""
             }
            },
            "type": "scattermap"
           }
          ],
          "scattermapbox": [
           {
            "marker": {
             "colorbar": {
              "outlinewidth": 0,
              "ticks": ""
             }
            },
            "type": "scattermapbox"
           }
          ],
          "scatterpolar": [
           {
            "marker": {
             "colorbar": {
              "outlinewidth": 0,
              "ticks": ""
             }
            },
            "type": "scatterpolar"
           }
          ],
          "scatterpolargl": [
           {
            "marker": {
             "colorbar": {
              "outlinewidth": 0,
              "ticks": ""
             }
            },
            "type": "scatterpolargl"
           }
          ],
          "scatterternary": [
           {
            "marker": {
             "colorbar": {
              "outlinewidth": 0,
              "ticks": ""
             }
            },
            "type": "scatterternary"
           }
          ],
          "surface": [
           {
            "colorbar": {
             "outlinewidth": 0,
             "ticks": ""
            },
            "colorscale": [
             [
              0,
              "#0d0887"
             ],
             [
              0.1111111111111111,
              "#46039f"
             ],
             [
              0.2222222222222222,
              "#7201a8"
             ],
             [
              0.3333333333333333,
              "#9c179e"
             ],
             [
              0.4444444444444444,
              "#bd3786"
             ],
             [
              0.5555555555555556,
              "#d8576b"
             ],
             [
              0.6666666666666666,
              "#ed7953"
             ],
             [
              0.7777777777777778,
              "#fb9f3a"
             ],
             [
              0.8888888888888888,
              "#fdca26"
             ],
             [
              1,
              "#f0f921"
             ]
            ],
            "type": "surface"
           }
          ],
          "table": [
           {
            "cells": {
             "fill": {
              "color": "#EBF0F8"
             },
             "line": {
              "color": "white"
             }
            },
            "header": {
             "fill": {
              "color": "#C8D4E3"
             },
             "line": {
              "color": "white"
             }
            },
            "type": "table"
           }
          ]
         },
         "layout": {
          "annotationdefaults": {
           "arrowcolor": "#2a3f5f",
           "arrowhead": 0,
           "arrowwidth": 1
          },
          "autotypenumbers": "strict",
          "coloraxis": {
           "colorbar": {
            "outlinewidth": 0,
            "ticks": ""
           }
          },
          "colorscale": {
           "diverging": [
            [
             0,
             "#8e0152"
            ],
            [
             0.1,
             "#c51b7d"
            ],
            [
             0.2,
             "#de77ae"
            ],
            [
             0.3,
             "#f1b6da"
            ],
            [
             0.4,
             "#fde0ef"
            ],
            [
             0.5,
             "#f7f7f7"
            ],
            [
             0.6,
             "#e6f5d0"
            ],
            [
             0.7,
             "#b8e186"
            ],
            [
             0.8,
             "#7fbc41"
            ],
            [
             0.9,
             "#4d9221"
            ],
            [
             1,
             "#276419"
            ]
           ],
           "sequential": [
            [
             0,
             "#0d0887"
            ],
            [
             0.1111111111111111,
             "#46039f"
            ],
            [
             0.2222222222222222,
             "#7201a8"
            ],
            [
             0.3333333333333333,
             "#9c179e"
            ],
            [
             0.4444444444444444,
             "#bd3786"
            ],
            [
             0.5555555555555556,
             "#d8576b"
            ],
            [
             0.6666666666666666,
             "#ed7953"
            ],
            [
             0.7777777777777778,
             "#fb9f3a"
            ],
            [
             0.8888888888888888,
             "#fdca26"
            ],
            [
             1,
             "#f0f921"
            ]
           ],
           "sequentialminus": [
            [
             0,
             "#0d0887"
            ],
            [
             0.1111111111111111,
             "#46039f"
            ],
            [
             0.2222222222222222,
             "#7201a8"
            ],
            [
             0.3333333333333333,
             "#9c179e"
            ],
            [
             0.4444444444444444,
             "#bd3786"
            ],
            [
             0.5555555555555556,
             "#d8576b"
            ],
            [
             0.6666666666666666,
             "#ed7953"
            ],
            [
             0.7777777777777778,
             "#fb9f3a"
            ],
            [
             0.8888888888888888,
             "#fdca26"
            ],
            [
             1,
             "#f0f921"
            ]
           ]
          },
          "colorway": [
           "#636efa",
           "#EF553B",
           "#00cc96",
           "#ab63fa",
           "#FFA15A",
           "#19d3f3",
           "#FF6692",
           "#B6E880",
           "#FF97FF",
           "#FECB52"
          ],
          "font": {
           "color": "#2a3f5f"
          },
          "geo": {
           "bgcolor": "white",
           "lakecolor": "white",
           "landcolor": "#E5ECF6",
           "showlakes": true,
           "showland": true,
           "subunitcolor": "white"
          },
          "hoverlabel": {
           "align": "left"
          },
          "hovermode": "closest",
          "mapbox": {
           "style": "light"
          },
          "paper_bgcolor": "white",
          "plot_bgcolor": "#E5ECF6",
          "polar": {
           "angularaxis": {
            "gridcolor": "white",
            "linecolor": "white",
            "ticks": ""
           },
           "bgcolor": "#E5ECF6",
           "radialaxis": {
            "gridcolor": "white",
            "linecolor": "white",
            "ticks": ""
           }
          },
          "scene": {
           "xaxis": {
            "backgroundcolor": "#E5ECF6",
            "gridcolor": "white",
            "gridwidth": 2,
            "linecolor": "white",
            "showbackground": true,
            "ticks": "",
            "zerolinecolor": "white"
           },
           "yaxis": {
            "backgroundcolor": "#E5ECF6",
            "gridcolor": "white",
            "gridwidth": 2,
            "linecolor": "white",
            "showbackground": true,
            "ticks": "",
            "zerolinecolor": "white"
           },
           "zaxis": {
            "backgroundcolor": "#E5ECF6",
            "gridcolor": "white",
            "gridwidth": 2,
            "linecolor": "white",
            "showbackground": true,
            "ticks": "",
            "zerolinecolor": "white"
           }
          },
          "shapedefaults": {
           "line": {
            "color": "#2a3f5f"
           }
          },
          "ternary": {
           "aaxis": {
            "gridcolor": "white",
            "linecolor": "white",
            "ticks": ""
           },
           "baxis": {
            "gridcolor": "white",
            "linecolor": "white",
            "ticks": ""
           },
           "bgcolor": "#E5ECF6",
           "caxis": {
            "gridcolor": "white",
            "linecolor": "white",
            "ticks": ""
           }
          },
          "title": {
           "x": 0.05
          },
          "xaxis": {
           "automargin": true,
           "gridcolor": "white",
           "linecolor": "white",
           "ticks": "",
           "title": {
            "standoff": 15
           },
           "zerolinecolor": "white",
           "zerolinewidth": 2
          },
          "yaxis": {
           "automargin": true,
           "gridcolor": "white",
           "linecolor": "white",
           "ticks": "",
           "title": {
            "standoff": 15
           },
           "zerolinecolor": "white",
           "zerolinewidth": 2
          }
         }
        },
        "title": {
         "text": "Totalt antal beviljade platser per Utbildningsområde 2024"
        },
        "xaxis": {
         "anchor": "y",
         "domain": [
          0,
          1
         ],
         "tickangle": -45,
         "title": {
          "text": "Utbildningsområde"
         }
        },
        "yaxis": {
         "anchor": "x",
         "domain": [
          0,
          1
         ],
         "title": {
          "text": "Totalt antal beviljade platser"
         }
        }
       }
      }
     },
     "metadata": {},
     "output_type": "display_data"
    }
   ],
   "source": [
    "import pandas as pd\n",
    "import plotly.express as px\n",
    "\n",
    "\n",
    "agg_data = df_resultat_2024.groupby(\"Utbildningsområde\")[\"Antal beviljade platser start 2024\"].sum().reset_index()\n",
    "\n",
    "\n",
    "fig = px.bar(\n",
    "    agg_data,\n",
    "    x=\"Utbildningsområde\",\n",
    "    y=\"Antal beviljade platser start 2024\",\n",
    "    title=\"Totalt antal beviljade platser per Utbildningsområde 2024\",\n",
    "    labels={\n",
    "        \"Utbildningsområde\": \"Utbildningsområde\",\n",
    "        \"Antal beviljade platser start 2024\": \"Totalt antal beviljade platser\"\n",
    "    }\n",
    ")\n",
    "\n",
    "\n",
    "fig.update_layout(\n",
    "    xaxis_tickangle=-45,\n",
    "    height=600\n",
    ")\n",
    "\n",
    "fig.show()"
   ]
  },
  {
   "cell_type": "code",
   "execution_count": 32,
   "id": "77941bd4",
   "metadata": {},
   "outputs": [
    {
     "name": "stdout",
     "output_type": "stream",
     "text": [
      "Totala antalet beviljade utbildningar 2024: 451\n"
     ]
    }
   ],
   "source": [
    "# total antalet beviljade kurser år 2024\n",
    "approved_2024 = df_resultat_2024[(df_resultat_2024[\"Beslut\"] == \"Beviljad\")]\n",
    "\n",
    "total_approved = approved_2024.shape[0]\n",
    "\n",
    "print(\"Totala antalet beviljade utbildningar 2024:\", total_approved)"
   ]
  },
  {
   "cell_type": "code",
   "execution_count": 33,
   "id": "0feb978e",
   "metadata": {},
   "outputs": [
    {
     "name": "stdout",
     "output_type": "stream",
     "text": [
      "Totala antalet beviljade platser 2024: 8327\n"
     ]
    }
   ],
   "source": [
    "# total antalet beviljade platser 2024\n",
    "total_beviljade = df_resultat_2024[\"Antal beviljade platser start 2024\"].sum()\n",
    "\n",
    "print(\"Totala antalet beviljade platser 2024:\", total_beviljade)"
   ]
  },
  {
   "cell_type": "code",
   "execution_count": 34,
   "id": "3eed1025",
   "metadata": {},
   "outputs": [
    {
     "name": "stdout",
     "output_type": "stream",
     "text": [
      "Beviljandegrad: 55.12%\n"
     ]
    }
   ],
   "source": [
    "total_sokta_2024 = 15106\n",
    "beviljandegrad = (total_beviljade / total_sokta_2024) * 100\n",
    "print(\"Beviljandegrad: {:.2f}%\".format(beviljandegrad))\n",
    "\n"
   ]
  },
  {
   "cell_type": "code",
   "execution_count": 35,
   "id": "bdacfa55",
   "metadata": {},
   "outputs": [
    {
     "name": "stdout",
     "output_type": "stream",
     "text": [
      "['Lista ansökningar', 'Lista flera kommuner', 'Definitioner och förklaringar']\n"
     ]
    }
   ],
   "source": [
    "xls_2023 = pd.ExcelFile(\"data/resultat-2023-for-kurser-inom-yh.xlsx\")\n",
    "\n",
    "print(xls_2023.sheet_names)"
   ]
  },
  {
   "cell_type": "code",
   "execution_count": 36,
   "id": "f7627088",
   "metadata": {},
   "outputs": [
    {
     "data": {
      "text/html": [
       "<div>\n",
       "<style scoped>\n",
       "    .dataframe tbody tr th:only-of-type {\n",
       "        vertical-align: middle;\n",
       "    }\n",
       "\n",
       "    .dataframe tbody tr th {\n",
       "        vertical-align: top;\n",
       "    }\n",
       "\n",
       "    .dataframe thead th {\n",
       "        text-align: right;\n",
       "    }\n",
       "</style>\n",
       "<table border=\"1\" class=\"dataframe\">\n",
       "  <thead>\n",
       "    <tr style=\"text-align: right;\">\n",
       "      <th></th>\n",
       "      <th>Diarienummer</th>\n",
       "      <th>Beslut</th>\n",
       "      <th>Anordnare namn</th>\n",
       "      <th>Utbildningsnamn</th>\n",
       "      <th>Utbildningsområde</th>\n",
       "      <th>Antal beviljade platser 2023</th>\n",
       "      <th>Antal beviljade platser 2024</th>\n",
       "      <th>Totalt antal beviljade platser</th>\n",
       "      <th>YH-poäng</th>\n",
       "      <th>Kommun</th>\n",
       "      <th>Län</th>\n",
       "      <th>FA-region</th>\n",
       "      <th>Antal kommuner</th>\n",
       "      <th>Antal län</th>\n",
       "      <th>Antal FA-regioner</th>\n",
       "    </tr>\n",
       "  </thead>\n",
       "  <tbody>\n",
       "    <tr>\n",
       "      <th>0</th>\n",
       "      <td>MYH 2023/1049</td>\n",
       "      <td>Avslag</td>\n",
       "      <td>Olofströms kommun, Yrkeshögskolan Syd</td>\n",
       "      <td>Hållbar Produktionsutveckling</td>\n",
       "      <td>Teknik och tillverkning</td>\n",
       "      <td>0</td>\n",
       "      <td>0</td>\n",
       "      <td>0</td>\n",
       "      <td>90</td>\n",
       "      <td>Olofström</td>\n",
       "      <td>Blekinge</td>\n",
       "      <td>Karlskrona</td>\n",
       "      <td>1</td>\n",
       "      <td>1</td>\n",
       "      <td>1</td>\n",
       "    </tr>\n",
       "    <tr>\n",
       "      <th>1</th>\n",
       "      <td>MYH 2023/1077</td>\n",
       "      <td>Avslag</td>\n",
       "      <td>YrkesAkademin YH AB</td>\n",
       "      <td>Smarta byggnader - Fastighetsautomation</td>\n",
       "      <td>Samhällsbyggnad och byggteknik</td>\n",
       "      <td>0</td>\n",
       "      <td>0</td>\n",
       "      <td>0</td>\n",
       "      <td>45</td>\n",
       "      <td>Se \"Lista flera kommuner\"</td>\n",
       "      <td>Se \"Lista flera kommuner\"</td>\n",
       "      <td>Se \"Lista flera kommuner\"</td>\n",
       "      <td>3</td>\n",
       "      <td>3</td>\n",
       "      <td>3</td>\n",
       "    </tr>\n",
       "    <tr>\n",
       "      <th>2</th>\n",
       "      <td>MYH 2023/1080</td>\n",
       "      <td>Beviljad</td>\n",
       "      <td>Nyköpings kommun - Flygteknik technical training</td>\n",
       "      <td>El- och avioniktekniker</td>\n",
       "      <td>Teknik och tillverkning</td>\n",
       "      <td>0</td>\n",
       "      <td>15</td>\n",
       "      <td>15</td>\n",
       "      <td>99</td>\n",
       "      <td>Nyköping</td>\n",
       "      <td>Södermanland</td>\n",
       "      <td>Nyköping-Oxelösund</td>\n",
       "      <td>1</td>\n",
       "      <td>1</td>\n",
       "      <td>1</td>\n",
       "    </tr>\n",
       "    <tr>\n",
       "      <th>3</th>\n",
       "      <td>MYH 2023/1082</td>\n",
       "      <td>Beviljad</td>\n",
       "      <td>Handelsakademin i Göteborg AB</td>\n",
       "      <td>Cloud Development</td>\n",
       "      <td>Data/IT</td>\n",
       "      <td>40</td>\n",
       "      <td>40</td>\n",
       "      <td>80</td>\n",
       "      <td>70</td>\n",
       "      <td>Göteborg</td>\n",
       "      <td>Västra Götaland</td>\n",
       "      <td>Göteborg</td>\n",
       "      <td>1</td>\n",
       "      <td>1</td>\n",
       "      <td>1</td>\n",
       "    </tr>\n",
       "    <tr>\n",
       "      <th>4</th>\n",
       "      <td>MYH 2023/1083</td>\n",
       "      <td>Avslag</td>\n",
       "      <td>Handelsakademin i Göteborg AB</td>\n",
       "      <td>Testautomatisering med Python</td>\n",
       "      <td>Data/IT</td>\n",
       "      <td>0</td>\n",
       "      <td>0</td>\n",
       "      <td>0</td>\n",
       "      <td>70</td>\n",
       "      <td>Göteborg</td>\n",
       "      <td>Västra Götaland</td>\n",
       "      <td>Göteborg</td>\n",
       "      <td>1</td>\n",
       "      <td>1</td>\n",
       "      <td>1</td>\n",
       "    </tr>\n",
       "  </tbody>\n",
       "</table>\n",
       "</div>"
      ],
      "text/plain": [
       "    Diarienummer    Beslut                                    Anordnare namn  \\\n",
       "0  MYH 2023/1049    Avslag             Olofströms kommun, Yrkeshögskolan Syd   \n",
       "1  MYH 2023/1077    Avslag                               YrkesAkademin YH AB   \n",
       "2  MYH 2023/1080  Beviljad  Nyköpings kommun - Flygteknik technical training   \n",
       "3  MYH 2023/1082  Beviljad                     Handelsakademin i Göteborg AB   \n",
       "4  MYH 2023/1083    Avslag                     Handelsakademin i Göteborg AB   \n",
       "\n",
       "                            Utbildningsnamn               Utbildningsområde  \\\n",
       "0             Hållbar Produktionsutveckling         Teknik och tillverkning   \n",
       "1  Smarta byggnader - Fastighetsautomation   Samhällsbyggnad och byggteknik   \n",
       "2                   El- och avioniktekniker         Teknik och tillverkning   \n",
       "3                         Cloud Development                         Data/IT   \n",
       "4             Testautomatisering med Python                         Data/IT   \n",
       "\n",
       "   Antal beviljade platser 2023  Antal beviljade platser 2024  \\\n",
       "0                             0                             0   \n",
       "1                             0                             0   \n",
       "2                             0                            15   \n",
       "3                            40                            40   \n",
       "4                             0                             0   \n",
       "\n",
       "   Totalt antal beviljade platser  YH-poäng                     Kommun  \\\n",
       "0                               0        90                  Olofström   \n",
       "1                               0        45  Se \"Lista flera kommuner\"   \n",
       "2                              15        99                   Nyköping   \n",
       "3                              80        70                   Göteborg   \n",
       "4                               0        70                   Göteborg   \n",
       "\n",
       "                         Län                  FA-region  Antal kommuner  \\\n",
       "0                   Blekinge                 Karlskrona               1   \n",
       "1  Se \"Lista flera kommuner\"  Se \"Lista flera kommuner\"               3   \n",
       "2               Södermanland         Nyköping-Oxelösund               1   \n",
       "3            Västra Götaland                   Göteborg               1   \n",
       "4            Västra Götaland                   Göteborg               1   \n",
       "\n",
       "   Antal län  Antal FA-regioner  \n",
       "0          1                  1  \n",
       "1          3                  3  \n",
       "2          1                  1  \n",
       "3          1                  1  \n",
       "4          1                  1  "
      ]
     },
     "execution_count": 36,
     "metadata": {},
     "output_type": "execute_result"
    }
   ],
   "source": [
    "df_resultat_2023 = pd.read_excel(\"data/resultat-2023-for-kurser-inom-yh.xlsx\", sheet_name=\"Lista ansökningar\")\n",
    "\n",
    "df_resultat_2023.head()"
   ]
  },
  {
   "cell_type": "code",
   "execution_count": 37,
   "id": "c1a769a6",
   "metadata": {},
   "outputs": [
    {
     "name": "stdout",
     "output_type": "stream",
     "text": [
      "Dataframe shape: (280, 15)\n"
     ]
    }
   ],
   "source": [
    "print(\"Dataframe shape:\", df_resultat_2023.shape)"
   ]
  },
  {
   "cell_type": "code",
   "execution_count": 38,
   "id": "d4a84936",
   "metadata": {},
   "outputs": [
    {
     "name": "stdout",
     "output_type": "stream",
     "text": [
      "Index(['Diarienummer', 'Beslut', 'Anordnare namn', 'Utbildningsnamn',\n",
      "       'Utbildningsområde', 'Antal beviljade platser 2023',\n",
      "       'Antal beviljade platser 2024', 'Totalt antal beviljade platser',\n",
      "       'YH-poäng', 'Kommun', 'Län', 'FA-region', 'Antal kommuner', 'Antal län',\n",
      "       'Antal FA-regioner'],\n",
      "      dtype='object')\n"
     ]
    }
   ],
   "source": [
    "print(df_resultat_2023.columns)"
   ]
  },
  {
   "cell_type": "code",
   "execution_count": 39,
   "id": "7371e70a",
   "metadata": {},
   "outputs": [
    {
     "name": "stdout",
     "output_type": "stream",
     "text": [
      "<class 'pandas.core.frame.DataFrame'>\n",
      "RangeIndex: 280 entries, 0 to 279\n",
      "Data columns (total 15 columns):\n",
      " #   Column                          Non-Null Count  Dtype \n",
      "---  ------                          --------------  ----- \n",
      " 0   Diarienummer                    280 non-null    object\n",
      " 1   Beslut                          280 non-null    object\n",
      " 2   Anordnare namn                  280 non-null    object\n",
      " 3   Utbildningsnamn                 280 non-null    object\n",
      " 4   Utbildningsområde               280 non-null    object\n",
      " 5   Antal beviljade platser 2023    280 non-null    int64 \n",
      " 6   Antal beviljade platser 2024    280 non-null    int64 \n",
      " 7   Totalt antal beviljade platser  280 non-null    int64 \n",
      " 8   YH-poäng                        280 non-null    int64 \n",
      " 9   Kommun                          280 non-null    object\n",
      " 10  Län                             280 non-null    object\n",
      " 11  FA-region                       280 non-null    object\n",
      " 12  Antal kommuner                  280 non-null    int64 \n",
      " 13  Antal län                       280 non-null    int64 \n",
      " 14  Antal FA-regioner               280 non-null    int64 \n",
      "dtypes: int64(7), object(8)\n",
      "memory usage: 32.9+ KB\n"
     ]
    }
   ],
   "source": [
    "df_resultat_2023.info()"
   ]
  },
  {
   "cell_type": "code",
   "execution_count": 40,
   "id": "640b3dfb",
   "metadata": {},
   "outputs": [
    {
     "data": {
      "text/html": [
       "<div>\n",
       "<style scoped>\n",
       "    .dataframe tbody tr th:only-of-type {\n",
       "        vertical-align: middle;\n",
       "    }\n",
       "\n",
       "    .dataframe tbody tr th {\n",
       "        vertical-align: top;\n",
       "    }\n",
       "\n",
       "    .dataframe thead th {\n",
       "        text-align: right;\n",
       "    }\n",
       "</style>\n",
       "<table border=\"1\" class=\"dataframe\">\n",
       "  <thead>\n",
       "    <tr style=\"text-align: right;\">\n",
       "      <th></th>\n",
       "      <th>Antal beviljade platser 2023</th>\n",
       "      <th>Antal beviljade platser 2024</th>\n",
       "      <th>Totalt antal beviljade platser</th>\n",
       "      <th>YH-poäng</th>\n",
       "      <th>Antal kommuner</th>\n",
       "      <th>Antal län</th>\n",
       "      <th>Antal FA-regioner</th>\n",
       "    </tr>\n",
       "  </thead>\n",
       "  <tbody>\n",
       "    <tr>\n",
       "      <th>count</th>\n",
       "      <td>280.000000</td>\n",
       "      <td>280.000000</td>\n",
       "      <td>280.000000</td>\n",
       "      <td>280.000000</td>\n",
       "      <td>280.000000</td>\n",
       "      <td>280.000000</td>\n",
       "      <td>280.000000</td>\n",
       "    </tr>\n",
       "    <tr>\n",
       "      <th>mean</th>\n",
       "      <td>11.567857</td>\n",
       "      <td>22.525000</td>\n",
       "      <td>34.092857</td>\n",
       "      <td>46.850000</td>\n",
       "      <td>1.264286</td>\n",
       "      <td>1.239286</td>\n",
       "      <td>1.235714</td>\n",
       "    </tr>\n",
       "    <tr>\n",
       "      <th>std</th>\n",
       "      <td>17.443890</td>\n",
       "      <td>26.489318</td>\n",
       "      <td>40.714303</td>\n",
       "      <td>23.527282</td>\n",
       "      <td>0.724489</td>\n",
       "      <td>0.715842</td>\n",
       "      <td>0.699316</td>\n",
       "    </tr>\n",
       "    <tr>\n",
       "      <th>min</th>\n",
       "      <td>0.000000</td>\n",
       "      <td>0.000000</td>\n",
       "      <td>0.000000</td>\n",
       "      <td>8.000000</td>\n",
       "      <td>1.000000</td>\n",
       "      <td>1.000000</td>\n",
       "      <td>1.000000</td>\n",
       "    </tr>\n",
       "    <tr>\n",
       "      <th>25%</th>\n",
       "      <td>0.000000</td>\n",
       "      <td>0.000000</td>\n",
       "      <td>0.000000</td>\n",
       "      <td>30.000000</td>\n",
       "      <td>1.000000</td>\n",
       "      <td>1.000000</td>\n",
       "      <td>1.000000</td>\n",
       "    </tr>\n",
       "    <tr>\n",
       "      <th>50%</th>\n",
       "      <td>0.000000</td>\n",
       "      <td>0.000000</td>\n",
       "      <td>0.000000</td>\n",
       "      <td>40.000000</td>\n",
       "      <td>1.000000</td>\n",
       "      <td>1.000000</td>\n",
       "      <td>1.000000</td>\n",
       "    </tr>\n",
       "    <tr>\n",
       "      <th>75%</th>\n",
       "      <td>30.000000</td>\n",
       "      <td>40.000000</td>\n",
       "      <td>70.000000</td>\n",
       "      <td>60.000000</td>\n",
       "      <td>1.000000</td>\n",
       "      <td>1.000000</td>\n",
       "      <td>1.000000</td>\n",
       "    </tr>\n",
       "    <tr>\n",
       "      <th>max</th>\n",
       "      <td>80.000000</td>\n",
       "      <td>120.000000</td>\n",
       "      <td>200.000000</td>\n",
       "      <td>99.000000</td>\n",
       "      <td>5.000000</td>\n",
       "      <td>5.000000</td>\n",
       "      <td>5.000000</td>\n",
       "    </tr>\n",
       "  </tbody>\n",
       "</table>\n",
       "</div>"
      ],
      "text/plain": [
       "       Antal beviljade platser 2023  Antal beviljade platser 2024  \\\n",
       "count                    280.000000                    280.000000   \n",
       "mean                      11.567857                     22.525000   \n",
       "std                       17.443890                     26.489318   \n",
       "min                        0.000000                      0.000000   \n",
       "25%                        0.000000                      0.000000   \n",
       "50%                        0.000000                      0.000000   \n",
       "75%                       30.000000                     40.000000   \n",
       "max                       80.000000                    120.000000   \n",
       "\n",
       "       Totalt antal beviljade platser    YH-poäng  Antal kommuner   Antal län  \\\n",
       "count                      280.000000  280.000000      280.000000  280.000000   \n",
       "mean                        34.092857   46.850000        1.264286    1.239286   \n",
       "std                         40.714303   23.527282        0.724489    0.715842   \n",
       "min                          0.000000    8.000000        1.000000    1.000000   \n",
       "25%                          0.000000   30.000000        1.000000    1.000000   \n",
       "50%                          0.000000   40.000000        1.000000    1.000000   \n",
       "75%                         70.000000   60.000000        1.000000    1.000000   \n",
       "max                        200.000000   99.000000        5.000000    5.000000   \n",
       "\n",
       "       Antal FA-regioner  \n",
       "count         280.000000  \n",
       "mean            1.235714  \n",
       "std             0.699316  \n",
       "min             1.000000  \n",
       "25%             1.000000  \n",
       "50%             1.000000  \n",
       "75%             1.000000  \n",
       "max             5.000000  "
      ]
     },
     "execution_count": 40,
     "metadata": {},
     "output_type": "execute_result"
    }
   ],
   "source": [
    "df_resultat_2023.describe()"
   ]
  },
  {
   "cell_type": "code",
   "execution_count": 41,
   "id": "77c1f012",
   "metadata": {},
   "outputs": [
    {
     "data": {
      "image/png": "[encoded data removed]",
      "text/plain": [
       "<Figure size 1200x600 with 1 Axes>"
      ]
     },
     "metadata": {},
     "output_type": "display_data"
    }
   ],
   "source": [
    "import pandas as pd\n",
    "import matplotlib.pyplot as plt\n",
    "\n",
    "\n",
    "agg_data = df_resultat_2023.groupby(\"Utbildningsområde\")[\"Antal beviljade platser 2023\"].sum().reset_index()\n",
    "\n",
    "\n",
    "plt.figure(figsize=(12, 6))\n",
    "\n",
    "\n",
    "plt.bar(agg_data[\"Utbildningsområde\"], agg_data[\"Antal beviljade platser 2023\"], color=\"skyblue\")\n",
    "\n",
    "plt.xlabel(\"Utbildningsområde\")\n",
    "plt.ylabel(\"Totalt antal beviljade platser\")\n",
    "plt.title(\"Totalt antal beviljade platser per Utbildningsområde 2023\")\n",
    "\n",
    "\n",
    "plt.xticks(rotation=45, ha=\"right\")\n",
    "\n",
    "\n",
    "plt.tight_layout()\n",
    "\n",
    "\n",
    "plt.show()"
   ]
  },
  {
   "cell_type": "code",
   "execution_count": 42,
   "id": "8c26cdd9",
   "metadata": {},
   "outputs": [
    {
     "data": {
      "application/vnd.plotly.v1+json": {
       "config": {
        "plotlyServerURL": "https://plot.ly"
       },
       "data": [
        {
         "hovertemplate": "Utbildningsområde=%{x}<br>Totalt antal beviljade platser=%{y}<extra></extra>",
         "legendgroup": "",
         "marker": {
          "color": "#636efa",
          "pattern": {
           "shape": ""
          }
         },
         "name": "",
         "orientation": "v",
         "showlegend": false,
         "textposition": "auto",
         "type": "bar",
         "x": [
          "Data/IT",
          "Ekonomi, administration och försäljning",
          "Friskvård och kroppsvård",
          "Hotell, restaurang och turism",
          "Hälso- och sjukvård samt socialt arbete",
          "Journalistik och information",
          "Juridik",
          "Kultur, media och design",
          "Lantbruk, djurvård, trädgård, skog och fiske",
          "Pedagogik och undervisning",
          "Samhällsbyggnad och byggteknik",
          "Säkerhetstjänster",
          "Teknik och tillverkning",
          "Transporttjänster",
          "Övrigt"
         ],
         "xaxis": "x",
         "y": {
          "bdata": "TwGwAgAAZAD0AXgAPAAZADwAZACjAloA5gEAAAAA",
          "dtype": "i2"
         },
         "yaxis": "y"
        }
       ],
       "layout": {
        "barmode": "relative",
        "height": 600,
        "legend": {
         "tracegroupgap": 0
        },
        "template": {
         "data": {
          "bar": [
           {
            "error_x": {
             "color": "#2a3f5f"
            },
            "error_y": {
             "color": "#2a3f5f"
            },
            "marker": {
             "line": {
              "color": "#E5ECF6",
              "width": 0.5
             },
             "pattern": {
              "fillmode": "overlay",
              "size": 10,
              "solidity": 0.2
             }
            },
            "type": "bar"
           }
          ],
          "barpolar": [
           {
            "marker": {
             "line": {
              "color": "#E5ECF6",
              "width": 0.5
             },
             "pattern": {
              "fillmode": "overlay",
              "size": 10,
              "solidity": 0.2
             }
            },
            "type": "barpolar"
           }
          ],
          "carpet": [
           {
            "aaxis": {
             "endlinecolor": "#2a3f5f",
             "gridcolor": "white",
             "linecolor": "white",
             "minorgridcolor": "white",
             "startlinecolor": "#2a3f5f"
            },
            "baxis": {
             "endlinecolor": "#2a3f5f",
             "gridcolor": "white",
             "linecolor": "white",
             "minorgridcolor": "white",
             "startlinecolor": "#2a3f5f"
            },
            "type": "carpet"
           }
          ],
          "choropleth": [
           {
            "colorbar": {
             "outlinewidth": 0,
             "ticks": ""
            },
            "type": "choropleth"
           }
          ],
          "contour": [
           {
            "colorbar": {
             "outlinewidth": 0,
             "ticks": ""
            },
            "colorscale": [
             [
              0,
              "#0d0887"
             ],
             [
              0.1111111111111111,
              "#46039f"
             ],
             [
              0.2222222222222222,
              "#7201a8"
             ],
             [
              0.3333333333333333,
              "#9c179e"
             ],
             [
              0.4444444444444444,
              "#bd3786"
             ],
             [
              0.5555555555555556,
              "#d8576b"
             ],
             [
              0.6666666666666666,
              "#ed7953"
             ],
             [
              0.7777777777777778,
              "#fb9f3a"
             ],
             [
              0.8888888888888888,
              "#fdca26"
             ],
             [
              1,
              "#f0f921"
             ]
            ],
            "type": "contour"
           }
          ],
          "contourcarpet": [
           {
            "colorbar": {
             "outlinewidth": 0,
             "ticks": ""
            },
            "type": "contourcarpet"
           }
          ],
          "heatmap": [
           {
            "colorbar": {
             "outlinewidth": 0,
             "ticks": ""
            },
            "colorscale": [
             [
              0,
              "#0d0887"
             ],
             [
              0.1111111111111111,
              "#46039f"
             ],
             [
              0.2222222222222222,
              "#7201a8"
             ],
             [
              0.3333333333333333,
              "#9c179e"
             ],
             [
              0.4444444444444444,
              "#bd3786"
             ],
             [
              0.5555555555555556,
              "#d8576b"
             ],
             [
              0.6666666666666666,
              "#ed7953"
             ],
             [
              0.7777777777777778,
              "#fb9f3a"
             ],
             [
              0.8888888888888888,
              "#fdca26"
             ],
             [
              1,
              "#f0f921"
             ]
            ],
            "type": "heatmap"
           }
          ],
          "histogram": [
           {
            "marker": {
             "pattern": {
              "fillmode": "overlay",
              "size": 10,
              "solidity": 0.2
             }
            },
            "type": "histogram"
           }
          ],
          "histogram2d": [
           {
            "colorbar": {
             "outlinewidth": 0,
             "ticks": ""
            },
            "colorscale": [
             [
              0,
              "#0d0887"
             ],
             [
              0.1111111111111111,
              "#46039f"
             ],
             [
              0.2222222222222222,
              "#7201a8"
             ],
             [
              0.3333333333333333,
              "#9c179e"
             ],
             [
              0.4444444444444444,
              "#bd3786"
             ],
             [
              0.5555555555555556,
              "#d8576b"
             ],
             [
              0.6666666666666666,
              "#ed7953"
             ],
             [
              0.7777777777777778,
              "#fb9f3a"
             ],
             [
              0.8888888888888888,
              "#fdca26"
             ],
             [
              1,
              "#f0f921"
             ]
            ],
            "type": "histogram2d"
           }
          ],
          "histogram2dcontour": [
           {
            "colorbar": {
             "outlinewidth": 0,
             "ticks": ""
            },
            "colorscale": [
             [
              0,
              "#0d0887"
             ],
             [
              0.1111111111111111,
              "#46039f"
             ],
             [
              0.2222222222222222,
              "#7201a8"
             ],
             [
              0.3333333333333333,
              "#9c179e"
             ],
             [
              0.4444444444444444,
              "#bd3786"
             ],
             [
              0.5555555555555556,
              "#d8576b"
             ],
             [
              0.6666666666666666,
              "#ed7953"
             ],
             [
              0.7777777777777778,
              "#fb9f3a"
             ],
             [
              0.8888888888888888,
              "#fdca26"
             ],
             [
              1,
              "#f0f921"
             ]
            ],
            "type": "histogram2dcontour"
           }
          ],
          "mesh3d": [
           {
            "colorbar": {
             "outlinewidth": 0,
             "ticks": ""
            },
            "type": "mesh3d"
           }
          ],
          "parcoords": [
           {
            "line": {
             "colorbar": {
              "outlinewidth": 0,
              "ticks": ""
             }
            },
            "type": "parcoords"
           }
          ],
          "pie": [
           {
            "automargin": true,
            "type": "pie"
           }
          ],
          "scatter": [
           {
            "fillpattern": {
             "fillmode": "overlay",
             "size": 10,
             "solidity": 0.2
            },
            "type": "scatter"
           }
          ],
          "scatter3d": [
           {
            "line": {
             "colorbar": {
              "outlinewidth": 0,
              "ticks": ""
             }
            },
            "marker": {
             "colorbar": {
              "outlinewidth": 0,
              "ticks": ""
             }
            },
            "type": "scatter3d"
           }
          ],
          "scattercarpet": [
           {
            "marker": {
             "colorbar": {
              "outlinewidth": 0,
              "ticks": ""
             }
            },
            "type": "scattercarpet"
           }
          ],
          "scattergeo": [
           {
            "marker": {
             "colorbar": {
              "outlinewidth": 0,
              "ticks": ""
             }
            },
            "type": "scattergeo"
           }
          ],
          "scattergl": [
           {
            "marker": {
             "colorbar": {
              "outlinewidth": 0,
              "ticks": ""
             }
            },
            "type": "scattergl"
           }
          ],
          "scattermap": [
           {
            "marker": {
             "colorbar": {
              "outlinewidth": 0,
              "ticks": ""
             }
            },
            "type": "scattermap"
           }
          ],
          "scattermapbox": [
           {
            "marker": {
             "colorbar": {
              "outlinewidth": 0,
              "ticks": ""
             }
            },
            "type": "scattermapbox"
           }
          ],
          "scatterpolar": [
           {
            "marker": {
             "colorbar": {
              "outlinewidth": 0,
              "ticks": ""
             }
            },
            "type": "scatterpolar"
           }
          ],
          "scatterpolargl": [
           {
            "marker": {
             "colorbar": {
              "outlinewidth": 0,
              "ticks": ""
             }
            },
            "type": "scatterpolargl"
           }
          ],
          "scatterternary": [
           {
            "marker": {
             "colorbar": {
              "outlinewidth": 0,
              "ticks": ""
             }
            },
            "type": "scatterternary"
           }
          ],
          "surface": [
           {
            "colorbar": {
             "outlinewidth": 0,
             "ticks": ""
            },
            "colorscale": [
             [
              0,
              "#0d0887"
             ],
             [
              0.1111111111111111,
              "#46039f"
             ],
             [
              0.2222222222222222,
              "#7201a8"
             ],
             [
              0.3333333333333333,
              "#9c179e"
             ],
             [
              0.4444444444444444,
              "#bd3786"
             ],
             [
              0.5555555555555556,
              "#d8576b"
             ],
             [
              0.6666666666666666,
              "#ed7953"
             ],
             [
              0.7777777777777778,
              "#fb9f3a"
             ],
             [
              0.8888888888888888,
              "#fdca26"
             ],
             [
              1,
              "#f0f921"
             ]
            ],
            "type": "surface"
           }
          ],
          "table": [
           {
            "cells": {
             "fill": {
              "color": "#EBF0F8"
             },
             "line": {
              "color": "white"
             }
            },
            "header": {
             "fill": {
              "color": "#C8D4E3"
             },
             "line": {
              "color": "white"
             }
            },
            "type": "table"
           }
          ]
         },
         "layout": {
          "annotationdefaults": {
           "arrowcolor": "#2a3f5f",
           "arrowhead": 0,
           "arrowwidth": 1
          },
          "autotypenumbers": "strict",
          "coloraxis": {
           "colorbar": {
            "outlinewidth": 0,
            "ticks": ""
           }
          },
          "colorscale": {
           "diverging": [
            [
             0,
             "#8e0152"
            ],
            [
             0.1,
             "#c51b7d"
            ],
            [
             0.2,
             "#de77ae"
            ],
            [
             0.3,
             "#f1b6da"
            ],
            [
             0.4,
             "#fde0ef"
            ],
            [
             0.5,
             "#f7f7f7"
            ],
            [
             0.6,
             "#e6f5d0"
            ],
            [
             0.7,
             "#b8e186"
            ],
            [
             0.8,
             "#7fbc41"
            ],
            [
             0.9,
             "#4d9221"
            ],
            [
             1,
             "#276419"
            ]
           ],
           "sequential": [
            [
             0,
             "#0d0887"
            ],
            [
             0.1111111111111111,
             "#46039f"
            ],
            [
             0.2222222222222222,
             "#7201a8"
            ],
            [
             0.3333333333333333,
             "#9c179e"
            ],
            [
             0.4444444444444444,
             "#bd3786"
            ],
            [
             0.5555555555555556,
             "#d8576b"
            ],
            [
             0.6666666666666666,
             "#ed7953"
            ],
            [
             0.7777777777777778,
             "#fb9f3a"
            ],
            [
             0.8888888888888888,
             "#fdca26"
            ],
            [
             1,
             "#f0f921"
            ]
           ],
           "sequentialminus": [
            [
             0,
             "#0d0887"
            ],
            [
             0.1111111111111111,
             "#46039f"
            ],
            [
             0.2222222222222222,
             "#7201a8"
            ],
            [
             0.3333333333333333,
             "#9c179e"
            ],
            [
             0.4444444444444444,
             "#bd3786"
            ],
            [
             0.5555555555555556,
             "#d8576b"
            ],
            [
             0.6666666666666666,
             "#ed7953"
            ],
            [
             0.7777777777777778,
             "#fb9f3a"
            ],
            [
             0.8888888888888888,
             "#fdca26"
            ],
            [
             1,
             "#f0f921"
            ]
           ]
          },
          "colorway": [
           "#636efa",
           "#EF553B",
           "#00cc96",
           "#ab63fa",
           "#FFA15A",
           "#19d3f3",
           "#FF6692",
           "#B6E880",
           "#FF97FF",
           "#FECB52"
          ],
          "font": {
           "color": "#2a3f5f"
          },
          "geo": {
           "bgcolor": "white",
           "lakecolor": "white",
           "landcolor": "#E5ECF6",
           "showlakes": true,
           "showland": true,
           "subunitcolor": "white"
          },
          "hoverlabel": {
           "align": "left"
          },
          "hovermode": "closest",
          "mapbox": {
           "style": "light"
          },
          "paper_bgcolor": "white",
          "plot_bgcolor": "#E5ECF6",
          "polar": {
           "angularaxis": {
            "gridcolor": "white",
            "linecolor": "white",
            "ticks": ""
           },
           "bgcolor": "#E5ECF6",
           "radialaxis": {
            "gridcolor": "white",
            "linecolor": "white",
            "ticks": ""
           }
          },
          "scene": {
           "xaxis": {
            "backgroundcolor": "#E5ECF6",
            "gridcolor": "white",
            "gridwidth": 2,
            "linecolor": "white",
            "showbackground": true,
            "ticks": "",
            "zerolinecolor": "white"
           },
           "yaxis": {
            "backgroundcolor": "#E5ECF6",
            "gridcolor": "white",
            "gridwidth": 2,
            "linecolor": "white",
            "showbackground": true,
            "ticks": "",
            "zerolinecolor": "white"
           },
           "zaxis": {
            "backgroundcolor": "#E5ECF6",
            "gridcolor": "white",
            "gridwidth": 2,
            "linecolor": "white",
            "showbackground": true,
            "ticks": "",
            "zerolinecolor": "white"
           }
          },
          "shapedefaults": {
           "line": {
            "color": "#2a3f5f"
           }
          },
          "ternary": {
           "aaxis": {
            "gridcolor": "white",
            "linecolor": "white",
            "ticks": ""
           },
           "baxis": {
            "gridcolor": "white",
            "linecolor": "white",
            "ticks": ""
           },
           "bgcolor": "#E5ECF6",
           "caxis": {
            "gridcolor": "white",
            "linecolor": "white",
            "ticks": ""
           }
          },
          "title": {
           "x": 0.05
          },
          "xaxis": {
           "automargin": true,
           "gridcolor": "white",
           "linecolor": "white",
           "ticks": "",
           "title": {
            "standoff": 15
           },
           "zerolinecolor": "white",
           "zerolinewidth": 2
          },
          "yaxis": {
           "automargin": true,
           "gridcolor": "white",
           "linecolor": "white",
           "ticks": "",
           "title": {
            "standoff": 15
           },
           "zerolinecolor": "white",
           "zerolinewidth": 2
          }
         }
        },
        "title": {
         "text": "Totalt antal beviljade platser per Utbildningsområde 2023"
        },
        "xaxis": {
         "anchor": "y",
         "domain": [
          0,
          1
         ],
         "tickangle": -45,
         "title": {
          "text": "Utbildningsområde"
         }
        },
        "yaxis": {
         "anchor": "x",
         "domain": [
          0,
          1
         ],
         "title": {
          "text": "Totalt antal beviljade platser"
         }
        }
       }
      }
     },
     "metadata": {},
     "output_type": "display_data"
    }
   ],
   "source": [
    "import pandas as pd\n",
    "import plotly.express as px\n",
    "\n",
    "\n",
    "agg_data = df_resultat_2023.groupby(\"Utbildningsområde\")[\"Antal beviljade platser 2023\"].sum().reset_index()\n",
    "\n",
    "\n",
    "fig = px.bar(\n",
    "    agg_data,\n",
    "    x=\"Utbildningsområde\",\n",
    "    y=\"Antal beviljade platser 2023\",\n",
    "    title=\"Totalt antal beviljade platser per Utbildningsområde 2023\",\n",
    "    labels={\n",
    "        \"Utbildningsområde\": \"Utbildningsområde\",\n",
    "        \"Antal beviljade platser 2023\": \"Totalt antal beviljade platser\"\n",
    "    }\n",
    ")\n",
    "\n",
    "\n",
    "fig.update_layout(\n",
    "    xaxis_tickangle=-45,\n",
    "    height=600\n",
    ")\n",
    "\n",
    "fig.show()"
   ]
  },
  {
   "cell_type": "code",
   "execution_count": 43,
   "id": "27fc635c",
   "metadata": {},
   "outputs": [
    {
     "name": "stdout",
     "output_type": "stream",
     "text": [
      "Totala antalet beviljade utbildningar 2023: 139\n"
     ]
    }
   ],
   "source": [
    "# total antalet beviljade kurser år 2023\n",
    "approved_2023 = df_resultat_2023[(df_resultat_2023[\"Beslut\"] == \"Beviljad\")]\n",
    "\n",
    "total_approved = approved_2023.shape[0]\n",
    "\n",
    "print(\"Totala antalet beviljade utbildningar 2023:\", total_approved)"
   ]
  },
  {
   "cell_type": "code",
   "execution_count": 44,
   "id": "63bd1df3",
   "metadata": {},
   "outputs": [
    {
     "name": "stdout",
     "output_type": "stream",
     "text": [
      "Totala antalet beviljade platser 2023: 3239\n"
     ]
    }
   ],
   "source": [
    "# total antalet beviljade platser 2023\n",
    "total_beviljade = df_resultat_2023[\"Antal beviljade platser 2023\"].sum()\n",
    "\n",
    "print(\"Totala antalet beviljade platser 2023:\", total_beviljade)"
   ]
  },
  {
   "cell_type": "code",
   "execution_count": 45,
   "id": "a0db211b",
   "metadata": {},
   "outputs": [
    {
     "name": "stdout",
     "output_type": "stream",
     "text": [
      "Beviljandegrad: 21.44%\n"
     ]
    }
   ],
   "source": [
    "total_sokta_2023 = 15106\n",
    "beviljandegrad = (total_beviljade / total_sokta_2023) * 100\n",
    "print(\"Beviljandegrad: {:.2f}%\".format(beviljandegrad))"
   ]
  },
  {
   "cell_type": "code",
   "execution_count": 46,
   "id": "e6bab21d",
   "metadata": {},
   "outputs": [
    {
     "data": {
      "image/png": "[encoded data removed]",
      "text/plain": [
       "<Figure size 1000x800 with 1 Axes>"
      ]
     },
     "metadata": {},
     "output_type": "display_data"
    }
   ],
   "source": [
    "import numpy as np\n",
    "\n",
    "# Läs in Excel-filerna från mappen \"../data/\" (notebook ligger i mappen \"EDA\", data är en sibling)\n",
    "df2024 = pd.read_excel(\"../data/resultat-2024-for-kurser-inom-yh (1).xlsx\", sheet_name=\"Lista ansökningar\")\n",
    "df2023 = pd.read_excel(\"../data/resultat-2023-for-kurser-inom-yh.xlsx\", sheet_name=\"Lista ansökningar\")\n",
    "df2022 = pd.read_excel(\"../data/resultat-2022-for-kurser-inom-yh.xlsx\", sheet_name=\"Lista ansökningar\")\n",
    "df2021 = pd.read_excel(\"../data/resultat-juni-2021-for-korta-utbildningar-kurser-och-kurspaket.xlsx\", sheet_name=\"Lista beviljade ansökningar\")\n",
    "df2020 = pd.read_excel(\"../data/ANS_L12_Beviljade-korta-utb-kurser-kurspaket-YH-juli-2020-2.xlsx\", sheet_name=\"Lista beviljade utbildningar\")\n",
    "\n",
    "# Kombinera data från alla år\n",
    "df_all = pd.concat([df2024, df2023, df2022, df2021, df2020], ignore_index=True)\n",
    "\n",
    "# Om kolumnen \"Beslut\" finns, filtrera så att endast rader med \"Beviljad\" inkluderas, annars anta att alla rader är beviljade\n",
    "if \"Beslut\" in df_all.columns:\n",
    "    df_all = df_all[df_all[\"Beslut\"] == \"Beviljad\"]\n",
    "\n",
    "# Gruppdata efter \"Utbildningsområde\" och räkna totalt antal beviljade kurser\n",
    "grouped = df_all.groupby(\"Utbildningsområde\").size().reset_index(name=\"Total beviljade kurser\")\n",
    "grouped = grouped.sort_values(\"Total beviljade kurser\", ascending=False)\n",
    "\n",
    "# Identifiera det utbildningsområde med flest beviljade kurser\n",
    "top_area = grouped.iloc[0][\"Utbildningsområde\"]\n",
    "top_count = grouped.iloc[0][\"Total beviljade kurser\"]\n",
    "\n",
    "# Förbered data för donut chart\n",
    "labels = grouped[\"Utbildningsområde\"]\n",
    "sizes = grouped[\"Total beviljade kurser\"]\n",
    "explode = [0.1 if label == top_area else 0 for label in labels]\n",
    "\n",
    "# Rita en donut chart med matplotlib\n",
    "fig, ax = plt.subplots(figsize=(10, 8))\n",
    "wedges, texts, autotexts = ax.pie(\n",
    "    sizes, labels=labels, autopct='%1.1f%%', startangle=140,\n",
    "    explode=explode, colors=plt.cm.Pastel1.colors\n",
    ")\n",
    "ax.set_title(\"Andel beviljade kurser per utbildningsområde (2020-2024)\", fontsize=14)\n",
    "\n",
    "# Skapa en cirkel i mitten för att göra det till en donut chart\n",
    "centre_circle = plt.Circle((0, 0), 0.70, fc='white')\n",
    "fig.gca().add_artist(centre_circle)\n",
    "\n",
    "# Hitta vinkeln för det utbildningsområde med flest kurser\n",
    "top_idx = labels.tolist().index(top_area)\n",
    "theta1, theta2 = wedges[top_idx].theta1, wedges[top_idx].theta2\n",
    "angle = (theta1 + theta2) / 2.0\n",
    "x = np.cos(np.deg2rad(angle))\n",
    "y = np.sin(np.deg2rad(angle))\n",
    "\n",
    "# Lägg till annotering med pil för att markera det topp-baserade området.\n",
    "# Placera annoteringen längre ut och justera y-positionen (flytta ner lite) så att texten inte överlappar andra etiketter.\n",
    "ax.annotate(\n",
    "    f\"{top_area} ({top_count} kurser)\",\n",
    "    xy=(x, y),xytext=(1.5 * x - 0.2, 1.5 * y - 0.3),\n",
    "    arrowprops=dict(facecolor='red', arrowstyle=\"->\"),\n",
    "    ha='center', va='center', fontsize=12, color=\"red\"\n",
    ")\n",
    "\n",
    "# Lägg till två rader storytelling-text ovanför grafen\n",
    "plt.suptitle(\n",
    "    f\"Under perioden 2020-2025 ser vi att utbildningsområdet\\n({top_area}) har haft störst antal beviljade kurser.\",\n",
    "    fontsize=14,\n",
    "    fontweight='bold',\n",
    "    x=0.5,\n",
    "    horizontalalignment='center'\n",
    ")\n",
    "\n",
    "plt.tight_layout(rect=[0, 0, 1, 0.93])\n",
    "plt.savefig(\"../assets/images/donut_chart.png\", dpi=300, bbox_inches=\"tight\")\n",
    "plt.show()"
   ]
  }
 ],
 "metadata": {
  "kernelspec": {
   "display_name": ".venv",
   "language": "python",
   "name": "python3"
  },
  "language_info": {
   "codemirror_mode": {
    "name": "ipython",
    "version": 3
   },
   "file_extension": ".py",
   "mimetype": "text/x-python",
   "name": "python",
   "nbconvert_exporter": "python",
   "pygments_lexer": "ipython3",
   "version": "3.11.11"
  }
 },
 "nbformat": 4,
 "nbformat_minor": 5
}
