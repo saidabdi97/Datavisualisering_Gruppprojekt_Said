{
 "cells": [
  {
   "cell_type": "markdown",
   "id": "09afe774",
   "metadata": {},
   "source": [
    "COMBINE sammanställningsresultat för 2020-2024"
   ]
  },
  {
   "cell_type": "code",
   "execution_count": 219,
   "id": "f595d5b6",
   "metadata": {},
   "outputs": [],
   "source": [
    "# years = range(2022, 2024)\n",
    "# files = [f\"data/yh-sokande-{year}-behorighet-reell-kompetens.xlsx\" for year in years]\n",
    "\n",
    "# df_list = []\n",
    "\n",
    "# for file in files:\n",
    "#     year = file.split('-')[-1].split('.')[0]  # Extract year from filename\n",
    "#     try:\n",
    "#         df = pd.read_excel(file, sheet_name='Sökande 2024 - Tab1', header=5)\n",
    "#         df['År'] = int(year)  # Add year column\n",
    "#         df_list.append(df)\n",
    "#     except Exception as e:\n",
    "#         print(f\"Error processing {file}: {e}\")\n",
    "\n",
    "# # Combine all data\n",
    "# combined_df = pd.concat(df_list, ignore_index=True)\n",
    "\n",
    "# # Save to new Excel file\n",
    "# combined_df.to_excel(\"sammanstallning-resultat-2023-2024.xlsx\", index=False)"
   ]
  },
  {
   "cell_type": "code",
   "execution_count": 220,
   "id": "5a1570df",
   "metadata": {},
   "outputs": [],
   "source": [
    "# import pandas as pd\n",
    "\n",
    "# df1 = pd.read_excel(\"data/Ansökningsomgångar2020-2024\")\n",
    "# df2 = pd.read_excel(\"data/Ansökningsomgångar2020-2024\")\n",
    "\n",
    "# # Combine the data\n",
    "# #combined_df = pd.concat([df1, df2], ignore_index=True)\n",
    "\n",
    "# #combined_df.to_excel(\"sammanstallning-resultat-2020-2024-updated.xlsx\", index=False)"
   ]
  },
  {
   "cell_type": "markdown",
   "id": "095c591d",
   "metadata": {},
   "source": [
    "## Age & gender EDA - Sökande till yrkeshögskolan"
   ]
  },
  {
   "cell_type": "code",
   "execution_count": 221,
   "id": "e1af3e05",
   "metadata": {},
   "outputs": [
    {
     "name": "stdout",
     "output_type": "stream",
     "text": [
      "<class 'pandas.core.frame.DataFrame'>\n",
      "RangeIndex: 18 entries, 0 to 17\n",
      "Data columns (total 5 columns):\n",
      " #   Column      Non-Null Count  Dtype \n",
      "---  ------      --------------  ----- \n",
      " 0   Age groups  18 non-null     object\n",
      " 1   Total       18 non-null     int64 \n",
      " 2   Women       18 non-null     int64 \n",
      " 3   Men         18 non-null     int64 \n",
      " 4   Year        18 non-null     int64 \n",
      "dtypes: int64(4), object(1)\n",
      "memory usage: 852.0+ bytes\n",
      "None\n",
      "<class 'pandas.core.frame.DataFrame'>\n",
      "RangeIndex: 45 entries, 0 to 44\n",
      "Data columns (total 5 columns):\n",
      " #   Column     Non-Null Count  Dtype \n",
      "---  ------     --------------  ----- \n",
      " 0   Education  45 non-null     object\n",
      " 1   Total      45 non-null     int64 \n",
      " 2   Women      45 non-null     int64 \n",
      " 3   Men        45 non-null     int64 \n",
      " 4   Year       45 non-null     int64 \n",
      "dtypes: int64(4), object(1)\n",
      "memory usage: 1.9+ KB\n",
      "None\n"
     ]
    }
   ],
   "source": [
    "import pandas as pd\n",
    "\n",
    "excel_path = 'data/Utbildningsansökning_age.xlsx'\n",
    "\n",
    "age_df = pd.read_excel(excel_path, sheet_name='Age')\n",
    "edu_df = pd.read_excel(excel_path, sheet_name='Education')\n",
    "\n",
    "print(age_df.info())\n",
    "print(edu_df.info())\n"
   ]
  },
  {
   "cell_type": "code",
   "execution_count": 222,
   "id": "2bca5dcf",
   "metadata": {},
   "outputs": [
    {
     "name": "stdout",
     "output_type": "stream",
     "text": [
      "Students in IT 2005: 2587\n",
      "Students in IT 2024: 16447\n"
     ]
    }
   ],
   "source": [
    "#df3.replace('..', pd.NA, inplace=True)\n",
    "#df3.to_excel(\"cleaned_dataset.xlsx\", index=False)\n",
    "\n",
    "# Get number of students in Data/IT in 2005\n",
    "data_it_2005 = df3.loc[df3['År'] == 2005, 'Data/It'].values[0]\n",
    "data_it_2024 = df3.loc[df3['År'] == 2024, 'Data/It'].values[0]\n",
    "\n",
    "print(f\"Students in IT 2005: {data_it_2005}\")\n",
    "print(f\"Students in IT 2024: {data_it_2024}\")\n"
   ]
  },
  {
   "cell_type": "code",
   "execution_count": 223,
   "id": "bf3582e3",
   "metadata": {},
   "outputs": [
    {
     "name": "stdout",
     "output_type": "stream",
     "text": [
      "Column with highest total students: Ekonomi, administration och försäljning (259487.0)\n",
      "Column with lowest total students: Juridik (5687.0)\n"
     ]
    }
   ],
   "source": [
    "# Excludera år, övrigt & total columner\n",
    "numeric_cols = df3.drop(columns=['År', 'Totalt', 'Övrigt'])\n",
    "\n",
    "# Summera varje column\n",
    "column_sums = numeric_cols.sum()\n",
    "\n",
    "# Find column with max\n",
    "max_column = column_sums.idxmax()\n",
    "max_value = column_sums[max_column]\n",
    "\n",
    "# Find column with min\n",
    "min_column = column_sums.idxmin()\n",
    "min_value = column_sums[min_column]\n",
    "\n",
    "print(f\"Column with highest total students: {max_column} ({max_value})\")\n",
    "print(f\"Column with lowest total students: {min_column} ({min_value})\")\n"
   ]
  },
  {
   "cell_type": "code",
   "execution_count": 224,
   "id": "28366875",
   "metadata": {},
   "outputs": [
    {
     "name": "stdout",
     "output_type": "stream",
     "text": [
      "Column with highest total students: Ekonomi, administration och försäljning (259487)\n",
      "Column with lowest total students: Juridik (5687)\n"
     ]
    }
   ],
   "source": [
    "#Omvandlar ovan till funktion\n",
    "\n",
    "def find_min_max_columns(df):\n",
    "    numeric_cols = df.drop(columns=['År', 'Totalt', 'Övrigt'])\n",
    "    column_sums = numeric_cols.sum()\n",
    "    max_column = column_sums.idxmax()\n",
    "    max_value = column_sums[max_column]\n",
    "    min_column = column_sums.idxmin()\n",
    "    min_value = column_sums[min_column]\n",
    "    return max_column, max_value, min_column, min_value\n",
    "\n",
    "print(f\"Column with highest total students: {max_col} ({max_val})\")\n",
    "print(f\"Column with lowest total students: {min_col} ({min_val})\")"
   ]
  },
  {
   "cell_type": "code",
   "execution_count": 225,
   "id": "f2dc9f11",
   "metadata": {},
   "outputs": [
    {
     "data": {
      "application/vnd.plotly.v1+json": {
       "config": {
        "plotlyServerURL": "https://plot.ly"
       },
       "data": [
        {
         "hovertemplate": "Gender=Women<br>Applicants=%{x}<br>Education=%{y}<extra></extra>",
         "legendgroup": "Women",
         "marker": {
          "color": "#636efa",
          "opacity": 0.5,
          "pattern": {
           "shape": ""
          }
         },
         "name": "Women",
         "orientation": "h",
         "showlegend": true,
         "textposition": "auto",
         "type": "bar",
         "x": {
          "bdata": "3hKMRk0BQgsqNO8CzgKsCfoEhAEAFAECWxBzAp0A",
          "dtype": "i2"
         },
         "xaxis": "x",
         "y": [
          "Data/IT",
          "Ekonomi, administration och försäljning",
          "Friskvård och kroppsvård",
          "Hotell, restaurang och turism",
          "Hälso- och sjukvård samt socialt arbete",
          "Journalistik och information",
          "Juridik",
          "Kultur, media och design",
          "Lantbruk, djurvård, trädgård, skog och fiske",
          "Pedagogik och undervisning",
          "Samhällsbyggnad och byggteknik",
          "Säkerhetstjänster",
          "Teknik och tillverkning",
          "Transporttjänster",
          "Övrigt"
         ],
         "yaxis": "y"
        },
        {
         "hovertemplate": "Gender=Men<br>Applicants=%{x}<br>Education=%{y}<extra></extra>",
         "legendgroup": "Men",
         "marker": {
          "color": "#EF553B",
          "opacity": 0.5,
          "pattern": {
           "shape": ""
          }
         },
         "name": "Men",
         "orientation": "h",
         "showlegend": true,
         "textposition": "auto",
         "type": "bar",
         "x": {
          "bdata": "niEVGQQAfwO/B7UAkgBfCAsC2gEwH+gBMicKB08A",
          "dtype": "i2"
         },
         "xaxis": "x",
         "y": [
          "Data/IT",
          "Ekonomi, administration och försäljning",
          "Friskvård och kroppsvård",
          "Hotell, restaurang och turism",
          "Hälso- och sjukvård samt socialt arbete",
          "Journalistik och information",
          "Juridik",
          "Kultur, media och design",
          "Lantbruk, djurvård, trädgård, skog och fiske",
          "Pedagogik och undervisning",
          "Samhällsbyggnad och byggteknik",
          "Säkerhetstjänster",
          "Teknik och tillverkning",
          "Transporttjänster",
          "Övrigt"
         ],
         "yaxis": "y"
        }
       ],
       "layout": {
        "barmode": "overlay",
        "height": 700,
        "legend": {
         "title": {
          "text": "Gender"
         },
         "tracegroupgap": 0
        },
        "template": {
         "data": {
          "bar": [
           {
            "error_x": {
             "color": "#2a3f5f"
            },
            "error_y": {
             "color": "#2a3f5f"
            },
            "marker": {
             "line": {
              "color": "#E5ECF6",
              "width": 0.5
             },
             "pattern": {
              "fillmode": "overlay",
              "size": 10,
              "solidity": 0.2
             }
            },
            "type": "bar"
           }
          ],
          "barpolar": [
           {
            "marker": {
             "line": {
              "color": "#E5ECF6",
              "width": 0.5
             },
             "pattern": {
              "fillmode": "overlay",
              "size": 10,
              "solidity": 0.2
             }
            },
            "type": "barpolar"
           }
          ],
          "carpet": [
           {
            "aaxis": {
             "endlinecolor": "#2a3f5f",
             "gridcolor": "white",
             "linecolor": "white",
             "minorgridcolor": "white",
             "startlinecolor": "#2a3f5f"
            },
            "baxis": {
             "endlinecolor": "#2a3f5f",
             "gridcolor": "white",
             "linecolor": "white",
             "minorgridcolor": "white",
             "startlinecolor": "#2a3f5f"
            },
            "type": "carpet"
           }
          ],
          "choropleth": [
           {
            "colorbar": {
             "outlinewidth": 0,
             "ticks": ""
            },
            "type": "choropleth"
           }
          ],
          "contour": [
           {
            "colorbar": {
             "outlinewidth": 0,
             "ticks": ""
            },
            "colorscale": [
             [
              0,
              "#0d0887"
             ],
             [
              0.1111111111111111,
              "#46039f"
             ],
             [
              0.2222222222222222,
              "#7201a8"
             ],
             [
              0.3333333333333333,
              "#9c179e"
             ],
             [
              0.4444444444444444,
              "#bd3786"
             ],
             [
              0.5555555555555556,
              "#d8576b"
             ],
             [
              0.6666666666666666,
              "#ed7953"
             ],
             [
              0.7777777777777778,
              "#fb9f3a"
             ],
             [
              0.8888888888888888,
              "#fdca26"
             ],
             [
              1,
              "#f0f921"
             ]
            ],
            "type": "contour"
           }
          ],
          "contourcarpet": [
           {
            "colorbar": {
             "outlinewidth": 0,
             "ticks": ""
            },
            "type": "contourcarpet"
           }
          ],
          "heatmap": [
           {
            "colorbar": {
             "outlinewidth": 0,
             "ticks": ""
            },
            "colorscale": [
             [
              0,
              "#0d0887"
             ],
             [
              0.1111111111111111,
              "#46039f"
             ],
             [
              0.2222222222222222,
              "#7201a8"
             ],
             [
              0.3333333333333333,
              "#9c179e"
             ],
             [
              0.4444444444444444,
              "#bd3786"
             ],
             [
              0.5555555555555556,
              "#d8576b"
             ],
             [
              0.6666666666666666,
              "#ed7953"
             ],
             [
              0.7777777777777778,
              "#fb9f3a"
             ],
             [
              0.8888888888888888,
              "#fdca26"
             ],
             [
              1,
              "#f0f921"
             ]
            ],
            "type": "heatmap"
           }
          ],
          "histogram": [
           {
            "marker": {
             "pattern": {
              "fillmode": "overlay",
              "size": 10,
              "solidity": 0.2
             }
            },
            "type": "histogram"
           }
          ],
          "histogram2d": [
           {
            "colorbar": {
             "outlinewidth": 0,
             "ticks": ""
            },
            "colorscale": [
             [
              0,
              "#0d0887"
             ],
             [
              0.1111111111111111,
              "#46039f"
             ],
             [
              0.2222222222222222,
              "#7201a8"
             ],
             [
              0.3333333333333333,
              "#9c179e"
             ],
             [
              0.4444444444444444,
              "#bd3786"
             ],
             [
              0.5555555555555556,
              "#d8576b"
             ],
             [
              0.6666666666666666,
              "#ed7953"
             ],
             [
              0.7777777777777778,
              "#fb9f3a"
             ],
             [
              0.8888888888888888,
              "#fdca26"
             ],
             [
              1,
              "#f0f921"
             ]
            ],
            "type": "histogram2d"
           }
          ],
          "histogram2dcontour": [
           {
            "colorbar": {
             "outlinewidth": 0,
             "ticks": ""
            },
            "colorscale": [
             [
              0,
              "#0d0887"
             ],
             [
              0.1111111111111111,
              "#46039f"
             ],
             [
              0.2222222222222222,
              "#7201a8"
             ],
             [
              0.3333333333333333,
              "#9c179e"
             ],
             [
              0.4444444444444444,
              "#bd3786"
             ],
             [
              0.5555555555555556,
              "#d8576b"
             ],
             [
              0.6666666666666666,
              "#ed7953"
             ],
             [
              0.7777777777777778,
              "#fb9f3a"
             ],
             [
              0.8888888888888888,
              "#fdca26"
             ],
             [
              1,
              "#f0f921"
             ]
            ],
            "type": "histogram2dcontour"
           }
          ],
          "mesh3d": [
           {
            "colorbar": {
             "outlinewidth": 0,
             "ticks": ""
            },
            "type": "mesh3d"
           }
          ],
          "parcoords": [
           {
            "line": {
             "colorbar": {
              "outlinewidth": 0,
              "ticks": ""
             }
            },
            "type": "parcoords"
           }
          ],
          "pie": [
           {
            "automargin": true,
            "type": "pie"
           }
          ],
          "scatter": [
           {
            "fillpattern": {
             "fillmode": "overlay",
             "size": 10,
             "solidity": 0.2
            },
            "type": "scatter"
           }
          ],
          "scatter3d": [
           {
            "line": {
             "colorbar": {
              "outlinewidth": 0,
              "ticks": ""
             }
            },
            "marker": {
             "colorbar": {
              "outlinewidth": 0,
              "ticks": ""
             }
            },
            "type": "scatter3d"
           }
          ],
          "scattercarpet": [
           {
            "marker": {
             "colorbar": {
              "outlinewidth": 0,
              "ticks": ""
             }
            },
            "type": "scattercarpet"
           }
          ],
          "scattergeo": [
           {
            "marker": {
             "colorbar": {
              "outlinewidth": 0,
              "ticks": ""
             }
            },
            "type": "scattergeo"
           }
          ],
          "scattergl": [
           {
            "marker": {
             "colorbar": {
              "outlinewidth": 0,
              "ticks": ""
             }
            },
            "type": "scattergl"
           }
          ],
          "scattermap": [
           {
            "marker": {
             "colorbar": {
              "outlinewidth": 0,
              "ticks": ""
             }
            },
            "type": "scattermap"
           }
          ],
          "scattermapbox": [
           {
            "marker": {
             "colorbar": {
              "outlinewidth": 0,
              "ticks": ""
             }
            },
            "type": "scattermapbox"
           }
          ],
          "scatterpolar": [
           {
            "marker": {
             "colorbar": {
              "outlinewidth": 0,
              "ticks": ""
             }
            },
            "type": "scatterpolar"
           }
          ],
          "scatterpolargl": [
           {
            "marker": {
             "colorbar": {
              "outlinewidth": 0,
              "ticks": ""
             }
            },
            "type": "scatterpolargl"
           }
          ],
          "scatterternary": [
           {
            "marker": {
             "colorbar": {
              "outlinewidth": 0,
              "ticks": ""
             }
            },
            "type": "scatterternary"
           }
          ],
          "surface": [
           {
            "colorbar": {
             "outlinewidth": 0,
             "ticks": ""
            },
            "colorscale": [
             [
              0,
              "#0d0887"
             ],
             [
              0.1111111111111111,
              "#46039f"
             ],
             [
              0.2222222222222222,
              "#7201a8"
             ],
             [
              0.3333333333333333,
              "#9c179e"
             ],
             [
              0.4444444444444444,
              "#bd3786"
             ],
             [
              0.5555555555555556,
              "#d8576b"
             ],
             [
              0.6666666666666666,
              "#ed7953"
             ],
             [
              0.7777777777777778,
              "#fb9f3a"
             ],
             [
              0.8888888888888888,
              "#fdca26"
             ],
             [
              1,
              "#f0f921"
             ]
            ],
            "type": "surface"
           }
          ],
          "table": [
           {
            "cells": {
             "fill": {
              "color": "#EBF0F8"
             },
             "line": {
              "color": "white"
             }
            },
            "header": {
             "fill": {
              "color": "#C8D4E3"
             },
             "line": {
              "color": "white"
             }
            },
            "type": "table"
           }
          ]
         },
         "layout": {
          "annotationdefaults": {
           "arrowcolor": "#2a3f5f",
           "arrowhead": 0,
           "arrowwidth": 1
          },
          "autotypenumbers": "strict",
          "coloraxis": {
           "colorbar": {
            "outlinewidth": 0,
            "ticks": ""
           }
          },
          "colorscale": {
           "diverging": [
            [
             0,
             "#8e0152"
            ],
            [
             0.1,
             "#c51b7d"
            ],
            [
             0.2,
             "#de77ae"
            ],
            [
             0.3,
             "#f1b6da"
            ],
            [
             0.4,
             "#fde0ef"
            ],
            [
             0.5,
             "#f7f7f7"
            ],
            [
             0.6,
             "#e6f5d0"
            ],
            [
             0.7,
             "#b8e186"
            ],
            [
             0.8,
             "#7fbc41"
            ],
            [
             0.9,
             "#4d9221"
            ],
            [
             1,
             "#276419"
            ]
           ],
           "sequential": [
            [
             0,
             "#0d0887"
            ],
            [
             0.1111111111111111,
             "#46039f"
            ],
            [
             0.2222222222222222,
             "#7201a8"
            ],
            [
             0.3333333333333333,
             "#9c179e"
            ],
            [
             0.4444444444444444,
             "#bd3786"
            ],
            [
             0.5555555555555556,
             "#d8576b"
            ],
            [
             0.6666666666666666,
             "#ed7953"
            ],
            [
             0.7777777777777778,
             "#fb9f3a"
            ],
            [
             0.8888888888888888,
             "#fdca26"
            ],
            [
             1,
             "#f0f921"
            ]
           ],
           "sequentialminus": [
            [
             0,
             "#0d0887"
            ],
            [
             0.1111111111111111,
             "#46039f"
            ],
            [
             0.2222222222222222,
             "#7201a8"
            ],
            [
             0.3333333333333333,
             "#9c179e"
            ],
            [
             0.4444444444444444,
             "#bd3786"
            ],
            [
             0.5555555555555556,
             "#d8576b"
            ],
            [
             0.6666666666666666,
             "#ed7953"
            ],
            [
             0.7777777777777778,
             "#fb9f3a"
            ],
            [
             0.8888888888888888,
             "#fdca26"
            ],
            [
             1,
             "#f0f921"
            ]
           ]
          },
          "colorway": [
           "#636efa",
           "#EF553B",
           "#00cc96",
           "#ab63fa",
           "#FFA15A",
           "#19d3f3",
           "#FF6692",
           "#B6E880",
           "#FF97FF",
           "#FECB52"
          ],
          "font": {
           "color": "#2a3f5f"
          },
          "geo": {
           "bgcolor": "white",
           "lakecolor": "white",
           "landcolor": "#E5ECF6",
           "showlakes": true,
           "showland": true,
           "subunitcolor": "white"
          },
          "hoverlabel": {
           "align": "left"
          },
          "hovermode": "closest",
          "mapbox": {
           "style": "light"
          },
          "paper_bgcolor": "white",
          "plot_bgcolor": "#E5ECF6",
          "polar": {
           "angularaxis": {
            "gridcolor": "white",
            "linecolor": "white",
            "ticks": ""
           },
           "bgcolor": "#E5ECF6",
           "radialaxis": {
            "gridcolor": "white",
            "linecolor": "white",
            "ticks": ""
           }
          },
          "scene": {
           "xaxis": {
            "backgroundcolor": "#E5ECF6",
            "gridcolor": "white",
            "gridwidth": 2,
            "linecolor": "white",
            "showbackground": true,
            "ticks": "",
            "zerolinecolor": "white"
           },
           "yaxis": {
            "backgroundcolor": "#E5ECF6",
            "gridcolor": "white",
            "gridwidth": 2,
            "linecolor": "white",
            "showbackground": true,
            "ticks": "",
            "zerolinecolor": "white"
           },
           "zaxis": {
            "backgroundcolor": "#E5ECF6",
            "gridcolor": "white",
            "gridwidth": 2,
            "linecolor": "white",
            "showbackground": true,
            "ticks": "",
            "zerolinecolor": "white"
           }
          },
          "shapedefaults": {
           "line": {
            "color": "#2a3f5f"
           }
          },
          "ternary": {
           "aaxis": {
            "gridcolor": "white",
            "linecolor": "white",
            "ticks": ""
           },
           "baxis": {
            "gridcolor": "white",
            "linecolor": "white",
            "ticks": ""
           },
           "bgcolor": "#E5ECF6",
           "caxis": {
            "gridcolor": "white",
            "linecolor": "white",
            "ticks": ""
           }
          },
          "title": {
           "x": 0.05
          },
          "xaxis": {
           "automargin": true,
           "gridcolor": "white",
           "linecolor": "white",
           "ticks": "",
           "title": {
            "standoff": 15
           },
           "zerolinecolor": "white",
           "zerolinewidth": 2
          },
          "yaxis": {
           "automargin": true,
           "gridcolor": "white",
           "linecolor": "white",
           "ticks": "",
           "title": {
            "standoff": 15
           },
           "zerolinecolor": "white",
           "zerolinewidth": 2
          }
         }
        },
        "title": {
         "text": "Men vs Women Applicants per Education Field (2024)"
        },
        "xaxis": {
         "anchor": "y",
         "domain": [
          0,
          1
         ],
         "title": {
          "text": "Number of Applicants"
         }
        },
        "yaxis": {
         "anchor": "x",
         "domain": [
          0,
          1
         ],
         "title": {
          "text": "Education Field"
         }
        }
       }
      }
     },
     "metadata": {},
     "output_type": "display_data"
    }
   ],
   "source": [
    "import pandas as pd\n",
    "import plotly.express as px\n",
    "\n",
    "df = pd.read_excel(\"data/Utbildningsansökning_age.xlsx\", sheet_name='Education')\n",
    "\n",
    "# Clean and convert numbers (remove spaces and convert to int)\n",
    "for col in ['Total', 'Women', 'Men']:\n",
    "    df[col] = df[col].astype(str).str.replace(' ', '').astype(int)\n",
    "\n",
    "# Filter for the most recent year (2024)\n",
    "df_2024 = df[df['Year'] == 2024]\n",
    "\n",
    "# Create the overlapping horizontal bar chart\n",
    "fig = px.bar(\n",
    "    df_2024.melt(id_vars=['Education'], value_vars=['Women', 'Men'], var_name='Gender', value_name='Applicants'),\n",
    "    x='Applicants',\n",
    "    y='Education',\n",
    "    color='Gender',\n",
    "    barmode='overlay',\n",
    "    orientation='h',\n",
    "    title='Men vs Women Applicants per Education Field (2024)'\n",
    ")\n",
    "\n",
    "fig.update_layout(\n",
    "    height=700,\n",
    "    xaxis_title='Number of Applicants',\n",
    "    yaxis_title='Education Field',\n",
    "    legend_title='Gender'\n",
    ")\n",
    "\n",
    "fig.show()\n"
   ]
  },
  {
   "cell_type": "code",
   "execution_count": 226,
   "id": "9f2a0e0a",
   "metadata": {},
   "outputs": [
    {
     "data": {
      "application/vnd.plotly.v1+json": {
       "config": {
        "plotlyServerURL": "https://plot.ly"
       },
       "data": [
        {
         "hovertemplate": "Gender=Women<br>Applicants=%{x}<br>Education=%{y}<extra></extra>",
         "legendgroup": "Women",
         "marker": {
          "color": "lightblue",
          "opacity": 0.5,
          "pattern": {
           "shape": ""
          }
         },
         "name": "Women",
         "orientation": "h",
         "showlegend": true,
         "textposition": "auto",
         "type": "bar",
         "x": {
          "bdata": "9wUAAEkJAACVBAAALBUAABEUAACxJQAAKhwAADojAADeYQAAtokAAA==",
          "dtype": "i4"
         },
         "xaxis": "x",
         "y": [
          "Journalistik och information",
          "Lantbruk, djurvård, trädgård, skog och fiske",
          "Transporttjänster",
          "Hotell, restaurang och turism",
          "Kultur, media och design",
          "Samhällsbyggnad och byggteknik",
          "Teknik och tillverkning",
          "Data/IT",
          "Hälso- och sjukvård samt socialt arbete",
          "Ekonomi, administration och försäljning"
         ],
         "yaxis": "y"
        },
        {
         "hovertemplate": "Gender=Men<br>Applicants=%{x}<br>Education=%{y}<extra></extra>",
         "legendgroup": "Men",
         "marker": {
          "color": "grey",
          "opacity": 0.5,
          "pattern": {
           "shape": ""
          }
         },
         "name": "Men",
         "orientation": "h",
         "showlegend": true,
         "textposition": "auto",
         "type": "bar",
         "x": {
          "bdata": "iAGZA4gLtwb6ECM7pEYuQG0OYDE=",
          "dtype": "i2"
         },
         "xaxis": "x",
         "y": [
          "Journalistik och information",
          "Lantbruk, djurvård, trädgård, skog och fiske",
          "Transporttjänster",
          "Hotell, restaurang och turism",
          "Kultur, media och design",
          "Samhällsbyggnad och byggteknik",
          "Teknik och tillverkning",
          "Data/IT",
          "Hälso- och sjukvård samt socialt arbete",
          "Ekonomi, administration och försäljning"
         ],
         "yaxis": "y"
        }
       ],
       "layout": {
        "barmode": "overlay",
        "hoverlabel": {
         "bgcolor": "darkblue",
         "bordercolor": "black",
         "font": {
          "color": "white",
          "family": "Inter",
          "size": 15
         }
        },
        "legend": {
         "title": {
          "text": "Gender"
         },
         "tracegroupgap": 0
        },
        "margin": {
         "t": 60
        },
        "paper_bgcolor": "white",
        "plot_bgcolor": "white",
        "template": {
         "data": {
          "bar": [
           {
            "error_x": {
             "color": "#2a3f5f"
            },
            "error_y": {
             "color": "#2a3f5f"
            },
            "marker": {
             "line": {
              "color": "#E5ECF6",
              "width": 0.5
             },
             "pattern": {
              "fillmode": "overlay",
              "size": 10,
              "solidity": 0.2
             }
            },
            "type": "bar"
           }
          ],
          "barpolar": [
           {
            "marker": {
             "line": {
              "color": "#E5ECF6",
              "width": 0.5
             },
             "pattern": {
              "fillmode": "overlay",
              "size": 10,
              "solidity": 0.2
             }
            },
            "type": "barpolar"
           }
          ],
          "carpet": [
           {
            "aaxis": {
             "endlinecolor": "#2a3f5f",
             "gridcolor": "white",
             "linecolor": "white",
             "minorgridcolor": "white",
             "startlinecolor": "#2a3f5f"
            },
            "baxis": {
             "endlinecolor": "#2a3f5f",
             "gridcolor": "white",
             "linecolor": "white",
             "minorgridcolor": "white",
             "startlinecolor": "#2a3f5f"
            },
            "type": "carpet"
           }
          ],
          "choropleth": [
           {
            "colorbar": {
             "outlinewidth": 0,
             "ticks": ""
            },
            "type": "choropleth"
           }
          ],
          "contour": [
           {
            "colorbar": {
             "outlinewidth": 0,
             "ticks": ""
            },
            "colorscale": [
             [
              0,
              "#0d0887"
             ],
             [
              0.1111111111111111,
              "#46039f"
             ],
             [
              0.2222222222222222,
              "#7201a8"
             ],
             [
              0.3333333333333333,
              "#9c179e"
             ],
             [
              0.4444444444444444,
              "#bd3786"
             ],
             [
              0.5555555555555556,
              "#d8576b"
             ],
             [
              0.6666666666666666,
              "#ed7953"
             ],
             [
              0.7777777777777778,
              "#fb9f3a"
             ],
             [
              0.8888888888888888,
              "#fdca26"
             ],
             [
              1,
              "#f0f921"
             ]
            ],
            "type": "contour"
           }
          ],
          "contourcarpet": [
           {
            "colorbar": {
             "outlinewidth": 0,
             "ticks": ""
            },
            "type": "contourcarpet"
           }
          ],
          "heatmap": [
           {
            "colorbar": {
             "outlinewidth": 0,
             "ticks": ""
            },
            "colorscale": [
             [
              0,
              "#0d0887"
             ],
             [
              0.1111111111111111,
              "#46039f"
             ],
             [
              0.2222222222222222,
              "#7201a8"
             ],
             [
              0.3333333333333333,
              "#9c179e"
             ],
             [
              0.4444444444444444,
              "#bd3786"
             ],
             [
              0.5555555555555556,
              "#d8576b"
             ],
             [
              0.6666666666666666,
              "#ed7953"
             ],
             [
              0.7777777777777778,
              "#fb9f3a"
             ],
             [
              0.8888888888888888,
              "#fdca26"
             ],
             [
              1,
              "#f0f921"
             ]
            ],
            "type": "heatmap"
           }
          ],
          "histogram": [
           {
            "marker": {
             "pattern": {
              "fillmode": "overlay",
              "size": 10,
              "solidity": 0.2
             }
            },
            "type": "histogram"
           }
          ],
          "histogram2d": [
           {
            "colorbar": {
             "outlinewidth": 0,
             "ticks": ""
            },
            "colorscale": [
             [
              0,
              "#0d0887"
             ],
             [
              0.1111111111111111,
              "#46039f"
             ],
             [
              0.2222222222222222,
              "#7201a8"
             ],
             [
              0.3333333333333333,
              "#9c179e"
             ],
             [
              0.4444444444444444,
              "#bd3786"
             ],
             [
              0.5555555555555556,
              "#d8576b"
             ],
             [
              0.6666666666666666,
              "#ed7953"
             ],
             [
              0.7777777777777778,
              "#fb9f3a"
             ],
             [
              0.8888888888888888,
              "#fdca26"
             ],
             [
              1,
              "#f0f921"
             ]
            ],
            "type": "histogram2d"
           }
          ],
          "histogram2dcontour": [
           {
            "colorbar": {
             "outlinewidth": 0,
             "ticks": ""
            },
            "colorscale": [
             [
              0,
              "#0d0887"
             ],
             [
              0.1111111111111111,
              "#46039f"
             ],
             [
              0.2222222222222222,
              "#7201a8"
             ],
             [
              0.3333333333333333,
              "#9c179e"
             ],
             [
              0.4444444444444444,
              "#bd3786"
             ],
             [
              0.5555555555555556,
              "#d8576b"
             ],
             [
              0.6666666666666666,
              "#ed7953"
             ],
             [
              0.7777777777777778,
              "#fb9f3a"
             ],
             [
              0.8888888888888888,
              "#fdca26"
             ],
             [
              1,
              "#f0f921"
             ]
            ],
            "type": "histogram2dcontour"
           }
          ],
          "mesh3d": [
           {
            "colorbar": {
             "outlinewidth": 0,
             "ticks": ""
            },
            "type": "mesh3d"
           }
          ],
          "parcoords": [
           {
            "line": {
             "colorbar": {
              "outlinewidth": 0,
              "ticks": ""
             }
            },
            "type": "parcoords"
           }
          ],
          "pie": [
           {
            "automargin": true,
            "type": "pie"
           }
          ],
          "scatter": [
           {
            "fillpattern": {
             "fillmode": "overlay",
             "size": 10,
             "solidity": 0.2
            },
            "type": "scatter"
           }
          ],
          "scatter3d": [
           {
            "line": {
             "colorbar": {
              "outlinewidth": 0,
              "ticks": ""
             }
            },
            "marker": {
             "colorbar": {
              "outlinewidth": 0,
              "ticks": ""
             }
            },
            "type": "scatter3d"
           }
          ],
          "scattercarpet": [
           {
            "marker": {
             "colorbar": {
              "outlinewidth": 0,
              "ticks": ""
             }
            },
            "type": "scattercarpet"
           }
          ],
          "scattergeo": [
           {
            "marker": {
             "colorbar": {
              "outlinewidth": 0,
              "ticks": ""
             }
            },
            "type": "scattergeo"
           }
          ],
          "scattergl": [
           {
            "marker": {
             "colorbar": {
              "outlinewidth": 0,
              "ticks": ""
             }
            },
            "type": "scattergl"
           }
          ],
          "scattermap": [
           {
            "marker": {
             "colorbar": {
              "outlinewidth": 0,
              "ticks": ""
             }
            },
            "type": "scattermap"
           }
          ],
          "scattermapbox": [
           {
            "marker": {
             "colorbar": {
              "outlinewidth": 0,
              "ticks": ""
             }
            },
            "type": "scattermapbox"
           }
          ],
          "scatterpolar": [
           {
            "marker": {
             "colorbar": {
              "outlinewidth": 0,
              "ticks": ""
             }
            },
            "type": "scatterpolar"
           }
          ],
          "scatterpolargl": [
           {
            "marker": {
             "colorbar": {
              "outlinewidth": 0,
              "ticks": ""
             }
            },
            "type": "scatterpolargl"
           }
          ],
          "scatterternary": [
           {
            "marker": {
             "colorbar": {
              "outlinewidth": 0,
              "ticks": ""
             }
            },
            "type": "scatterternary"
           }
          ],
          "surface": [
           {
            "colorbar": {
             "outlinewidth": 0,
             "ticks": ""
            },
            "colorscale": [
             [
              0,
              "#0d0887"
             ],
             [
              0.1111111111111111,
              "#46039f"
             ],
             [
              0.2222222222222222,
              "#7201a8"
             ],
             [
              0.3333333333333333,
              "#9c179e"
             ],
             [
              0.4444444444444444,
              "#bd3786"
             ],
             [
              0.5555555555555556,
              "#d8576b"
             ],
             [
              0.6666666666666666,
              "#ed7953"
             ],
             [
              0.7777777777777778,
              "#fb9f3a"
             ],
             [
              0.8888888888888888,
              "#fdca26"
             ],
             [
              1,
              "#f0f921"
             ]
            ],
            "type": "surface"
           }
          ],
          "table": [
           {
            "cells": {
             "fill": {
              "color": "#EBF0F8"
             },
             "line": {
              "color": "white"
             }
            },
            "header": {
             "fill": {
              "color": "#C8D4E3"
             },
             "line": {
              "color": "white"
             }
            },
            "type": "table"
           }
          ]
         },
         "layout": {
          "annotationdefaults": {
           "arrowcolor": "#2a3f5f",
           "arrowhead": 0,
           "arrowwidth": 1
          },
          "autotypenumbers": "strict",
          "coloraxis": {
           "colorbar": {
            "outlinewidth": 0,
            "ticks": ""
           }
          },
          "colorscale": {
           "diverging": [
            [
             0,
             "#8e0152"
            ],
            [
             0.1,
             "#c51b7d"
            ],
            [
             0.2,
             "#de77ae"
            ],
            [
             0.3,
             "#f1b6da"
            ],
            [
             0.4,
             "#fde0ef"
            ],
            [
             0.5,
             "#f7f7f7"
            ],
            [
             0.6,
             "#e6f5d0"
            ],
            [
             0.7,
             "#b8e186"
            ],
            [
             0.8,
             "#7fbc41"
            ],
            [
             0.9,
             "#4d9221"
            ],
            [
             1,
             "#276419"
            ]
           ],
           "sequential": [
            [
             0,
             "#0d0887"
            ],
            [
             0.1111111111111111,
             "#46039f"
            ],
            [
             0.2222222222222222,
             "#7201a8"
            ],
            [
             0.3333333333333333,
             "#9c179e"
            ],
            [
             0.4444444444444444,
             "#bd3786"
            ],
            [
             0.5555555555555556,
             "#d8576b"
            ],
            [
             0.6666666666666666,
             "#ed7953"
            ],
            [
             0.7777777777777778,
             "#fb9f3a"
            ],
            [
             0.8888888888888888,
             "#fdca26"
            ],
            [
             1,
             "#f0f921"
            ]
           ],
           "sequentialminus": [
            [
             0,
             "#0d0887"
            ],
            [
             0.1111111111111111,
             "#46039f"
            ],
            [
             0.2222222222222222,
             "#7201a8"
            ],
            [
             0.3333333333333333,
             "#9c179e"
            ],
            [
             0.4444444444444444,
             "#bd3786"
            ],
            [
             0.5555555555555556,
             "#d8576b"
            ],
            [
             0.6666666666666666,
             "#ed7953"
            ],
            [
             0.7777777777777778,
             "#fb9f3a"
            ],
            [
             0.8888888888888888,
             "#fdca26"
            ],
            [
             1,
             "#f0f921"
            ]
           ]
          },
          "colorway": [
           "#636efa",
           "#EF553B",
           "#00cc96",
           "#ab63fa",
           "#FFA15A",
           "#19d3f3",
           "#FF6692",
           "#B6E880",
           "#FF97FF",
           "#FECB52"
          ],
          "font": {
           "color": "#2a3f5f"
          },
          "geo": {
           "bgcolor": "white",
           "lakecolor": "white",
           "landcolor": "#E5ECF6",
           "showlakes": true,
           "showland": true,
           "subunitcolor": "white"
          },
          "hoverlabel": {
           "align": "left"
          },
          "hovermode": "closest",
          "mapbox": {
           "style": "light"
          },
          "paper_bgcolor": "white",
          "plot_bgcolor": "#E5ECF6",
          "polar": {
           "angularaxis": {
            "gridcolor": "white",
            "linecolor": "white",
            "ticks": ""
           },
           "bgcolor": "#E5ECF6",
           "radialaxis": {
            "gridcolor": "white",
            "linecolor": "white",
            "ticks": ""
           }
          },
          "scene": {
           "xaxis": {
            "backgroundcolor": "#E5ECF6",
            "gridcolor": "white",
            "gridwidth": 2,
            "linecolor": "white",
            "showbackground": true,
            "ticks": "",
            "zerolinecolor": "white"
           },
           "yaxis": {
            "backgroundcolor": "#E5ECF6",
            "gridcolor": "white",
            "gridwidth": 2,
            "linecolor": "white",
            "showbackground": true,
            "ticks": "",
            "zerolinecolor": "white"
           },
           "zaxis": {
            "backgroundcolor": "#E5ECF6",
            "gridcolor": "white",
            "gridwidth": 2,
            "linecolor": "white",
            "showbackground": true,
            "ticks": "",
            "zerolinecolor": "white"
           }
          },
          "shapedefaults": {
           "line": {
            "color": "#2a3f5f"
           }
          },
          "ternary": {
           "aaxis": {
            "gridcolor": "white",
            "linecolor": "white",
            "ticks": ""
           },
           "baxis": {
            "gridcolor": "white",
            "linecolor": "white",
            "ticks": ""
           },
           "bgcolor": "#E5ECF6",
           "caxis": {
            "gridcolor": "white",
            "linecolor": "white",
            "ticks": ""
           }
          },
          "title": {
           "x": 0.05
          },
          "xaxis": {
           "automargin": true,
           "gridcolor": "white",
           "linecolor": "white",
           "ticks": "",
           "title": {
            "standoff": 15
           },
           "zerolinecolor": "white",
           "zerolinewidth": 2
          },
          "yaxis": {
           "automargin": true,
           "gridcolor": "white",
           "linecolor": "white",
           "ticks": "",
           "title": {
            "standoff": 15
           },
           "zerolinecolor": "white",
           "zerolinewidth": 2
          }
         }
        },
        "title": {
         "font": {
          "color": "#334850",
          "size": 20
         },
         "text": "Men vs Women Applicants per Education Field (2023 & 2024) - Top 10"
        },
        "xaxis": {
         "anchor": "y",
         "domain": [
          0,
          1
         ],
         "linecolor": "black",
         "linewidth": 1,
         "mirror": false,
         "showline": true,
         "showticklabels": true,
         "ticks": "outside",
         "title": {
          "text": ""
         }
        },
        "yaxis": {
         "anchor": "x",
         "domain": [
          0,
          1
         ],
         "tickfont": {
          "color": "#334850",
          "size": 13
         },
         "title": {
          "text": ""
         }
        }
       }
      }
     },
     "metadata": {},
     "output_type": "display_data"
    }
   ],
   "source": [
    "import pandas as pd\n",
    "import plotly.express as px\n",
    "\n",
    "df = pd.read_excel(\"data/Utbildningsansökning_age.xlsx\", sheet_name='Education')\n",
    "\n",
    "# Clean and convert numbers\n",
    "for col in ['Total', 'Women', 'Men']:\n",
    "    df[col] = df[col].astype(str).str.replace(' ', '').astype(int)\n",
    "\n",
    "# Filter for the years 2023 and 2024\n",
    "df_filtered = df[df['Year'].isin([2023, 2024])].copy()  # Create a copy to avoid the warning\n",
    "\n",
    "# Calculate total applicants per Education for both years\n",
    "df_filtered['TotalApplicants'] = df_filtered['Women'] + df_filtered['Men']\n",
    "\n",
    "# Group by Education and sum the applicants from both years\n",
    "df_grouped = df_filtered.groupby('Education').agg(\n",
    "    Women=('Women', 'sum'),\n",
    "    Men=('Men', 'sum'),\n",
    "    TotalApplicants=('TotalApplicants', 'sum')\n",
    ").reset_index()\n",
    "\n",
    "# Get top 10 education fields by total applicants\n",
    "top_10 = df_grouped.sort_values(by='TotalApplicants', ascending=True).tail(10)\n",
    "\n",
    "# Melt data for plotting\n",
    "melted = top_10.melt(\n",
    "    id_vars=['Education'],\n",
    "    value_vars=['Women', 'Men'],\n",
    "    var_name='Gender',\n",
    "    value_name='Applicants'\n",
    ")\n",
    "\n",
    "# Create the bar chart\n",
    "fig = px.bar(\n",
    "    melted,\n",
    "    x='Applicants',\n",
    "    y='Education',\n",
    "    color='Gender',\n",
    "    barmode='overlay',\n",
    "    orientation='h',\n",
    "    color_discrete_map={\n",
    "        'Women': 'lightblue', \n",
    "        'Men': 'grey'  \n",
    "    },\n",
    ")\n",
    "\n",
    "fig.update_layout(\n",
    "    xaxis_title='',\n",
    "    yaxis_title='',\n",
    "    legend_title='Gender', \n",
    "    paper_bgcolor='white',   # Outside the plot area\n",
    "    plot_bgcolor='white',     # Inside the plot area (behind bars)\n",
    "    title=dict(\n",
    "        text='Men vs Women Applicants per Education Field (2023 & 2024) - Top 10',\n",
    "        font=dict(color='#334850', size=20, )\n",
    "    ),\n",
    "\n",
    "    xaxis=dict(\n",
    "        showline=True,\n",
    "        linewidth=1,\n",
    "        linecolor='black',\n",
    "        mirror=False,\n",
    "        ticks='outside',\n",
    "        showticklabels=True\n",
    "    ),\n",
    "    yaxis=dict(\n",
    "        tickfont=dict(color='#334850', size=13,)),\n",
    "        #Hoverlabel settings\n",
    "        hoverlabel=dict(\n",
    "        font=dict(\n",
    "            color='white',      # Text color\n",
    "            family='Inter',     # Optional: custom font\n",
    "            size=15             # Font size\n",
    "        ),\n",
    "        bgcolor='darkblue',     # Background color of the hover box\n",
    "        bordercolor='black'     # Border color (optional)\n",
    "    )\n",
    ")\n",
    "\n",
    "fig.show()\n"
   ]
  },
  {
   "cell_type": "markdown",
   "id": "e0dc9d35",
   "metadata": {},
   "source": [
    "# Age ranges"
   ]
  },
  {
   "cell_type": "code",
   "execution_count": 227,
   "id": "7d0678b0",
   "metadata": {},
   "outputs": [
    {
     "data": {
      "application/vnd.plotly.v1+json": {
       "config": {
        "plotlyServerURL": "https://plot.ly"
       },
       "data": [
        {
         "alignmentgroup": "True",
         "hovertemplate": "Gender=Women<br>Age groups=%{x}<br>Antal ansökningar=%{y}<extra></extra>",
         "legendgroup": "Women",
         "marker": {
          "color": "#636efa",
          "pattern": {
           "shape": ""
          }
         },
         "name": "Women",
         "offsetgroup": "Women",
         "orientation": "v",
         "showlegend": true,
         "textposition": "auto",
         "type": "bar",
         "x": [
          "24 år och yngre",
          "25-29 år",
          "30-34 år",
          "35-39 år",
          "40-44 år",
          "45 år och äldre",
          "24 år och yngre",
          "25-29 år",
          "30-34 år",
          "35-39 år",
          "40-44 år",
          "45 år och äldre",
          "24 år och yngre",
          "25-29 år",
          "30-34 år",
          "35-39 år",
          "40-44 år",
          "45 år och äldre"
         ],
         "xaxis": "x",
         "y": {
          "bdata": "ICPJIXQgiBlIEU4bvCDiH7gemRZuD+sXAyBvIUYffhYXD5sV",
          "dtype": "i2"
         },
         "yaxis": "y"
        },
        {
         "alignmentgroup": "True",
         "hovertemplate": "Gender=Men<br>Age groups=%{x}<br>Antal ansökningar=%{y}<extra></extra>",
         "legendgroup": "Men",
         "marker": {
          "color": "#EF553B",
          "pattern": {
           "shape": ""
          }
         },
         "name": "Men",
         "offsetgroup": "Men",
         "orientation": "v",
         "showlegend": true,
         "textposition": "auto",
         "type": "bar",
         "x": [
          "24 år och yngre",
          "25-29 år",
          "30-34 år",
          "35-39 år",
          "40-44 år",
          "45 år och äldre",
          "24 år och yngre",
          "25-29 år",
          "30-34 år",
          "35-39 år",
          "40-44 år",
          "45 år och äldre",
          "24 år och yngre",
          "25-29 år",
          "30-34 år",
          "35-39 år",
          "40-44 år",
          "45 år och äldre"
         ],
         "xaxis": "x",
         "y": {
          "bdata": "Uif/G+AWiw/CCfMNjiKOGSYVSA7tCEcMryAWGS8THgzJB7QJ",
          "dtype": "i2"
         },
         "yaxis": "y"
        }
       ],
       "layout": {
        "barmode": "group",
        "legend": {
         "title": {
          "text": "Gender"
         },
         "tracegroupgap": 0
        },
        "template": {
         "data": {
          "bar": [
           {
            "error_x": {
             "color": "#2a3f5f"
            },
            "error_y": {
             "color": "#2a3f5f"
            },
            "marker": {
             "line": {
              "color": "#E5ECF6",
              "width": 0.5
             },
             "pattern": {
              "fillmode": "overlay",
              "size": 10,
              "solidity": 0.2
             }
            },
            "type": "bar"
           }
          ],
          "barpolar": [
           {
            "marker": {
             "line": {
              "color": "#E5ECF6",
              "width": 0.5
             },
             "pattern": {
              "fillmode": "overlay",
              "size": 10,
              "solidity": 0.2
             }
            },
            "type": "barpolar"
           }
          ],
          "carpet": [
           {
            "aaxis": {
             "endlinecolor": "#2a3f5f",
             "gridcolor": "white",
             "linecolor": "white",
             "minorgridcolor": "white",
             "startlinecolor": "#2a3f5f"
            },
            "baxis": {
             "endlinecolor": "#2a3f5f",
             "gridcolor": "white",
             "linecolor": "white",
             "minorgridcolor": "white",
             "startlinecolor": "#2a3f5f"
            },
            "type": "carpet"
           }
          ],
          "choropleth": [
           {
            "colorbar": {
             "outlinewidth": 0,
             "ticks": ""
            },
            "type": "choropleth"
           }
          ],
          "contour": [
           {
            "colorbar": {
             "outlinewidth": 0,
             "ticks": ""
            },
            "colorscale": [
             [
              0,
              "#0d0887"
             ],
             [
              0.1111111111111111,
              "#46039f"
             ],
             [
              0.2222222222222222,
              "#7201a8"
             ],
             [
              0.3333333333333333,
              "#9c179e"
             ],
             [
              0.4444444444444444,
              "#bd3786"
             ],
             [
              0.5555555555555556,
              "#d8576b"
             ],
             [
              0.6666666666666666,
              "#ed7953"
             ],
             [
              0.7777777777777778,
              "#fb9f3a"
             ],
             [
              0.8888888888888888,
              "#fdca26"
             ],
             [
              1,
              "#f0f921"
             ]
            ],
            "type": "contour"
           }
          ],
          "contourcarpet": [
           {
            "colorbar": {
             "outlinewidth": 0,
             "ticks": ""
            },
            "type": "contourcarpet"
           }
          ],
          "heatmap": [
           {
            "colorbar": {
             "outlinewidth": 0,
             "ticks": ""
            },
            "colorscale": [
             [
              0,
              "#0d0887"
             ],
             [
              0.1111111111111111,
              "#46039f"
             ],
             [
              0.2222222222222222,
              "#7201a8"
             ],
             [
              0.3333333333333333,
              "#9c179e"
             ],
             [
              0.4444444444444444,
              "#bd3786"
             ],
             [
              0.5555555555555556,
              "#d8576b"
             ],
             [
              0.6666666666666666,
              "#ed7953"
             ],
             [
              0.7777777777777778,
              "#fb9f3a"
             ],
             [
              0.8888888888888888,
              "#fdca26"
             ],
             [
              1,
              "#f0f921"
             ]
            ],
            "type": "heatmap"
           }
          ],
          "histogram": [
           {
            "marker": {
             "pattern": {
              "fillmode": "overlay",
              "size": 10,
              "solidity": 0.2
             }
            },
            "type": "histogram"
           }
          ],
          "histogram2d": [
           {
            "colorbar": {
             "outlinewidth": 0,
             "ticks": ""
            },
            "colorscale": [
             [
              0,
              "#0d0887"
             ],
             [
              0.1111111111111111,
              "#46039f"
             ],
             [
              0.2222222222222222,
              "#7201a8"
             ],
             [
              0.3333333333333333,
              "#9c179e"
             ],
             [
              0.4444444444444444,
              "#bd3786"
             ],
             [
              0.5555555555555556,
              "#d8576b"
             ],
             [
              0.6666666666666666,
              "#ed7953"
             ],
             [
              0.7777777777777778,
              "#fb9f3a"
             ],
             [
              0.8888888888888888,
              "#fdca26"
             ],
             [
              1,
              "#f0f921"
             ]
            ],
            "type": "histogram2d"
           }
          ],
          "histogram2dcontour": [
           {
            "colorbar": {
             "outlinewidth": 0,
             "ticks": ""
            },
            "colorscale": [
             [
              0,
              "#0d0887"
             ],
             [
              0.1111111111111111,
              "#46039f"
             ],
             [
              0.2222222222222222,
              "#7201a8"
             ],
             [
              0.3333333333333333,
              "#9c179e"
             ],
             [
              0.4444444444444444,
              "#bd3786"
             ],
             [
              0.5555555555555556,
              "#d8576b"
             ],
             [
              0.6666666666666666,
              "#ed7953"
             ],
             [
              0.7777777777777778,
              "#fb9f3a"
             ],
             [
              0.8888888888888888,
              "#fdca26"
             ],
             [
              1,
              "#f0f921"
             ]
            ],
            "type": "histogram2dcontour"
           }
          ],
          "mesh3d": [
           {
            "colorbar": {
             "outlinewidth": 0,
             "ticks": ""
            },
            "type": "mesh3d"
           }
          ],
          "parcoords": [
           {
            "line": {
             "colorbar": {
              "outlinewidth": 0,
              "ticks": ""
             }
            },
            "type": "parcoords"
           }
          ],
          "pie": [
           {
            "automargin": true,
            "type": "pie"
           }
          ],
          "scatter": [
           {
            "fillpattern": {
             "fillmode": "overlay",
             "size": 10,
             "solidity": 0.2
            },
            "type": "scatter"
           }
          ],
          "scatter3d": [
           {
            "line": {
             "colorbar": {
              "outlinewidth": 0,
              "ticks": ""
             }
            },
            "marker": {
             "colorbar": {
              "outlinewidth": 0,
              "ticks": ""
             }
            },
            "type": "scatter3d"
           }
          ],
          "scattercarpet": [
           {
            "marker": {
             "colorbar": {
              "outlinewidth": 0,
              "ticks": ""
             }
            },
            "type": "scattercarpet"
           }
          ],
          "scattergeo": [
           {
            "marker": {
             "colorbar": {
              "outlinewidth": 0,
              "ticks": ""
             }
            },
            "type": "scattergeo"
           }
          ],
          "scattergl": [
           {
            "marker": {
             "colorbar": {
              "outlinewidth": 0,
              "ticks": ""
             }
            },
            "type": "scattergl"
           }
          ],
          "scattermap": [
           {
            "marker": {
             "colorbar": {
              "outlinewidth": 0,
              "ticks": ""
             }
            },
            "type": "scattermap"
           }
          ],
          "scattermapbox": [
           {
            "marker": {
             "colorbar": {
              "outlinewidth": 0,
              "ticks": ""
             }
            },
            "type": "scattermapbox"
           }
          ],
          "scatterpolar": [
           {
            "marker": {
             "colorbar": {
              "outlinewidth": 0,
              "ticks": ""
             }
            },
            "type": "scatterpolar"
           }
          ],
          "scatterpolargl": [
           {
            "marker": {
             "colorbar": {
              "outlinewidth": 0,
              "ticks": ""
             }
            },
            "type": "scatterpolargl"
           }
          ],
          "scatterternary": [
           {
            "marker": {
             "colorbar": {
              "outlinewidth": 0,
              "ticks": ""
             }
            },
            "type": "scatterternary"
           }
          ],
          "surface": [
           {
            "colorbar": {
             "outlinewidth": 0,
             "ticks": ""
            },
            "colorscale": [
             [
              0,
              "#0d0887"
             ],
             [
              0.1111111111111111,
              "#46039f"
             ],
             [
              0.2222222222222222,
              "#7201a8"
             ],
             [
              0.3333333333333333,
              "#9c179e"
             ],
             [
              0.4444444444444444,
              "#bd3786"
             ],
             [
              0.5555555555555556,
              "#d8576b"
             ],
             [
              0.6666666666666666,
              "#ed7953"
             ],
             [
              0.7777777777777778,
              "#fb9f3a"
             ],
             [
              0.8888888888888888,
              "#fdca26"
             ],
             [
              1,
              "#f0f921"
             ]
            ],
            "type": "surface"
           }
          ],
          "table": [
           {
            "cells": {
             "fill": {
              "color": "#EBF0F8"
             },
             "line": {
              "color": "white"
             }
            },
            "header": {
             "fill": {
              "color": "#C8D4E3"
             },
             "line": {
              "color": "white"
             }
            },
            "type": "table"
           }
          ]
         },
         "layout": {
          "annotationdefaults": {
           "arrowcolor": "#2a3f5f",
           "arrowhead": 0,
           "arrowwidth": 1
          },
          "autotypenumbers": "strict",
          "coloraxis": {
           "colorbar": {
            "outlinewidth": 0,
            "ticks": ""
           }
          },
          "colorscale": {
           "diverging": [
            [
             0,
             "#8e0152"
            ],
            [
             0.1,
             "#c51b7d"
            ],
            [
             0.2,
             "#de77ae"
            ],
            [
             0.3,
             "#f1b6da"
            ],
            [
             0.4,
             "#fde0ef"
            ],
            [
             0.5,
             "#f7f7f7"
            ],
            [
             0.6,
             "#e6f5d0"
            ],
            [
             0.7,
             "#b8e186"
            ],
            [
             0.8,
             "#7fbc41"
            ],
            [
             0.9,
             "#4d9221"
            ],
            [
             1,
             "#276419"
            ]
           ],
           "sequential": [
            [
             0,
             "#0d0887"
            ],
            [
             0.1111111111111111,
             "#46039f"
            ],
            [
             0.2222222222222222,
             "#7201a8"
            ],
            [
             0.3333333333333333,
             "#9c179e"
            ],
            [
             0.4444444444444444,
             "#bd3786"
            ],
            [
             0.5555555555555556,
             "#d8576b"
            ],
            [
             0.6666666666666666,
             "#ed7953"
            ],
            [
             0.7777777777777778,
             "#fb9f3a"
            ],
            [
             0.8888888888888888,
             "#fdca26"
            ],
            [
             1,
             "#f0f921"
            ]
           ],
           "sequentialminus": [
            [
             0,
             "#0d0887"
            ],
            [
             0.1111111111111111,
             "#46039f"
            ],
            [
             0.2222222222222222,
             "#7201a8"
            ],
            [
             0.3333333333333333,
             "#9c179e"
            ],
            [
             0.4444444444444444,
             "#bd3786"
            ],
            [
             0.5555555555555556,
             "#d8576b"
            ],
            [
             0.6666666666666666,
             "#ed7953"
            ],
            [
             0.7777777777777778,
             "#fb9f3a"
            ],
            [
             0.8888888888888888,
             "#fdca26"
            ],
            [
             1,
             "#f0f921"
            ]
           ]
          },
          "colorway": [
           "#636efa",
           "#EF553B",
           "#00cc96",
           "#ab63fa",
           "#FFA15A",
           "#19d3f3",
           "#FF6692",
           "#B6E880",
           "#FF97FF",
           "#FECB52"
          ],
          "font": {
           "color": "#2a3f5f"
          },
          "geo": {
           "bgcolor": "white",
           "lakecolor": "white",
           "landcolor": "#E5ECF6",
           "showlakes": true,
           "showland": true,
           "subunitcolor": "white"
          },
          "hoverlabel": {
           "align": "left"
          },
          "hovermode": "closest",
          "mapbox": {
           "style": "light"
          },
          "paper_bgcolor": "white",
          "plot_bgcolor": "#E5ECF6",
          "polar": {
           "angularaxis": {
            "gridcolor": "white",
            "linecolor": "white",
            "ticks": ""
           },
           "bgcolor": "#E5ECF6",
           "radialaxis": {
            "gridcolor": "white",
            "linecolor": "white",
            "ticks": ""
           }
          },
          "scene": {
           "xaxis": {
            "backgroundcolor": "#E5ECF6",
            "gridcolor": "white",
            "gridwidth": 2,
            "linecolor": "white",
            "showbackground": true,
            "ticks": "",
            "zerolinecolor": "white"
           },
           "yaxis": {
            "backgroundcolor": "#E5ECF6",
            "gridcolor": "white",
            "gridwidth": 2,
            "linecolor": "white",
            "showbackground": true,
            "ticks": "",
            "zerolinecolor": "white"
           },
           "zaxis": {
            "backgroundcolor": "#E5ECF6",
            "gridcolor": "white",
            "gridwidth": 2,
            "linecolor": "white",
            "showbackground": true,
            "ticks": "",
            "zerolinecolor": "white"
           }
          },
          "shapedefaults": {
           "line": {
            "color": "#2a3f5f"
           }
          },
          "ternary": {
           "aaxis": {
            "gridcolor": "white",
            "linecolor": "white",
            "ticks": ""
           },
           "baxis": {
            "gridcolor": "white",
            "linecolor": "white",
            "ticks": ""
           },
           "bgcolor": "#E5ECF6",
           "caxis": {
            "gridcolor": "white",
            "linecolor": "white",
            "ticks": ""
           }
          },
          "title": {
           "x": 0.05
          },
          "xaxis": {
           "automargin": true,
           "gridcolor": "white",
           "linecolor": "white",
           "ticks": "",
           "title": {
            "standoff": 15
           },
           "zerolinecolor": "white",
           "zerolinewidth": 2
          },
          "yaxis": {
           "automargin": true,
           "gridcolor": "white",
           "linecolor": "white",
           "ticks": "",
           "title": {
            "standoff": 15
           },
           "zerolinecolor": "white",
           "zerolinewidth": 2
          }
         }
        },
        "title": {
         "text": "Utbildningsansökningar 2024: Kvinnor vs. Män per åldersgrupp"
        },
        "xaxis": {
         "anchor": "y",
         "domain": [
          0,
          1
         ],
         "title": {
          "text": "Age groups"
         }
        },
        "yaxis": {
         "anchor": "x",
         "domain": [
          0,
          1
         ],
         "title": {
          "text": "Antal ansökningar"
         }
        }
       }
      }
     },
     "metadata": {},
     "output_type": "display_data"
    }
   ],
   "source": [
    "import pandas as pd\n",
    "import plotly.express as px\n",
    "\n",
    "# Read the data\n",
    "df = pd.read_excel(\"data/Utbildningsansökning_age.xlsx\", sheet_name=\"Age\")\n",
    "df.columns = df.columns.str.strip()\n",
    "\n",
    "# Reshape data for grouped bar chart\n",
    "df_melted = df.melt(id_vars=[\"Age groups\"], value_vars=[\"Women\", \"Men\"],\n",
    "                    var_name=\"Gender\", value_name=\"Applications\")\n",
    "\n",
    "# Create grouped bar chart\n",
    "fig = px.bar(\n",
    "    df_melted,\n",
    "    x=\"Age groups\",\n",
    "    y=\"Applications\",\n",
    "    color=\"Gender\",\n",
    "    barmode=\"group\",\n",
    "    title=\"Utbildningsansökningar 2024: Kvinnor vs. Män per åldersgrupp\",\n",
    "    labels={\"Applications\": \"Antal ansökningar\"}\n",
    ")\n",
    "\n",
    "fig.show()\n"
   ]
  },
  {
   "cell_type": "code",
   "execution_count": 482,
   "id": "a3f35338",
   "metadata": {},
   "outputs": [
    {
     "data": {
      "image/png": "[encoded data removed]",
      "text/plain": [
       "<Figure size 1200x700 with 1 Axes>"
      ]
     },
     "metadata": {},
     "output_type": "display_data"
    }
   ],
   "source": [
    "import pandas as pd\n",
    "import matplotlib.pyplot as plt\n",
    "import numpy as np\n",
    "\n",
    "df = pd.read_excel(\"data/Utbildningsansökning_age.xlsx\", sheet_name=\"Age\")\n",
    "# Summera över åren för varje åldersgrupp och kön\n",
    "summary = df.groupby(\"Age groups\")[[\"Women\", \"Men\"]].sum().reset_index()\n",
    "\n",
    "x = np.arange(len(summary))  # label locations\n",
    "\n",
    "fig, ax = plt.subplots(figsize=(12, 7))\n",
    "\n",
    "#---------------------------colors & bars--------------------------------\n",
    "# Colors with default lighter shades\n",
    "women_colors = [\"#d7f4fb\"] * len(summary)\n",
    "men_colors = [\"#b8bec0\"] * len(summary)\n",
    "\n",
    "# Identify index of the '45 år och äldre' group\n",
    "strong_color_index = summary[summary[\"Age groups\"] == \"45 år och äldre\"].index[0]\n",
    "\n",
    "# Set stronger colors for that group\n",
    "women_colors[strong_color_index] = \"#79DAF1\" \n",
    "men_colors[strong_color_index] = \"#707C81\"    \n",
    "\n",
    "# Rita staplar med olika färger per bar\n",
    "bars_women = ax.bar(x - width/2, summary[\"Women\"], width, color=women_colors)\n",
    "bars_men = ax.bar(x + width/2, summary[\"Men\"], width, color=men_colors)\n",
    "#---------------------------------------------------------------------------\n",
    "\n",
    "# Lägg till textetiketter över staplarna\n",
    "for bar in bars_women + bars_men:\n",
    "    height = bar.get_height()\n",
    "    ax.annotate(f'{height:,}',\n",
    "                xy=(bar.get_x() + bar.get_width() / 2, height),\n",
    "                xytext=(0, 3),  # 3 punkters offset uppåt\n",
    "                textcoords=\"offset points\",\n",
    "                ha='center', va='bottom', fontsize=10)\n",
    "\n",
    "\n",
    "#-----------------------ANNOTATION----------------------\n",
    "# Coordinates for annotation arrow\n",
    "target_index = strong_color_index\n",
    "x_coord = x[target_index]\n",
    "y_coord = max(summary.loc[target_index, \"Women\"], summary.loc[target_index, \"Men\"])\n",
    "\n",
    "# Add annotation with arrow\n",
    "ax.annotate(\n",
    "    \"Nice!\",\n",
    "    xy=(x_coord, y_coord),  # Pointing to the top of the bar\n",
    "    xytext=(x_coord + 0.5, y_coord + 1000),  # Offset text\n",
    "    arrowprops=dict(arrowstyle=\"->\", color='black'),\n",
    "    fontsize=13)\n",
    "#--------------------------------------------------------\n",
    "\n",
    "# Styling text \n",
    "plt.text(\n",
    "    0, 1.05,\n",
    "    s=(\n",
    "        \"I åldersgruppen '45 år och äldre' står kvinnor för cirka 67 % av ansökningarna till YH-utbildningar.\\n\"\n",
    "        \"Detta visar att fler kvinnor i denna åldersgrupp väljer att söka kompetensutveckling via YH – \\n\"\n",
    "        \"ofta för att byta yrkesbana eller stärka sin position på arbetsmarknaden.\"\n",
    "    ),\n",
    "    fontsize=17,\n",
    "    ha='left', va='bottom',\n",
    "    color='#404040',\n",
    "    transform=plt.gca().transAxes)\n",
    "\n",
    "# X-axel ticks och etiketter\n",
    "ax.set_xticks(x)\n",
    "ax.set_xticklabels(summary[\"Age groups\"], fontsize=12)\n",
    "\n",
    "# Ta bort spines\n",
    "ax.spines['top'].set_visible(False)\n",
    "ax.spines['right'].set_visible(False)\n",
    "ax.spines['left'].set_visible(False)\n",
    "ax.set_yticklabels([])\n",
    "plt.grid(False)\n",
    "\n",
    "\n",
    "plt.tight_layout()\n",
    "plt.savefig(\"figures/storytelling_aldergrupp.png\")\n",
    "plt.show()\n"
   ]
  },
  {
   "cell_type": "markdown",
   "id": "1c7c894d",
   "metadata": {},
   "source": [
    "## EDA - Antalet studerande i YH inom olika utbildningsområden 2005-2024"
   ]
  },
  {
   "cell_type": "code",
   "execution_count": 228,
   "id": "6cd91662",
   "metadata": {},
   "outputs": [
    {
     "data": {
      "text/html": [
       "<div>\n",
       "<style scoped>\n",
       "    .dataframe tbody tr th:only-of-type {\n",
       "        vertical-align: middle;\n",
       "    }\n",
       "\n",
       "    .dataframe tbody tr th {\n",
       "        vertical-align: top;\n",
       "    }\n",
       "\n",
       "    .dataframe thead th {\n",
       "        text-align: right;\n",
       "    }\n",
       "</style>\n",
       "<table border=\"1\" class=\"dataframe\">\n",
       "  <thead>\n",
       "    <tr style=\"text-align: right;\">\n",
       "      <th></th>\n",
       "      <th>År</th>\n",
       "      <th>Data/It</th>\n",
       "      <th>Ekonomi, administration och försäljning</th>\n",
       "      <th>Friskvård och kroppsvård</th>\n",
       "      <th>Hotell, restaurang och turism</th>\n",
       "      <th>Hälso- och sjukvård samt socialt arbete</th>\n",
       "      <th>Journalistik och information</th>\n",
       "      <th>Juridik</th>\n",
       "      <th>Kultur, media och design</th>\n",
       "      <th>Lantbruk, djurvård, trädgård, skog och fiske</th>\n",
       "      <th>Pedagogik och undervisning</th>\n",
       "      <th>Samhällsbyggnad och byggteknik</th>\n",
       "      <th>Säkerhetstjänster</th>\n",
       "      <th>Teknik och tillverkning</th>\n",
       "      <th>Transporttjänster</th>\n",
       "      <th>Övrigt</th>\n",
       "      <th>Totalt</th>\n",
       "    </tr>\n",
       "  </thead>\n",
       "  <tbody>\n",
       "    <tr>\n",
       "      <th>0</th>\n",
       "      <td>2005</td>\n",
       "      <td>2587</td>\n",
       "      <td>6238</td>\n",
       "      <td>481</td>\n",
       "      <td>2223</td>\n",
       "      <td>2992</td>\n",
       "      <td>114</td>\n",
       "      <td>NaN</td>\n",
       "      <td>2803</td>\n",
       "      <td>920</td>\n",
       "      <td>16</td>\n",
       "      <td>1406</td>\n",
       "      <td>267</td>\n",
       "      <td>3920</td>\n",
       "      <td>822</td>\n",
       "      <td>NaN</td>\n",
       "      <td>24789</td>\n",
       "    </tr>\n",
       "    <tr>\n",
       "      <th>1</th>\n",
       "      <td>2006</td>\n",
       "      <td>2546</td>\n",
       "      <td>7582</td>\n",
       "      <td>738</td>\n",
       "      <td>2553</td>\n",
       "      <td>3807</td>\n",
       "      <td>101</td>\n",
       "      <td>61.0</td>\n",
       "      <td>2938</td>\n",
       "      <td>1341</td>\n",
       "      <td>103</td>\n",
       "      <td>1947</td>\n",
       "      <td>425</td>\n",
       "      <td>4310</td>\n",
       "      <td>1104</td>\n",
       "      <td>NaN</td>\n",
       "      <td>29556</td>\n",
       "    </tr>\n",
       "    <tr>\n",
       "      <th>2</th>\n",
       "      <td>2007</td>\n",
       "      <td>2797</td>\n",
       "      <td>8807</td>\n",
       "      <td>883</td>\n",
       "      <td>2906</td>\n",
       "      <td>4200</td>\n",
       "      <td>114</td>\n",
       "      <td>122.0</td>\n",
       "      <td>2893</td>\n",
       "      <td>1538</td>\n",
       "      <td>186</td>\n",
       "      <td>2388</td>\n",
       "      <td>565</td>\n",
       "      <td>4928</td>\n",
       "      <td>1357</td>\n",
       "      <td>NaN</td>\n",
       "      <td>33684</td>\n",
       "    </tr>\n",
       "    <tr>\n",
       "      <th>3</th>\n",
       "      <td>2008</td>\n",
       "      <td>2817</td>\n",
       "      <td>10264</td>\n",
       "      <td>993</td>\n",
       "      <td>3074</td>\n",
       "      <td>4029</td>\n",
       "      <td>159</td>\n",
       "      <td>157.0</td>\n",
       "      <td>2993</td>\n",
       "      <td>1502</td>\n",
       "      <td>220</td>\n",
       "      <td>2641</td>\n",
       "      <td>626</td>\n",
       "      <td>5563</td>\n",
       "      <td>1590</td>\n",
       "      <td>29.0</td>\n",
       "      <td>36657</td>\n",
       "    </tr>\n",
       "    <tr>\n",
       "      <th>4</th>\n",
       "      <td>2009</td>\n",
       "      <td>2857</td>\n",
       "      <td>11286</td>\n",
       "      <td>1009</td>\n",
       "      <td>2965</td>\n",
       "      <td>4091</td>\n",
       "      <td>213</td>\n",
       "      <td>167.0</td>\n",
       "      <td>2952</td>\n",
       "      <td>1549</td>\n",
       "      <td>250</td>\n",
       "      <td>3183</td>\n",
       "      <td>629</td>\n",
       "      <td>6511</td>\n",
       "      <td>1696</td>\n",
       "      <td>59.0</td>\n",
       "      <td>39417</td>\n",
       "    </tr>\n",
       "  </tbody>\n",
       "</table>\n",
       "</div>"
      ],
      "text/plain": [
       "     År  Data/It  Ekonomi, administration och försäljning  \\\n",
       "0  2005     2587                                     6238   \n",
       "1  2006     2546                                     7582   \n",
       "2  2007     2797                                     8807   \n",
       "3  2008     2817                                    10264   \n",
       "4  2009     2857                                    11286   \n",
       "\n",
       "   Friskvård och kroppsvård  Hotell, restaurang och turism  \\\n",
       "0                       481                           2223   \n",
       "1                       738                           2553   \n",
       "2                       883                           2906   \n",
       "3                       993                           3074   \n",
       "4                      1009                           2965   \n",
       "\n",
       "   Hälso- och sjukvård samt socialt arbete  Journalistik och information  \\\n",
       "0                                     2992                           114   \n",
       "1                                     3807                           101   \n",
       "2                                     4200                           114   \n",
       "3                                     4029                           159   \n",
       "4                                     4091                           213   \n",
       "\n",
       "   Juridik  Kultur, media och design  \\\n",
       "0      NaN                      2803   \n",
       "1     61.0                      2938   \n",
       "2    122.0                      2893   \n",
       "3    157.0                      2993   \n",
       "4    167.0                      2952   \n",
       "\n",
       "   Lantbruk, djurvård, trädgård, skog och fiske  Pedagogik och undervisning  \\\n",
       "0                                           920                          16   \n",
       "1                                          1341                         103   \n",
       "2                                          1538                         186   \n",
       "3                                          1502                         220   \n",
       "4                                          1549                         250   \n",
       "\n",
       "   Samhällsbyggnad och byggteknik  Säkerhetstjänster  Teknik och tillverkning  \\\n",
       "0                            1406                267                     3920   \n",
       "1                            1947                425                     4310   \n",
       "2                            2388                565                     4928   \n",
       "3                            2641                626                     5563   \n",
       "4                            3183                629                     6511   \n",
       "\n",
       "   Transporttjänster  Övrigt  Totalt  \n",
       "0                822     NaN   24789  \n",
       "1               1104     NaN   29556  \n",
       "2               1357     NaN   33684  \n",
       "3               1590    29.0   36657  \n",
       "4               1696    59.0   39417  "
      ]
     },
     "execution_count": 228,
     "metadata": {},
     "output_type": "execute_result"
    }
   ],
   "source": [
    "df3 = pd.read_excel(\"data/Antalet studerande i YH inom olika utbildningsområden 2012-2024.xlsx\")\n",
    "df3.head()"
   ]
  },
  {
   "cell_type": "code",
   "execution_count": 229,
   "id": "3b77b20b",
   "metadata": {},
   "outputs": [
    {
     "name": "stdout",
     "output_type": "stream",
     "text": [
      "<class 'pandas.core.frame.DataFrame'>\n",
      "RangeIndex: 20 entries, 0 to 19\n",
      "Data columns (total 17 columns):\n",
      " #   Column                                        Non-Null Count  Dtype  \n",
      "---  ------                                        --------------  -----  \n",
      " 0   År                                            20 non-null     int64  \n",
      " 1   Data/It                                       20 non-null     int64  \n",
      " 2   Ekonomi, administration och försäljning       20 non-null     int64  \n",
      " 3   Friskvård och kroppsvård                      20 non-null     int64  \n",
      " 4   Hotell, restaurang och turism                 20 non-null     int64  \n",
      " 5   Hälso- och sjukvård samt socialt arbete       20 non-null     int64  \n",
      " 6   Journalistik och information                  20 non-null     int64  \n",
      " 7   Juridik                                       19 non-null     float64\n",
      " 8   Kultur, media och design                      20 non-null     int64  \n",
      " 9   Lantbruk, djurvård, trädgård, skog och fiske  20 non-null     int64  \n",
      " 10  Pedagogik och undervisning                    20 non-null     int64  \n",
      " 11  Samhällsbyggnad och byggteknik                20 non-null     int64  \n",
      " 12  Säkerhetstjänster                             20 non-null     int64  \n",
      " 13  Teknik och tillverkning                       20 non-null     int64  \n",
      " 14  Transporttjänster                             20 non-null     int64  \n",
      " 15  Övrigt                                        17 non-null     float64\n",
      " 16  Totalt                                        20 non-null     int64  \n",
      "dtypes: float64(2), int64(15)\n",
      "memory usage: 2.8 KB\n"
     ]
    }
   ],
   "source": [
    "df3.info()"
   ]
  },
  {
   "cell_type": "code",
   "execution_count": 230,
   "id": "7539ef06",
   "metadata": {},
   "outputs": [
    {
     "name": "stdout",
     "output_type": "stream",
     "text": [
      "Ekonomi, administration och försäljning         259487.0\n",
      "Teknik och tillverkning                         154563.0\n",
      "Hälso- och sjukvård samt socialt arbete         139166.0\n",
      "Data/It                                         132050.0\n",
      "Samhällsbyggnad och byggteknik                  131079.0\n",
      "Kultur, media och design                         62424.0\n",
      "Hotell, restaurang och turism                    55048.0\n",
      "Lantbruk, djurvård, trädgård, skog och fiske     31017.0\n",
      "Transporttjänster                                29952.0\n",
      "Pedagogik och undervisning                       14935.0\n",
      "dtype: float64\n"
     ]
    }
   ],
   "source": [
    "exclude_cols = ['övrigt', 'totalt', 'år']\n",
    "numeric_cols = df3.select_dtypes(include='number').columns\n",
    "cols_to_consider = [col for col in numeric_cols if col.lower().strip() not in exclude_cols]\n",
    "\n",
    "# Sum and sort descending\n",
    "col_sums = df3[cols_to_consider].sum()\n",
    "col_sums_sorted_desc = col_sums.sort_values(ascending=False)\n",
    "\n",
    "print(col_sums_sorted_desc.head(10))\n"
   ]
  },
  {
   "cell_type": "code",
   "execution_count": 231,
   "id": "7f6e9edb",
   "metadata": {},
   "outputs": [
    {
     "data": {
      "application/vnd.plotly.v1+json": {
       "config": {
        "plotlyServerURL": "https://plot.ly"
       },
       "data": [
        {
         "fillpattern": {
          "shape": ""
         },
         "hovertemplate": "Utbildningsområde=Data/It<br>År=%{x}<br>Antal studerande=%{y}<extra></extra>",
         "legendgroup": "Data/It",
         "line": {
          "color": "#636efa"
         },
         "marker": {
          "symbol": "circle"
         },
         "mode": "lines",
         "name": "Data/It",
         "orientation": "v",
         "showlegend": true,
         "stackgroup": "1",
         "type": "scatter",
         "visible": "legendonly",
         "x": {
          "bdata": "1QfWB9cH2AfZB9oH2wfcB90H3gffB+AH4QfiB+MH5AflB+YH5wfoBw==",
          "dtype": "i2"
         },
         "xaxis": "x",
         "y": {
          "bdata": "AAAAAAA2pEAAAAAAAOSjQAAAAAAA2qVAAAAAAAACpkAAAAAAAFKmQAAAAAAArqZAAAAAAACwqEAAAAAAAIyqQAAAAAAArK9AAAAAAABJs0AAAAAAALS2QAAAAAAAJ7hAAAAAAABCuEAAAAAAAEi2QAAAAAAArrtAAAAAAIAVxEAAAAAAABrJQAAAAACA18tAAAAAAACdzUAAAAAAwA/QQA==",
          "dtype": "f8"
         },
         "yaxis": "y"
        },
        {
         "fillpattern": {
          "shape": ""
         },
         "hovertemplate": "Utbildningsområde=Ekonomi, administration och försäljning<br>År=%{x}<br>Antal studerande=%{y}<extra></extra>",
         "legendgroup": "Ekonomi, administration och försäljning",
         "line": {
          "color": "#EF553B"
         },
         "marker": {
          "symbol": "circle"
         },
         "mode": "lines",
         "name": "Ekonomi, administration och försäljning",
         "orientation": "v",
         "showlegend": true,
         "stackgroup": "1",
         "type": "scatter",
         "x": {
          "bdata": "1QfWB9cH2AfZB9oH2wfcB90H3gffB+AH4QfiB+MH5AflB+YH5wfoBw==",
          "dtype": "i2"
         },
         "xaxis": "x",
         "y": {
          "bdata": "AAAAAABeuEAAAAAAAJ69QAAAAACAM8FAAAAAAAAMxEAAAAAAAAvGQAAAAACAQMdAAAAAAIDJx0AAAAAAAFXHQAAAAACA7sdAAAAAAIDyx0AAAAAAAMvGQAAAAACAhMZAAAAAAIDQx0AAAAAAgPLKQAAAAAAAPc9AAAAAAMAO0kAAAAAAABvSQAAAAACAZtFAAAAAAIDy0EAAAAAAAPnQQA==",
          "dtype": "f8"
         },
         "yaxis": "y"
        },
        {
         "fillpattern": {
          "shape": ""
         },
         "hovertemplate": "Utbildningsområde=Friskvård och kroppsvård<br>År=%{x}<br>Antal studerande=%{y}<extra></extra>",
         "legendgroup": "Friskvård och kroppsvård",
         "line": {
          "color": "#00cc96"
         },
         "marker": {
          "symbol": "circle"
         },
         "mode": "lines",
         "name": "Friskvård och kroppsvård",
         "orientation": "v",
         "showlegend": true,
         "stackgroup": "1",
         "type": "scatter",
         "visible": "legendonly",
         "x": {
          "bdata": "1QfWB9cH2AfZB9oH2wfcB90H3gffB+AH4QfiB+MH5AflB+YH5wfoBw==",
          "dtype": "i2"
         },
         "xaxis": "x",
         "y": {
          "bdata": "AAAAAAAQfkAAAAAAABCHQAAAAAAAmItAAAAAAAAIj0AAAAAAAIiPQAAAAAAAyIpAAAAAAAB4gkAAAAAAADB3QAAAAAAAsHZAAAAAAACgdEAAAAAAAAB2QAAAAAAA8HJAAAAAAADAbUAAAAAAAOBsQAAAAAAA4HJAAAAAAADwdEAAAAAAAEB3QAAAAAAAgHlAAAAAAADAfEAAAAAAAOB2QA==",
          "dtype": "f8"
         },
         "yaxis": "y"
        },
        {
         "fillpattern": {
          "shape": ""
         },
         "hovertemplate": "Utbildningsområde=Hotell, restaurang och turism<br>År=%{x}<br>Antal studerande=%{y}<extra></extra>",
         "legendgroup": "Hotell, restaurang och turism",
         "line": {
          "color": "#ab63fa"
         },
         "marker": {
          "symbol": "circle"
         },
         "mode": "lines",
         "name": "Hotell, restaurang och turism",
         "orientation": "v",
         "showlegend": true,
         "stackgroup": "1",
         "type": "scatter",
         "visible": "legendonly",
         "x": {
          "bdata": "1QfWB9cH2AfZB9oH2wfcB90H3gffB+AH4QfiB+MH5AflB+YH5wfoBw==",
          "dtype": "i2"
         },
         "xaxis": "x",
         "y": {
          "bdata": "AAAAAABeoUAAAAAAAPKjQAAAAAAAtKZAAAAAAAAEqEAAAAAAACqnQAAAAAAAsqZAAAAAAACQpkAAAAAAAECkQAAAAAAAuqNAAAAAAAD+o0AAAAAAAFykQAAAAAAAyqNAAAAAAADMo0AAAAAAAIajQAAAAAAAPKVAAAAAAAAsqEAAAAAAAOSpQAAAAAAAfqdAAAAAAACCpUAAAAAAAOClQA==",
          "dtype": "f8"
         },
         "yaxis": "y"
        },
        {
         "fillpattern": {
          "shape": ""
         },
         "hovertemplate": "Utbildningsområde=Hälso- och sjukvård samt socialt arbete<br>År=%{x}<br>Antal studerande=%{y}<extra></extra>",
         "legendgroup": "Hälso- och sjukvård samt socialt arbete",
         "line": {
          "color": "#FFA15A"
         },
         "marker": {
          "symbol": "circle"
         },
         "mode": "lines",
         "name": "Hälso- och sjukvård samt socialt arbete",
         "orientation": "v",
         "showlegend": true,
         "stackgroup": "1",
         "type": "scatter",
         "visible": "legendonly",
         "x": {
          "bdata": "1QfWB9cH2AfZB9oH2wfcB90H3gffB+AH4QfiB+MH5AflB+YH5wfoBw==",
          "dtype": "i2"
         },
         "xaxis": "x",
         "y": {
          "bdata": "AAAAAABgp0AAAAAAAL6tQAAAAAAAaLBAAAAAAAB6r0AAAAAAAPavQAAAAAAAkLFAAAAAAAAwskAAAAAAAK2xQAAAAAAAZbNAAAAAAABqtkAAAAAAAIe3QAAAAAAAErhAAAAAAABHukAAAAAAABu9QAAAAACAo8FAAAAAAABMxUAAAAAAAIrHQAAAAAAAKMlAAAAAAIB0yEAAAAAAAEbHQA==",
          "dtype": "f8"
         },
         "yaxis": "y"
        },
        {
         "fillpattern": {
          "shape": ""
         },
         "hovertemplate": "Utbildningsområde=Journalistik och information<br>År=%{x}<br>Antal studerande=%{y}<extra></extra>",
         "legendgroup": "Journalistik och information",
         "line": {
          "color": "#19d3f3"
         },
         "marker": {
          "symbol": "circle"
         },
         "mode": "lines",
         "name": "Journalistik och information",
         "orientation": "v",
         "showlegend": true,
         "stackgroup": "1",
         "type": "scatter",
         "visible": "legendonly",
         "x": {
          "bdata": "1QfWB9cH2AfZB9oH2wfcB90H3gffB+AH4QfiB+MH5AflB+YH5wfoBw==",
          "dtype": "i2"
         },
         "xaxis": "x",
         "y": {
          "bdata": "AAAAAACAXEAAAAAAAEBZQAAAAAAAgFxAAAAAAADgY0AAAAAAAKBqQAAAAAAAAHBAAAAAAACwckAAAAAAAFBxQAAAAAAA0HlAAAAAAABog0AAAAAAAEiEQAAAAAAAmIZAAAAAAAAQiUAAAAAAAAiKQAAAAAAAQIxAAAAAAAA4jkAAAAAAAECNQAAAAAAAuIlAAAAAAACAh0AAAAAAADCEQA==",
          "dtype": "f8"
         },
         "yaxis": "y"
        },
        {
         "fillpattern": {
          "shape": ""
         },
         "hovertemplate": "Utbildningsområde=Juridik<br>År=%{x}<br>Antal studerande=%{y}<extra></extra>",
         "legendgroup": "Juridik",
         "line": {
          "color": "#FF6692"
         },
         "marker": {
          "symbol": "circle"
         },
         "mode": "lines",
         "name": "Juridik",
         "orientation": "v",
         "showlegend": true,
         "stackgroup": "1",
         "type": "scatter",
         "visible": "legendonly",
         "x": {
          "bdata": "1QfWB9cH2AfZB9oH2wfcB90H3gffB+AH4QfiB+MH5AflB+YH5wfoBw==",
          "dtype": "i2"
         },
         "xaxis": "x",
         "y": {
          "bdata": "AAAAAAAA+H8AAAAAAIBOQAAAAAAAgF5AAAAAAACgY0AAAAAAAOBkQAAAAAAAoGVAAAAAAADgZUAAAAAAAEBuQAAAAAAAgHFAAAAAAADAcUAAAAAAAFBzQAAAAAAAAHVAAAAAAADAeUAAAAAAAGB7QAAAAAAAMHxAAAAAAABAfkAAAAAAAIB+QAAAAAAAAHpAAAAAAACgdUAAAAAAAKB1QA==",
          "dtype": "f8"
         },
         "yaxis": "y"
        },
        {
         "fillpattern": {
          "shape": ""
         },
         "hovertemplate": "Utbildningsområde=Kultur, media och design<br>År=%{x}<br>Antal studerande=%{y}<extra></extra>",
         "legendgroup": "Kultur, media och design",
         "line": {
          "color": "#B6E880"
         },
         "marker": {
          "symbol": "circle"
         },
         "mode": "lines",
         "name": "Kultur, media och design",
         "orientation": "v",
         "showlegend": true,
         "stackgroup": "1",
         "type": "scatter",
         "visible": "legendonly",
         "x": {
          "bdata": "1QfWB9cH2AfZB9oH2wfcB90H3gffB+AH4QfiB+MH5AflB+YH5wfoBw==",
          "dtype": "i2"
         },
         "xaxis": "x",
         "y": {
          "bdata": "AAAAAADmpUAAAAAAAPSmQAAAAAAAmqZAAAAAAABip0AAAAAAABCnQAAAAAAAzqVAAAAAAAAOpEAAAAAAAHaiQAAAAAAAmqNAAAAAAACGpEAAAAAAAKKlQAAAAAAApKVAAAAAAABipkAAAAAAALCmQAAAAAAAkKdAAAAAAADQqkAAAAAAAJiuQAAAAAAAf7BAAAAAAABpsUAAAAAAAByyQA==",
          "dtype": "f8"
         },
         "yaxis": "y"
        },
        {
         "fillpattern": {
          "shape": ""
         },
         "hovertemplate": "Utbildningsområde=Lantbruk, djurvård, trädgård, skog och fiske<br>År=%{x}<br>Antal studerande=%{y}<extra></extra>",
         "legendgroup": "Lantbruk, djurvård, trädgård, skog och fiske",
         "line": {
          "color": "#FF97FF"
         },
         "marker": {
          "symbol": "circle"
         },
         "mode": "lines",
         "name": "Lantbruk, djurvård, trädgård, skog och fiske",
         "orientation": "v",
         "showlegend": true,
         "stackgroup": "1",
         "type": "scatter",
         "visible": "legendonly",
         "x": {
          "bdata": "1QfWB9cH2AfZB9oH2wfcB90H3gffB+AH4QfiB+MH5AflB+YH5wfoBw==",
          "dtype": "i2"
         },
         "xaxis": "x",
         "y": {
          "bdata": "AAAAAADAjEAAAAAAAPSUQAAAAAAACJhAAAAAAAB4l0AAAAAAADSYQAAAAAAAoJpAAAAAAADYmUAAAAAAANSWQAAAAAAALJVAAAAAAACMk0AAAAAAAGyUQAAAAAAA/JVAAAAAAACIlkAAAAAAAECVQAAAAAAAIJZAAAAAAAA0mUAAAAAAAEicQAAAAAAAeJ5AAAAAAABWoEAAAAAAAFSiQA==",
          "dtype": "f8"
         },
         "yaxis": "y"
        },
        {
         "fillpattern": {
          "shape": ""
         },
         "hovertemplate": "Utbildningsområde=Pedagogik och undervisning<br>År=%{x}<br>Antal studerande=%{y}<extra></extra>",
         "legendgroup": "Pedagogik och undervisning",
         "line": {
          "color": "#FECB52"
         },
         "marker": {
          "symbol": "circle"
         },
         "mode": "lines",
         "name": "Pedagogik och undervisning",
         "orientation": "v",
         "showlegend": true,
         "stackgroup": "1",
         "type": "scatter",
         "visible": "legendonly",
         "x": {
          "bdata": "1QfWB9cH2AfZB9oH2wfcB90H3gffB+AH4QfiB+MH5AflB+YH5wfoBw==",
          "dtype": "i2"
         },
         "xaxis": "x",
         "y": {
          "bdata": "AAAAAAAAMEAAAAAAAMBZQAAAAAAAQGdAAAAAAACAa0AAAAAAAEBvQAAAAAAA4HxAAAAAAACghEAAAAAAAGB8QAAAAAAAgHpAAAAAAABQfkAAAAAAAGB6QAAAAAAAsIBAAAAAAABwhEAAAAAAAOiKQAAAAAAAJJRAAAAAAADgl0AAAAAAADicQAAAAAAA4J5AAAAAAACYl0AAAAAAAByRQA==",
          "dtype": "f8"
         },
         "yaxis": "y"
        },
        {
         "fillpattern": {
          "shape": ""
         },
         "hovertemplate": "Utbildningsområde=Samhällsbyggnad och byggteknik<br>År=%{x}<br>Antal studerande=%{y}<extra></extra>",
         "legendgroup": "Samhällsbyggnad och byggteknik",
         "line": {
          "color": "#636efa"
         },
         "marker": {
          "symbol": "circle"
         },
         "mode": "lines",
         "name": "Samhällsbyggnad och byggteknik",
         "orientation": "v",
         "showlegend": true,
         "stackgroup": "1",
         "type": "scatter",
         "visible": "legendonly",
         "x": {
          "bdata": "1QfWB9cH2AfZB9oH2wfcB90H3gffB+AH4QfiB+MH5AflB+YH5wfoBw==",
          "dtype": "i2"
         },
         "xaxis": "x",
         "y": {
          "bdata": "AAAAAAD4lUAAAAAAAGyeQAAAAAAAqKJAAAAAAACipEAAAAAAAN6oQAAAAAAAqKtAAAAAAACcrkAAAAAAAAuxQAAAAAAAh7JAAAAAAABps0AAAAAAAIi1QAAAAAAAsrdAAAAAAACvukAAAAAAAG69QAAAAACAncFAAAAAAICNxkAAAAAAAOTIQAAAAAAAd8lAAAAAAICIyEAAAAAAgKTJQA==",
          "dtype": "f8"
         },
         "yaxis": "y"
        },
        {
         "fillpattern": {
          "shape": ""
         },
         "hovertemplate": "Utbildningsområde=Säkerhetstjänster<br>År=%{x}<br>Antal studerande=%{y}<extra></extra>",
         "legendgroup": "Säkerhetstjänster",
         "line": {
          "color": "#EF553B"
         },
         "marker": {
          "symbol": "circle"
         },
         "mode": "lines",
         "name": "Säkerhetstjänster",
         "orientation": "v",
         "showlegend": true,
         "stackgroup": "1",
         "type": "scatter",
         "visible": "legendonly",
         "x": {
          "bdata": "1QfWB9cH2AfZB9oH2wfcB90H3gffB+AH4QfiB+MH5AflB+YH5wfoBw==",
          "dtype": "i2"
         },
         "xaxis": "x",
         "y": {
          "bdata": "AAAAAACwcEAAAAAAAJB6QAAAAAAAqIFAAAAAAACQg0AAAAAAAKiDQAAAAAAAAIFAAAAAAACwfEAAAAAAACB3QAAAAAAAAHVAAAAAAADgdUAAAAAAAKB3QAAAAAAAcHdAAAAAAAAwcUAAAAAAAMBxQAAAAAAAgHlAAAAAAAAYgkAAAAAAAJCCQAAAAAAA2IdAAAAAAAAIikAAAAAAAPCJQA==",
          "dtype": "f8"
         },
         "yaxis": "y"
        },
        {
         "fillpattern": {
          "shape": ""
         },
         "hovertemplate": "Utbildningsområde=Teknik och tillverkning<br>År=%{x}<br>Antal studerande=%{y}<extra></extra>",
         "legendgroup": "Teknik och tillverkning",
         "line": {
          "color": "#00cc96"
         },
         "marker": {
          "symbol": "circle"
         },
         "mode": "lines",
         "name": "Teknik och tillverkning",
         "orientation": "v",
         "showlegend": true,
         "stackgroup": "1",
         "type": "scatter",
         "visible": "legendonly",
         "x": {
          "bdata": "1QfWB9cH2AfZB9oH2wfcB90H3gffB+AH4QfiB+MH5AflB+YH5wfoBw==",
          "dtype": "i2"
         },
         "xaxis": "x",
         "y": {
          "bdata": "AAAAAACgrkAAAAAAANawQAAAAAAAQLNAAAAAAAC7tUAAAAAAAG+5QAAAAAAA5rtAAAAAAACmvEAAAAAAAEu6QAAAAAAAfLtAAAAAAACgvEAAAAAAANu8QAAAAAAAW7xAAAAAAACSu0AAAAAAALe6QAAAAAAAU75AAAAAAIBlw0AAAAAAgAfGQAAAAACAFsZAAAAAAIDexkAAAAAAANXJQA==",
          "dtype": "f8"
         },
         "yaxis": "y"
        },
        {
         "fillpattern": {
          "shape": ""
         },
         "hovertemplate": "Utbildningsområde=Transporttjänster<br>År=%{x}<br>Antal studerande=%{y}<extra></extra>",
         "legendgroup": "Transporttjänster",
         "line": {
          "color": "#ab63fa"
         },
         "marker": {
          "symbol": "circle"
         },
         "mode": "lines",
         "name": "Transporttjänster",
         "orientation": "v",
         "showlegend": true,
         "stackgroup": "1",
         "type": "scatter",
         "visible": "legendonly",
         "x": {
          "bdata": "1QfWB9cH2AfZB9oH2wfcB90H3gffB+AH4QfiB+MH5AflB+YH5wfoBw==",
          "dtype": "i2"
         },
         "xaxis": "x",
         "y": {
          "bdata": "AAAAAACwiUAAAAAAAECRQAAAAAAANJVAAAAAAADYmEAAAAAAAICaQAAAAAAADJ1AAAAAAADUnEAAAAAAADyXQAAAAAAAcJFAAAAAAABojUAAAAAAAJiSQAAAAAAAIJhAAAAAAADonEAAAAAAAFSbQAAAAAAAJJpAAAAAAAB0m0AAAAAAAJSYQAAAAAAASJdAAAAAAABImUAAAAAAAGyaQA==",
          "dtype": "f8"
         },
         "yaxis": "y"
        }
       ],
       "layout": {
        "legend": {
         "title": {
          "text": "Utbildningsområde"
         },
         "tracegroupgap": 0
        },
        "template": {
         "data": {
          "bar": [
           {
            "error_x": {
             "color": "#2a3f5f"
            },
            "error_y": {
             "color": "#2a3f5f"
            },
            "marker": {
             "line": {
              "color": "white",
              "width": 0.5
             },
             "pattern": {
              "fillmode": "overlay",
              "size": 10,
              "solidity": 0.2
             }
            },
            "type": "bar"
           }
          ],
          "barpolar": [
           {
            "marker": {
             "line": {
              "color": "white",
              "width": 0.5
             },
             "pattern": {
              "fillmode": "overlay",
              "size": 10,
              "solidity": 0.2
             }
            },
            "type": "barpolar"
           }
          ],
          "carpet": [
           {
            "aaxis": {
             "endlinecolor": "#2a3f5f",
             "gridcolor": "#C8D4E3",
             "linecolor": "#C8D4E3",
             "minorgridcolor": "#C8D4E3",
             "startlinecolor": "#2a3f5f"
            },
            "baxis": {
             "endlinecolor": "#2a3f5f",
             "gridcolor": "#C8D4E3",
             "linecolor": "#C8D4E3",
             "minorgridcolor": "#C8D4E3",
             "startlinecolor": "#2a3f5f"
            },
            "type": "carpet"
           }
          ],
          "choropleth": [
           {
            "colorbar": {
             "outlinewidth": 0,
             "ticks": ""
            },
            "type": "choropleth"
           }
          ],
          "contour": [
           {
            "colorbar": {
             "outlinewidth": 0,
             "ticks": ""
            },
            "colorscale": [
             [
              0,
              "#0d0887"
             ],
             [
              0.1111111111111111,
              "#46039f"
             ],
             [
              0.2222222222222222,
              "#7201a8"
             ],
             [
              0.3333333333333333,
              "#9c179e"
             ],
             [
              0.4444444444444444,
              "#bd3786"
             ],
             [
              0.5555555555555556,
              "#d8576b"
             ],
             [
              0.6666666666666666,
              "#ed7953"
             ],
             [
              0.7777777777777778,
              "#fb9f3a"
             ],
             [
              0.8888888888888888,
              "#fdca26"
             ],
             [
              1,
              "#f0f921"
             ]
            ],
            "type": "contour"
           }
          ],
          "contourcarpet": [
           {
            "colorbar": {
             "outlinewidth": 0,
             "ticks": ""
            },
            "type": "contourcarpet"
           }
          ],
          "heatmap": [
           {
            "colorbar": {
             "outlinewidth": 0,
             "ticks": ""
            },
            "colorscale": [
             [
              0,
              "#0d0887"
             ],
             [
              0.1111111111111111,
              "#46039f"
             ],
             [
              0.2222222222222222,
              "#7201a8"
             ],
             [
              0.3333333333333333,
              "#9c179e"
             ],
             [
              0.4444444444444444,
              "#bd3786"
             ],
             [
              0.5555555555555556,
              "#d8576b"
             ],
             [
              0.6666666666666666,
              "#ed7953"
             ],
             [
              0.7777777777777778,
              "#fb9f3a"
             ],
             [
              0.8888888888888888,
              "#fdca26"
             ],
             [
              1,
              "#f0f921"
             ]
            ],
            "type": "heatmap"
           }
          ],
          "histogram": [
           {
            "marker": {
             "pattern": {
              "fillmode": "overlay",
              "size": 10,
              "solidity": 0.2
             }
            },
            "type": "histogram"
           }
          ],
          "histogram2d": [
           {
            "colorbar": {
             "outlinewidth": 0,
             "ticks": ""
            },
            "colorscale": [
             [
              0,
              "#0d0887"
             ],
             [
              0.1111111111111111,
              "#46039f"
             ],
             [
              0.2222222222222222,
              "#7201a8"
             ],
             [
              0.3333333333333333,
              "#9c179e"
             ],
             [
              0.4444444444444444,
              "#bd3786"
             ],
             [
              0.5555555555555556,
              "#d8576b"
             ],
             [
              0.6666666666666666,
              "#ed7953"
             ],
             [
              0.7777777777777778,
              "#fb9f3a"
             ],
             [
              0.8888888888888888,
              "#fdca26"
             ],
             [
              1,
              "#f0f921"
             ]
            ],
            "type": "histogram2d"
           }
          ],
          "histogram2dcontour": [
           {
            "colorbar": {
             "outlinewidth": 0,
             "ticks": ""
            },
            "colorscale": [
             [
              0,
              "#0d0887"
             ],
             [
              0.1111111111111111,
              "#46039f"
             ],
             [
              0.2222222222222222,
              "#7201a8"
             ],
             [
              0.3333333333333333,
              "#9c179e"
             ],
             [
              0.4444444444444444,
              "#bd3786"
             ],
             [
              0.5555555555555556,
              "#d8576b"
             ],
             [
              0.6666666666666666,
              "#ed7953"
             ],
             [
              0.7777777777777778,
              "#fb9f3a"
             ],
             [
              0.8888888888888888,
              "#fdca26"
             ],
             [
              1,
              "#f0f921"
             ]
            ],
            "type": "histogram2dcontour"
           }
          ],
          "mesh3d": [
           {
            "colorbar": {
             "outlinewidth": 0,
             "ticks": ""
            },
            "type": "mesh3d"
           }
          ],
          "parcoords": [
           {
            "line": {
             "colorbar": {
              "outlinewidth": 0,
              "ticks": ""
             }
            },
            "type": "parcoords"
           }
          ],
          "pie": [
           {
            "automargin": true,
            "type": "pie"
           }
          ],
          "scatter": [
           {
            "fillpattern": {
             "fillmode": "overlay",
             "size": 10,
             "solidity": 0.2
            },
            "type": "scatter"
           }
          ],
          "scatter3d": [
           {
            "line": {
             "colorbar": {
              "outlinewidth": 0,
              "ticks": ""
             }
            },
            "marker": {
             "colorbar": {
              "outlinewidth": 0,
              "ticks": ""
             }
            },
            "type": "scatter3d"
           }
          ],
          "scattercarpet": [
           {
            "marker": {
             "colorbar": {
              "outlinewidth": 0,
              "ticks": ""
             }
            },
            "type": "scattercarpet"
           }
          ],
          "scattergeo": [
           {
            "marker": {
             "colorbar": {
              "outlinewidth": 0,
              "ticks": ""
             }
            },
            "type": "scattergeo"
           }
          ],
          "scattergl": [
           {
            "marker": {
             "colorbar": {
              "outlinewidth": 0,
              "ticks": ""
             }
            },
            "type": "scattergl"
           }
          ],
          "scattermap": [
           {
            "marker": {
             "colorbar": {
              "outlinewidth": 0,
              "ticks": ""
             }
            },
            "type": "scattermap"
           }
          ],
          "scattermapbox": [
           {
            "marker": {
             "colorbar": {
              "outlinewidth": 0,
              "ticks": ""
             }
            },
            "type": "scattermapbox"
           }
          ],
          "scatterpolar": [
           {
            "marker": {
             "colorbar": {
              "outlinewidth": 0,
              "ticks": ""
             }
            },
            "type": "scatterpolar"
           }
          ],
          "scatterpolargl": [
           {
            "marker": {
             "colorbar": {
              "outlinewidth": 0,
              "ticks": ""
             }
            },
            "type": "scatterpolargl"
           }
          ],
          "scatterternary": [
           {
            "marker": {
             "colorbar": {
              "outlinewidth": 0,
              "ticks": ""
             }
            },
            "type": "scatterternary"
           }
          ],
          "surface": [
           {
            "colorbar": {
             "outlinewidth": 0,
             "ticks": ""
            },
            "colorscale": [
             [
              0,
              "#0d0887"
             ],
             [
              0.1111111111111111,
              "#46039f"
             ],
             [
              0.2222222222222222,
              "#7201a8"
             ],
             [
              0.3333333333333333,
              "#9c179e"
             ],
             [
              0.4444444444444444,
              "#bd3786"
             ],
             [
              0.5555555555555556,
              "#d8576b"
             ],
             [
              0.6666666666666666,
              "#ed7953"
             ],
             [
              0.7777777777777778,
              "#fb9f3a"
             ],
             [
              0.8888888888888888,
              "#fdca26"
             ],
             [
              1,
              "#f0f921"
             ]
            ],
            "type": "surface"
           }
          ],
          "table": [
           {
            "cells": {
             "fill": {
              "color": "#EBF0F8"
             },
             "line": {
              "color": "white"
             }
            },
            "header": {
             "fill": {
              "color": "#C8D4E3"
             },
             "line": {
              "color": "white"
             }
            },
            "type": "table"
           }
          ]
         },
         "layout": {
          "annotationdefaults": {
           "arrowcolor": "#2a3f5f",
           "arrowhead": 0,
           "arrowwidth": 1
          },
          "autotypenumbers": "strict",
          "coloraxis": {
           "colorbar": {
            "outlinewidth": 0,
            "ticks": ""
           }
          },
          "colorscale": {
           "diverging": [
            [
             0,
             "#8e0152"
            ],
            [
             0.1,
             "#c51b7d"
            ],
            [
             0.2,
             "#de77ae"
            ],
            [
             0.3,
             "#f1b6da"
            ],
            [
             0.4,
             "#fde0ef"
            ],
            [
             0.5,
             "#f7f7f7"
            ],
            [
             0.6,
             "#e6f5d0"
            ],
            [
             0.7,
             "#b8e186"
            ],
            [
             0.8,
             "#7fbc41"
            ],
            [
             0.9,
             "#4d9221"
            ],
            [
             1,
             "#276419"
            ]
           ],
           "sequential": [
            [
             0,
             "#0d0887"
            ],
            [
             0.1111111111111111,
             "#46039f"
            ],
            [
             0.2222222222222222,
             "#7201a8"
            ],
            [
             0.3333333333333333,
             "#9c179e"
            ],
            [
             0.4444444444444444,
             "#bd3786"
            ],
            [
             0.5555555555555556,
             "#d8576b"
            ],
            [
             0.6666666666666666,
             "#ed7953"
            ],
            [
             0.7777777777777778,
             "#fb9f3a"
            ],
            [
             0.8888888888888888,
             "#fdca26"
            ],
            [
             1,
             "#f0f921"
            ]
           ],
           "sequentialminus": [
            [
             0,
             "#0d0887"
            ],
            [
             0.1111111111111111,
             "#46039f"
            ],
            [
             0.2222222222222222,
             "#7201a8"
            ],
            [
             0.3333333333333333,
             "#9c179e"
            ],
            [
             0.4444444444444444,
             "#bd3786"
            ],
            [
             0.5555555555555556,
             "#d8576b"
            ],
            [
             0.6666666666666666,
             "#ed7953"
            ],
            [
             0.7777777777777778,
             "#fb9f3a"
            ],
            [
             0.8888888888888888,
             "#fdca26"
            ],
            [
             1,
             "#f0f921"
            ]
           ]
          },
          "colorway": [
           "#636efa",
           "#EF553B",
           "#00cc96",
           "#ab63fa",
           "#FFA15A",
           "#19d3f3",
           "#FF6692",
           "#B6E880",
           "#FF97FF",
           "#FECB52"
          ],
          "font": {
           "color": "#2a3f5f"
          },
          "geo": {
           "bgcolor": "white",
           "lakecolor": "white",
           "landcolor": "white",
           "showlakes": true,
           "showland": true,
           "subunitcolor": "#C8D4E3"
          },
          "hoverlabel": {
           "align": "left"
          },
          "hovermode": "closest",
          "mapbox": {
           "style": "light"
          },
          "paper_bgcolor": "white",
          "plot_bgcolor": "white",
          "polar": {
           "angularaxis": {
            "gridcolor": "#EBF0F8",
            "linecolor": "#EBF0F8",
            "ticks": ""
           },
           "bgcolor": "white",
           "radialaxis": {
            "gridcolor": "#EBF0F8",
            "linecolor": "#EBF0F8",
            "ticks": ""
           }
          },
          "scene": {
           "xaxis": {
            "backgroundcolor": "white",
            "gridcolor": "#DFE8F3",
            "gridwidth": 2,
            "linecolor": "#EBF0F8",
            "showbackground": true,
            "ticks": "",
            "zerolinecolor": "#EBF0F8"
           },
           "yaxis": {
            "backgroundcolor": "white",
            "gridcolor": "#DFE8F3",
            "gridwidth": 2,
            "linecolor": "#EBF0F8",
            "showbackground": true,
            "ticks": "",
            "zerolinecolor": "#EBF0F8"
           },
           "zaxis": {
            "backgroundcolor": "white",
            "gridcolor": "#DFE8F3",
            "gridwidth": 2,
            "linecolor": "#EBF0F8",
            "showbackground": true,
            "ticks": "",
            "zerolinecolor": "#EBF0F8"
           }
          },
          "shapedefaults": {
           "line": {
            "color": "#2a3f5f"
           }
          },
          "ternary": {
           "aaxis": {
            "gridcolor": "#DFE8F3",
            "linecolor": "#A2B1C6",
            "ticks": ""
           },
           "baxis": {
            "gridcolor": "#DFE8F3",
            "linecolor": "#A2B1C6",
            "ticks": ""
           },
           "bgcolor": "white",
           "caxis": {
            "gridcolor": "#DFE8F3",
            "linecolor": "#A2B1C6",
            "ticks": ""
           }
          },
          "title": {
           "x": 0.05
          },
          "xaxis": {
           "automargin": true,
           "gridcolor": "#EBF0F8",
           "linecolor": "#EBF0F8",
           "ticks": "",
           "title": {
            "standoff": 15
           },
           "zerolinecolor": "#EBF0F8",
           "zerolinewidth": 2
          },
          "yaxis": {
           "automargin": true,
           "gridcolor": "#EBF0F8",
           "linecolor": "#EBF0F8",
           "ticks": "",
           "title": {
            "standoff": 15
           },
           "zerolinecolor": "#EBF0F8",
           "zerolinewidth": 2
          }
         }
        },
        "title": {
         "text": "Antalet studerande i YH inom olika utbildningsområden (2005–2024)"
        },
        "xaxis": {
         "anchor": "y",
         "domain": [
          0,
          1
         ],
         "linecolor": "grey",
         "showgrid": false,
         "showline": true,
         "ticks": "outside",
         "title": {
          "text": "År"
         }
        },
        "yaxis": {
         "anchor": "x",
         "domain": [
          0,
          1
         ],
         "linecolor": "grey",
         "showgrid": false,
         "showline": true,
         "ticks": "outside",
         "title": {
          "text": "Antal studerande"
         }
        }
       }
      }
     },
     "metadata": {},
     "output_type": "display_data"
    }
   ],
   "source": [
    "import pandas as pd\n",
    "import plotly.express as px\n",
    "\n",
    "# Load the data\n",
    "df = pd.read_excel(\"data/Antalet studerande i YH inom olika utbildningsområden 2012-2024.xlsx\")\n",
    "\n",
    "# Drop unwanted columns\n",
    "columns_to_exclude = ['Totalt', 'Övrigt']\n",
    "df = df.drop(columns=[col for col in columns_to_exclude if col in df.columns])\n",
    "\n",
    "#df_long = df.melt(id_vars='År', var_name='Utbildningsområde', value_name='Antal studerande')\n",
    "\n",
    "# Create area chart\n",
    "fig = px.area(\n",
    "    df_long,\n",
    "    x='År',\n",
    "    y='Antal studerande',\n",
    "    color='Utbildningsområde',\n",
    "    title='Antalet studerande i YH inom olika utbildningsområden (2005–2024)',\n",
    "    labels={'År': 'År', 'Antal studerande': 'Antal studerande'},\n",
    "    template='plotly_white'\n",
    ")\n",
    "\n",
    "# Hide all traces except \"Data/It\"\n",
    "for trace in fig.data:\n",
    "    if trace.name != \"Ekonomi, administration och försäljning\":\n",
    "        trace.visible = \"legendonly\"\n",
    "\n",
    "# Remove gridlines and ensure ticks are visible\n",
    "fig.update_xaxes(showgrid=False, ticks=\"outside\")\n",
    "fig.update_yaxes(showgrid=False, ticks=\"outside\")\n",
    "fig.update_xaxes(showline=True, linecolor='grey')\n",
    "fig.update_yaxes(showline=True, linecolor='grey' )\n",
    "\n",
    "fig.update_layout(legend_title_text='Utbildningsområde')\n",
    "\n",
    "\n",
    "fig.show()\n"
   ]
  },
  {
   "cell_type": "markdown",
   "id": "117aa0c8",
   "metadata": {},
   "source": [
    "Storytelling med ovan graf\n",
    "    utvecklingen över tid inom tre viktiga utbildningsområden i Sverige: Teknik och tillverkning, Hälso- och sjukvård samt socialt arbete samt Ekonomi, administration och försäljning."
   ]
  },
  {
   "cell_type": "code",
   "execution_count": null,
   "id": "e7725021",
   "metadata": {},
   "outputs": [
    {
     "data": {
      "image/png": "[encoded data removed]",
      "text/plain": [
       "<Figure size 1400x800 with 1 Axes>"
      ]
     },
     "metadata": {},
     "output_type": "display_data"
    }
   ],
   "source": [
    "import pandas as pd\n",
    "import matplotlib.pyplot as plt\n",
    "from matplotlib.ticker import FuncFormatter\n",
    "\n",
    "data = pd.read_excel(\"data/Antalet studerande i YH inom olika utbildningsområden 2012-2024.xlsx\")\n",
    "\n",
    "# Om nödvändigt, konvertera 'År' till strängar för enklare x-axel hantering\n",
    "data[\"År\"] = data[\"År\"].astype(str)\n",
    "\n",
    "# Välj intressanta områden för storytelling\n",
    "selected_fields = [\n",
    "    \"Data/It\", \n",
    "    \"Ekonomi, administration och försäljning\"\n",
    "]\n",
    "\n",
    "# Skapa grafen\n",
    "plt.figure(figsize=(14, 8))\n",
    "for field in selected_fields:\n",
    "    plt.plot(data[\"År\"], data[field], label=field, linewidth=2)\n",
    "\n",
    "# Storytelling-annotationer\n",
    "plt.annotate(\n",
    "    \"Snabb ökning efter 2019 inom Data/It\", \n",
    "    xy=(\"2019\", data.loc[data[\"År\"] == \"2019\", \"Data/It\"].values[0]),\n",
    "    xytext=(\"2020\", 9000),\n",
    "    arrowprops=dict(arrowstyle=\"->\", lw=1.5), \n",
    "    fontsize=11, color=\"blue\"\n",
    ")\n",
    "\n",
    "plt.annotate(\"Högt antal studerande inom Ekonomi\\n administration och försäljning\",\n",
    "    xy=(\"2019\", data.loc[data[\"År\"] == \"2024\", \"Ekonomi, administration och försäljning\"].values[0]),\n",
    "    xytext=(\"2014\", 18000),\n",
    "    arrowprops=dict(arrowstyle=\"->\", lw=1.5), \n",
    "    fontsize=11, color=\"orange\")\n",
    "\n",
    "# storytelling text \n",
    "plt.text(\n",
    "    0, 1.05,\n",
    "    s=(\n",
    "        \"Vi ser en tydlig ökning i antalet studerande inom Data/It under perioden 2019–2021.\\n\"\n",
    "        \"Ökningen speglar ett växande behov av IT-kompetens i samhället samt att\\n\" \n",
    "        \"utbildningssystem anpassar sig till förändrade krav på arbetsmarknaden/teknologiska framsteg.\"\n",
    "    ),\n",
    "    fontsize=17,\n",
    "    ha='left', va='bottom',\n",
    "    color='#404040',\n",
    "    transform=plt.gca().transAxes\n",
    ")\n",
    "\n",
    "#Tick design \n",
    "plt.xticks(rotation=45)\n",
    "plt.gca().tick_params(axis='both', which='major', labelsize=13, labelcolor='dimgray')#  major tick labels\n",
    "plt.gca().tick_params(axis='both', which='major', color='lightgray', length=6)#  major ticks color and size\n",
    "\n",
    "# Format y-axis ticks to display in 'k'\n",
    "formatter = FuncFormatter(lambda x, _: f\"{int(x/1000)}k\" if x >= 1000 else str(int(x)))\n",
    "plt.gca().yaxis.set_major_formatter(formatter)\n",
    "\n",
    "\n",
    "# Remove right and top spines\n",
    "for spine in ['right', 'top']:\n",
    "    plt.gca().spines[spine].set_visible(False)\n",
    "# Set the remaining spines (left and bottom) to lighter gray\n",
    "for spine in ['left', 'bottom']:\n",
    "    plt.gca().spines[spine].set_color('lightgray')\n",
    "    \n",
    "\n",
    "plt.grid(False)\n",
    "plt.tight_layout()\n",
    "\n",
    "plt.savefig(\"figures/storytelling_Data_It.png\")\n",
    "plt.show()\n"
   ]
  },
  {
   "cell_type": "markdown",
   "id": "0d65b109",
   "metadata": {},
   "source": [
    "## Pie chart"
   ]
  },
  {
   "cell_type": "code",
   "execution_count": 508,
   "id": "be69ccce",
   "metadata": {},
   "outputs": [
    {
     "data": {
      "application/vnd.plotly.v1+json": {
       "config": {
        "plotlyServerURL": "https://plot.ly"
       },
       "data": [
        {
         "domain": {
          "x": [
           0,
           1
          ],
          "y": [
           0,
           1
          ]
         },
         "hole": 0.2,
         "hovertemplate": "Utbildningsområde=%{label}<br>Antal=%{value}<extra></extra>",
         "labels": [
          "Ekonomi, administration och försäljning",
          "Data/IT",
          "Teknik och tillverkning",
          "Samhällsbyggnad och byggteknik",
          "Hälso- och sjukvård samt socialt arbete",
          "Hotell, restaurang och turism",
          "Lantbruk, djurvård, trädgård, skog och fiske",
          "Pedagogik och undervisning"
         ],
         "legendgroup": "",
         "name": "",
         "showlegend": true,
         "textfont": {
          "color": "white",
          "family": "Arial Black",
          "size": 16
         },
         "textinfo": "percent",
         "textposition": "inside",
         "type": "pie",
         "values": {
          "bdata": "bUlGQDgPDgw=",
          "dtype": "i1"
         }
        }
       ],
       "layout": {
        "legend": {
         "tracegroupgap": 0
        },
        "piecolorway": [
         "#27C557",
         "#39B8E4",
         "#057DA8",
         "#61BDB3",
         "#2141ab",
         "#D0E89F",
         "#E09048"
        ],
        "template": {
         "data": {
          "bar": [
           {
            "error_x": {
             "color": "#2a3f5f"
            },
            "error_y": {
             "color": "#2a3f5f"
            },
            "marker": {
             "line": {
              "color": "#E5ECF6",
              "width": 0.5
             },
             "pattern": {
              "fillmode": "overlay",
              "size": 10,
              "solidity": 0.2
             }
            },
            "type": "bar"
           }
          ],
          "barpolar": [
           {
            "marker": {
             "line": {
              "color": "#E5ECF6",
              "width": 0.5
             },
             "pattern": {
              "fillmode": "overlay",
              "size": 10,
              "solidity": 0.2
             }
            },
            "type": "barpolar"
           }
          ],
          "carpet": [
           {
            "aaxis": {
             "endlinecolor": "#2a3f5f",
             "gridcolor": "white",
             "linecolor": "white",
             "minorgridcolor": "white",
             "startlinecolor": "#2a3f5f"
            },
            "baxis": {
             "endlinecolor": "#2a3f5f",
             "gridcolor": "white",
             "linecolor": "white",
             "minorgridcolor": "white",
             "startlinecolor": "#2a3f5f"
            },
            "type": "carpet"
           }
          ],
          "choropleth": [
           {
            "colorbar": {
             "outlinewidth": 0,
             "ticks": ""
            },
            "type": "choropleth"
           }
          ],
          "contour": [
           {
            "colorbar": {
             "outlinewidth": 0,
             "ticks": ""
            },
            "colorscale": [
             [
              0,
              "#0d0887"
             ],
             [
              0.1111111111111111,
              "#46039f"
             ],
             [
              0.2222222222222222,
              "#7201a8"
             ],
             [
              0.3333333333333333,
              "#9c179e"
             ],
             [
              0.4444444444444444,
              "#bd3786"
             ],
             [
              0.5555555555555556,
              "#d8576b"
             ],
             [
              0.6666666666666666,
              "#ed7953"
             ],
             [
              0.7777777777777778,
              "#fb9f3a"
             ],
             [
              0.8888888888888888,
              "#fdca26"
             ],
             [
              1,
              "#f0f921"
             ]
            ],
            "type": "contour"
           }
          ],
          "contourcarpet": [
           {
            "colorbar": {
             "outlinewidth": 0,
             "ticks": ""
            },
            "type": "contourcarpet"
           }
          ],
          "heatmap": [
           {
            "colorbar": {
             "outlinewidth": 0,
             "ticks": ""
            },
            "colorscale": [
             [
              0,
              "#0d0887"
             ],
             [
              0.1111111111111111,
              "#46039f"
             ],
             [
              0.2222222222222222,
              "#7201a8"
             ],
             [
              0.3333333333333333,
              "#9c179e"
             ],
             [
              0.4444444444444444,
              "#bd3786"
             ],
             [
              0.5555555555555556,
              "#d8576b"
             ],
             [
              0.6666666666666666,
              "#ed7953"
             ],
             [
              0.7777777777777778,
              "#fb9f3a"
             ],
             [
              0.8888888888888888,
              "#fdca26"
             ],
             [
              1,
              "#f0f921"
             ]
            ],
            "type": "heatmap"
           }
          ],
          "histogram": [
           {
            "marker": {
             "pattern": {
              "fillmode": "overlay",
              "size": 10,
              "solidity": 0.2
             }
            },
            "type": "histogram"
           }
          ],
          "histogram2d": [
           {
            "colorbar": {
             "outlinewidth": 0,
             "ticks": ""
            },
            "colorscale": [
             [
              0,
              "#0d0887"
             ],
             [
              0.1111111111111111,
              "#46039f"
             ],
             [
              0.2222222222222222,
              "#7201a8"
             ],
             [
              0.3333333333333333,
              "#9c179e"
             ],
             [
              0.4444444444444444,
              "#bd3786"
             ],
             [
              0.5555555555555556,
              "#d8576b"
             ],
             [
              0.6666666666666666,
              "#ed7953"
             ],
             [
              0.7777777777777778,
              "#fb9f3a"
             ],
             [
              0.8888888888888888,
              "#fdca26"
             ],
             [
              1,
              "#f0f921"
             ]
            ],
            "type": "histogram2d"
           }
          ],
          "histogram2dcontour": [
           {
            "colorbar": {
             "outlinewidth": 0,
             "ticks": ""
            },
            "colorscale": [
             [
              0,
              "#0d0887"
             ],
             [
              0.1111111111111111,
              "#46039f"
             ],
             [
              0.2222222222222222,
              "#7201a8"
             ],
             [
              0.3333333333333333,
              "#9c179e"
             ],
             [
              0.4444444444444444,
              "#bd3786"
             ],
             [
              0.5555555555555556,
              "#d8576b"
             ],
             [
              0.6666666666666666,
              "#ed7953"
             ],
             [
              0.7777777777777778,
              "#fb9f3a"
             ],
             [
              0.8888888888888888,
              "#fdca26"
             ],
             [
              1,
              "#f0f921"
             ]
            ],
            "type": "histogram2dcontour"
           }
          ],
          "mesh3d": [
           {
            "colorbar": {
             "outlinewidth": 0,
             "ticks": ""
            },
            "type": "mesh3d"
           }
          ],
          "parcoords": [
           {
            "line": {
             "colorbar": {
              "outlinewidth": 0,
              "ticks": ""
             }
            },
            "type": "parcoords"
           }
          ],
          "pie": [
           {
            "automargin": true,
            "type": "pie"
           }
          ],
          "scatter": [
           {
            "fillpattern": {
             "fillmode": "overlay",
             "size": 10,
             "solidity": 0.2
            },
            "type": "scatter"
           }
          ],
          "scatter3d": [
           {
            "line": {
             "colorbar": {
              "outlinewidth": 0,
              "ticks": ""
             }
            },
            "marker": {
             "colorbar": {
              "outlinewidth": 0,
              "ticks": ""
             }
            },
            "type": "scatter3d"
           }
          ],
          "scattercarpet": [
           {
            "marker": {
             "colorbar": {
              "outlinewidth": 0,
              "ticks": ""
             }
            },
            "type": "scattercarpet"
           }
          ],
          "scattergeo": [
           {
            "marker": {
             "colorbar": {
              "outlinewidth": 0,
              "ticks": ""
             }
            },
            "type": "scattergeo"
           }
          ],
          "scattergl": [
           {
            "marker": {
             "colorbar": {
              "outlinewidth": 0,
              "ticks": ""
             }
            },
            "type": "scattergl"
           }
          ],
          "scattermap": [
           {
            "marker": {
             "colorbar": {
              "outlinewidth": 0,
              "ticks": ""
             }
            },
            "type": "scattermap"
           }
          ],
          "scattermapbox": [
           {
            "marker": {
             "colorbar": {
              "outlinewidth": 0,
              "ticks": ""
             }
            },
            "type": "scattermapbox"
           }
          ],
          "scatterpolar": [
           {
            "marker": {
             "colorbar": {
              "outlinewidth": 0,
              "ticks": ""
             }
            },
            "type": "scatterpolar"
           }
          ],
          "scatterpolargl": [
           {
            "marker": {
             "colorbar": {
              "outlinewidth": 0,
              "ticks": ""
             }
            },
            "type": "scatterpolargl"
           }
          ],
          "scatterternary": [
           {
            "marker": {
             "colorbar": {
              "outlinewidth": 0,
              "ticks": ""
             }
            },
            "type": "scatterternary"
           }
          ],
          "surface": [
           {
            "colorbar": {
             "outlinewidth": 0,
             "ticks": ""
            },
            "colorscale": [
             [
              0,
              "#0d0887"
             ],
             [
              0.1111111111111111,
              "#46039f"
             ],
             [
              0.2222222222222222,
              "#7201a8"
             ],
             [
              0.3333333333333333,
              "#9c179e"
             ],
             [
              0.4444444444444444,
              "#bd3786"
             ],
             [
              0.5555555555555556,
              "#d8576b"
             ],
             [
              0.6666666666666666,
              "#ed7953"
             ],
             [
              0.7777777777777778,
              "#fb9f3a"
             ],
             [
              0.8888888888888888,
              "#fdca26"
             ],
             [
              1,
              "#f0f921"
             ]
            ],
            "type": "surface"
           }
          ],
          "table": [
           {
            "cells": {
             "fill": {
              "color": "#EBF0F8"
             },
             "line": {
              "color": "white"
             }
            },
            "header": {
             "fill": {
              "color": "#C8D4E3"
             },
             "line": {
              "color": "white"
             }
            },
            "type": "table"
           }
          ]
         },
         "layout": {
          "annotationdefaults": {
           "arrowcolor": "#2a3f5f",
           "arrowhead": 0,
           "arrowwidth": 1
          },
          "autotypenumbers": "strict",
          "coloraxis": {
           "colorbar": {
            "outlinewidth": 0,
            "ticks": ""
           }
          },
          "colorscale": {
           "diverging": [
            [
             0,
             "#8e0152"
            ],
            [
             0.1,
             "#c51b7d"
            ],
            [
             0.2,
             "#de77ae"
            ],
            [
             0.3,
             "#f1b6da"
            ],
            [
             0.4,
             "#fde0ef"
            ],
            [
             0.5,
             "#f7f7f7"
            ],
            [
             0.6,
             "#e6f5d0"
            ],
            [
             0.7,
             "#b8e186"
            ],
            [
             0.8,
             "#7fbc41"
            ],
            [
             0.9,
             "#4d9221"
            ],
            [
             1,
             "#276419"
            ]
           ],
           "sequential": [
            [
             0,
             "#0d0887"
            ],
            [
             0.1111111111111111,
             "#46039f"
            ],
            [
             0.2222222222222222,
             "#7201a8"
            ],
            [
             0.3333333333333333,
             "#9c179e"
            ],
            [
             0.4444444444444444,
             "#bd3786"
            ],
            [
             0.5555555555555556,
             "#d8576b"
            ],
            [
             0.6666666666666666,
             "#ed7953"
            ],
            [
             0.7777777777777778,
             "#fb9f3a"
            ],
            [
             0.8888888888888888,
             "#fdca26"
            ],
            [
             1,
             "#f0f921"
            ]
           ],
           "sequentialminus": [
            [
             0,
             "#0d0887"
            ],
            [
             0.1111111111111111,
             "#46039f"
            ],
            [
             0.2222222222222222,
             "#7201a8"
            ],
            [
             0.3333333333333333,
             "#9c179e"
            ],
            [
             0.4444444444444444,
             "#bd3786"
            ],
            [
             0.5555555555555556,
             "#d8576b"
            ],
            [
             0.6666666666666666,
             "#ed7953"
            ],
            [
             0.7777777777777778,
             "#fb9f3a"
            ],
            [
             0.8888888888888888,
             "#fdca26"
            ],
            [
             1,
             "#f0f921"
            ]
           ]
          },
          "colorway": [
           "#636efa",
           "#EF553B",
           "#00cc96",
           "#ab63fa",
           "#FFA15A",
           "#19d3f3",
           "#FF6692",
           "#B6E880",
           "#FF97FF",
           "#FECB52"
          ],
          "font": {
           "color": "#2a3f5f"
          },
          "geo": {
           "bgcolor": "white",
           "lakecolor": "white",
           "landcolor": "#E5ECF6",
           "showlakes": true,
           "showland": true,
           "subunitcolor": "white"
          },
          "hoverlabel": {
           "align": "left"
          },
          "hovermode": "closest",
          "mapbox": {
           "style": "light"
          },
          "paper_bgcolor": "white",
          "plot_bgcolor": "#E5ECF6",
          "polar": {
           "angularaxis": {
            "gridcolor": "white",
            "linecolor": "white",
            "ticks": ""
           },
           "bgcolor": "#E5ECF6",
           "radialaxis": {
            "gridcolor": "white",
            "linecolor": "white",
            "ticks": ""
           }
          },
          "scene": {
           "xaxis": {
            "backgroundcolor": "#E5ECF6",
            "gridcolor": "white",
            "gridwidth": 2,
            "linecolor": "white",
            "showbackground": true,
            "ticks": "",
            "zerolinecolor": "white"
           },
           "yaxis": {
            "backgroundcolor": "#E5ECF6",
            "gridcolor": "white",
            "gridwidth": 2,
            "linecolor": "white",
            "showbackground": true,
            "ticks": "",
            "zerolinecolor": "white"
           },
           "zaxis": {
            "backgroundcolor": "#E5ECF6",
            "gridcolor": "white",
            "gridwidth": 2,
            "linecolor": "white",
            "showbackground": true,
            "ticks": "",
            "zerolinecolor": "white"
           }
          },
          "shapedefaults": {
           "line": {
            "color": "#2a3f5f"
           }
          },
          "ternary": {
           "aaxis": {
            "gridcolor": "white",
            "linecolor": "white",
            "ticks": ""
           },
           "baxis": {
            "gridcolor": "white",
            "linecolor": "white",
            "ticks": ""
           },
           "bgcolor": "#E5ECF6",
           "caxis": {
            "gridcolor": "white",
            "linecolor": "white",
            "ticks": ""
           }
          },
          "title": {
           "x": 0.05
          },
          "xaxis": {
           "automargin": true,
           "gridcolor": "white",
           "linecolor": "white",
           "ticks": "",
           "title": {
            "standoff": 15
           },
           "zerolinecolor": "white",
           "zerolinewidth": 2
          },
          "yaxis": {
           "automargin": true,
           "gridcolor": "white",
           "linecolor": "white",
           "ticks": "",
           "title": {
            "standoff": 15
           },
           "zerolinecolor": "white",
           "zerolinewidth": 2
          }
         }
        },
        "title": {
         "text": "Topp 8 beviljade utbildningsområden"
        }
       }
      }
     },
     "metadata": {},
     "output_type": "display_data"
    }
   ],
   "source": [
    "import pandas as pd\n",
    "import plotly.express as px\n",
    "\n",
    "# Läs in data och ta bort tomma rader i \"Utbildningsområde\"\n",
    "df = pd.read_excel(\"data/resultat-2024-for-kurser-inom-yh (1).xlsx\")\n",
    "df = df.dropna(subset=[\"Utbildningsområde\"])\n",
    "\n",
    "blue_colors = [\n",
    "    \"#27C557\",\n",
    "    \"#39B8E4\",\n",
    "    \"#057DA8\",\n",
    "    \"#61BDB3\",\n",
    "    \"#2141ab\",\n",
    "    \"#D0E89F\",\n",
    "    \"#E09048\"\n",
    "\n",
    "]\n",
    "\n",
    "# Filtrera så att vi bara tittar på 'Beviljad'\n",
    "df_beviljad = df[df[\"Beslut\"] == \"Beviljad\"]\n",
    "\n",
    "# Räkna antal per utbildningsområde bland beviljade\n",
    "fördelning_beviljad = df_beviljad[\"Utbildningsområde\"].value_counts().reset_index()\n",
    "fördelning_beviljad.columns = [\"Utbildningsområde\", \"Antal\"]\n",
    "\n",
    "# Sortera och välj topp 8 utbildningsområden med flest beviljade\n",
    "top_8_beviljade = fördelning_beviljad.sort_values(by=\"Antal\", ascending=False).head(8)\n",
    "\n",
    "# Rita pie chart med procentandelar av beviljade\n",
    "fig = px.pie(\n",
    "    top_8_beviljade,\n",
    "    names=\"Utbildningsområde\",\n",
    "    values=\"Antal\",\n",
    "    title=\"Topp 8 beviljade utbildningsområden\",\n",
    "    hole=0.2,\n",
    "    color_discrete_sequence=blue_colors\n",
    ")\n",
    "\n",
    "fig.update_traces(\n",
    "    textinfo='percent',\n",
    "    textfont=dict(size=16, color='white', family='Arial Black')\n",
    ")\n",
    "\n",
    "fig.update_traces(textposition='inside', textinfo='percent')\n",
    "fig.show()\n"
   ]
  }
 ],
 "metadata": {
  "kernelspec": {
   "display_name": "venv",
   "language": "python",
   "name": "python3"
  },
  "language_info": {
   "codemirror_mode": {
    "name": "ipython",
    "version": 3
   },
   "file_extension": ".py",
   "mimetype": "text/x-python",
   "name": "python",
   "nbconvert_exporter": "python",
   "pygments_lexer": "ipython3",
   "version": "3.12.5"
  }
 },
 "nbformat": 4,
 "nbformat_minor": 5
}
